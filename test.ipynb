{
 "cells": [
  {
   "cell_type": "code",
   "execution_count": 114,
   "metadata": {},
   "outputs": [],
   "source": [
    "import xmltodict, json, feedparser\n",
    "from urllib.request import urlopen\n",
    "from bs4 import BeautifulSoup\n",
    "from selenium import webdriver\n",
    "from webdriver_manager.chrome import ChromeDriverManager\n",
    "from selenium.webdriver.chrome.options import Options\n",
    "import time, re\n",
    "import pandas as pd\n",
    "from collections import defaultdict\n",
    "import json"
   ]
  },
  {
   "cell_type": "code",
   "execution_count": 153,
   "metadata": {},
   "outputs": [],
   "source": [
    "companyName = '파크시스'\n",
    "title = '기업설명회(IR)'\n",
    "# html = urlopen('https://dart.fss.or.kr/dsaf001/main.do?rcpNo=20220823900266')\n",
    "# bsObj = BeautifulSoup(html, 'html.parser')\n",
    "\n",
    "# driver = webdriver.Chrome(ChromeDriverManager().install())\n",
    "option = Options()\n",
    "option.add_argument('headless')\n",
    "driver = webdriver.Chrome(options=option)\n",
    "driver.get('https://dart.fss.or.kr/dsaf001/main.do?rcpNo=20220823900266')\n",
    "# time.sleep(2)\n",
    "html_source = driver.page_source\n",
    "\n",
    "rcpNo = re.findall(r\"openPdfDownload\\('(.*?)', '\", html_source)\n",
    "dcmNo = re.findall(r\"', '(.*?)'\\);\", html_source)\n",
    "\n",
    "# url이 있어야 read_html을 통해 table 가져올 수 있다\n",
    "frame_url = 'https://dart.fss.or.kr/report/viewer.do?rcpNo=' + rcpNo[0] + '&dcmNo=' + dcmNo[2][0:7] + '&eleId=' + '0' + '&offset=' + '0' + '&length=' + '0' + '&dtd=HTML'\n",
    "\n",
    "table_ifrm = pd.read_html(frame_url, index_col=0)#, header=None)\n",
    "\n",
    "# table_ifrm[0]\n",
    "# date = defaultdict(dict)\n",
    "# event = defaultdict(dict)\n",
    "\n",
    "for index, row in table_ifrm[0].iterrows():\n",
    "  if '목적' in index:\n",
    "    event[companyName] = [title, row[2]]\n",
    "for index, row in table_ifrm[0].iterrows():\n",
    "  if '일시' in index:\n",
    "    if '20' in row[2]:\n",
    "      date[row[2]] = event\n",
    "    \n",
    "a = date['2022-08-24'][companyName]\n",
    "date\n",
    "\n",
    "with open('calendarDB.json', 'w', encoding='utf-8') as db:\n",
    "  json.dump(date, db, ensure_ascii=False)\n",
    "\n",
    "# date['행사일']\n",
    "# for key,val in event.items():\n",
    "#     if key in d:\n",
    "#         d[key] = [d[key],val]\n",
    "\n",
    "# event[1].append\n",
    "# table_ifrm[0].loc['1.일시', '2']\n"
   ]
  },
  {
   "cell_type": "code",
   "execution_count": 26,
   "metadata": {},
   "outputs": [
    {
     "data": {
      "text/plain": [
       "{'title': '(코스닥)에스트래픽 - 주주명부폐쇄기간또는기준일설정',\n",
       " 'title_detail': {'type': 'text/plain',\n",
       "  'language': None,\n",
       "  'base': 'https://dart.fss.or.kr/api/todayRSS.xml',\n",
       "  'value': '(코스닥)에스트래픽 - 주주명부폐쇄기간또는기준일설정'},\n",
       " 'links': [{'rel': 'alternate',\n",
       "   'type': 'text/html',\n",
       "   'href': 'http://dart.fss.or.kr/api/link.jsp?rcpNo=20220823900466'}],\n",
       " 'link': 'http://dart.fss.or.kr/api/link.jsp?rcpNo=20220823900466',\n",
       " 'tags': [{'term': '코스닥', 'scheme': None, 'label': None}],\n",
       " 'published': 'Tue, 23 Aug 2022 09:16:00 GMT',\n",
       " 'published_parsed': time.struct_time(tm_year=2022, tm_mon=8, tm_mday=23, tm_hour=9, tm_min=16, tm_sec=0, tm_wday=1, tm_yday=235, tm_isdst=0),\n",
       " 'id': 'http://dart.fss.or.kr/api/link.jsp?rcpNo=20220823900466',\n",
       " 'guidislink': False,\n",
       " 'authors': [{'name': '에스트래픽'}],\n",
       " 'author': '에스트래픽',\n",
       " 'author_detail': {'name': '에스트래픽'},\n",
       " 'updated': '2022-08-23T09:16:00Z',\n",
       " 'updated_parsed': time.struct_time(tm_year=2022, tm_mon=8, tm_mday=23, tm_hour=9, tm_min=16, tm_sec=0, tm_wday=1, tm_yday=235, tm_isdst=0)}"
      ]
     },
     "execution_count": 26,
     "metadata": {},
     "output_type": "execute_result"
    }
   ],
   "source": [
    "rss_info = feedparser.parse('http://dart.fss.or.kr/api/todayRSS.xml')\n",
    "disclosureList = rss_info['entries']\n",
    "disclosureList[0]"
   ]
  },
  {
   "cell_type": "code",
   "execution_count": null,
   "metadata": {},
   "outputs": [],
   "source": []
  },
  {
   "cell_type": "code",
   "execution_count": 11,
   "metadata": {},
   "outputs": [
    {
     "ename": "OSError",
     "evalue": "[Errno 22] Invalid argument: 'https://dart.fss.or.kr/api/todayRSS.xml'",
     "output_type": "error",
     "traceback": [
      "\u001b[1;31m---------------------------------------------------------------------------\u001b[0m",
      "\u001b[1;31mOSError\u001b[0m                                   Traceback (most recent call last)",
      "\u001b[1;32mc:\\김한솔\\projects\\stock-calendar\\test.ipynb 셀 2\u001b[0m in \u001b[0;36m<cell line: 1>\u001b[1;34m()\u001b[0m\n\u001b[1;32m----> <a href='vscode-notebook-cell:/c%3A/%EA%B9%80%ED%95%9C%EC%86%94/projects/stock-calendar/test.ipynb#W3sZmlsZQ%3D%3D?line=0'>1</a>\u001b[0m \u001b[39mwith\u001b[39;00m \u001b[39mopen\u001b[39;49m(\u001b[39m'\u001b[39;49m\u001b[39mhttps://dart.fss.or.kr/api/todayRSS.xml\u001b[39;49m\u001b[39m'\u001b[39;49m) \u001b[39mas\u001b[39;00m dx:\n\u001b[0;32m      <a href='vscode-notebook-cell:/c%3A/%EA%B9%80%ED%95%9C%EC%86%94/projects/stock-calendar/test.ipynb#W3sZmlsZQ%3D%3D?line=1'>2</a>\u001b[0m   doc \u001b[39m=\u001b[39m xmltodict\u001b[39m.\u001b[39mparse(dx\u001b[39m.\u001b[39mread())\n\u001b[0;32m      <a href='vscode-notebook-cell:/c%3A/%EA%B9%80%ED%95%9C%EC%86%94/projects/stock-calendar/test.ipynb#W3sZmlsZQ%3D%3D?line=3'>4</a>\u001b[0m doc\n",
      "\u001b[1;31mOSError\u001b[0m: [Errno 22] Invalid argument: 'https://dart.fss.or.kr/api/todayRSS.xml'"
     ]
    }
   ],
   "source": [
    "with open('http://dart.fss.or.kr/api/todayRSS.xml') as dx:\n",
    "  doc = xmltodict.parse(dx.read())\n",
    "\n",
    "doc"
   ]
  },
  {
   "cell_type": "code",
   "execution_count": null,
   "metadata": {},
   "outputs": [
    {
     "name": "stdout",
     "output_type": "stream",
     "text": [
      "hello again\n"
     ]
    }
   ],
   "source": [
    "print('hello again')"
   ]
  }
 ],
 "metadata": {
  "kernelspec": {
   "display_name": "Python 3.10.6 64-bit (windows store)",
   "language": "python",
   "name": "python3"
  },
  "language_info": {
   "codemirror_mode": {
    "name": "ipython",
    "version": 3
   },
   "file_extension": ".py",
   "mimetype": "text/x-python",
   "name": "python",
   "nbconvert_exporter": "python",
   "pygments_lexer": "ipython3",
   "version": "3.10.6"
  },
  "orig_nbformat": 4,
  "vscode": {
   "interpreter": {
    "hash": "7b1f2b33e866b0bf2409397e5f58ba9cdf170d3b7f64c8f359c79998e2f88ad4"
   }
  }
 },
 "nbformat": 4,
 "nbformat_minor": 2
}
