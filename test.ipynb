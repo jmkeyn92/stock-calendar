{
 "cells": [
  {
   "cell_type": "code",
   "execution_count": 114,
   "metadata": {},
   "outputs": [],
   "source": [
    "import xmltodict, json, feedparser\n",
    "from urllib.request import urlopen\n",
    "from bs4 import BeautifulSoup\n",
    "from selenium import webdriver\n",
    "from webdriver_manager.chrome import ChromeDriverManager\n",
    "from selenium.webdriver.chrome.options import Options\n",
    "import time, re\n",
    "import pandas as pd\n",
    "from collections import defaultdict\n",
    "import json"
   ]
  },
  {
   "cell_type": "code",
   "execution_count": 163,
   "metadata": {},
   "outputs": [
    {
     "data": {
      "text/html": [
       "<div>\n",
       "<style scoped>\n",
       "    .dataframe tbody tr th:only-of-type {\n",
       "        vertical-align: middle;\n",
       "    }\n",
       "\n",
       "    .dataframe tbody tr th {\n",
       "        vertical-align: top;\n",
       "    }\n",
       "\n",
       "    .dataframe thead th {\n",
       "        text-align: right;\n",
       "    }\n",
       "</style>\n",
       "<table border=\"1\" class=\"dataframe\">\n",
       "  <thead>\n",
       "    <tr style=\"text-align: right;\">\n",
       "      <th></th>\n",
       "      <th>파크시스템스</th>\n",
       "      <th>파크시스템</th>\n",
       "      <th>파크시스</th>\n",
       "      <th>삼성전자</th>\n",
       "      <th>현대차</th>\n",
       "      <th>기아</th>\n",
       "    </tr>\n",
       "  </thead>\n",
       "  <tbody>\n",
       "    <tr>\n",
       "      <th>2022-08-24</th>\n",
       "      <td>[기업설명회(IR)개최, 반기실적 및 경영현황 업데이트]</td>\n",
       "      <td>[기업설명회(IR)개, 반기실적 및 경영현황 업데이트]</td>\n",
       "      <td>[기업설명회(IR), 반기실적 및 경영현황 업데이트]</td>\n",
       "      <td>NaN</td>\n",
       "      <td>NaN</td>\n",
       "      <td>NaN</td>\n",
       "    </tr>\n",
       "    <tr>\n",
       "      <th>2022-08-25</th>\n",
       "      <td>NaN</td>\n",
       "      <td>NaN</td>\n",
       "      <td>NaN</td>\n",
       "      <td>[기업설명회(IR)개최, 반기실적 및 경영현황 업데이트]</td>\n",
       "      <td>[기업설명회(IR)개, 반기실적 및 경영현황 업데이트]</td>\n",
       "      <td>[기업설명회(IR), 반기실적 및 경영현황 업데이트]</td>\n",
       "    </tr>\n",
       "  </tbody>\n",
       "</table>\n",
       "</div>"
      ],
      "text/plain": [
       "                                     파크시스템스                           파크시스템  \\\n",
       "2022-08-24  [기업설명회(IR)개최, 반기실적 및 경영현황 업데이트]  [기업설명회(IR)개, 반기실적 및 경영현황 업데이트]   \n",
       "2022-08-25                              NaN                             NaN   \n",
       "\n",
       "                                     파크시스                             삼성전자  \\\n",
       "2022-08-24  [기업설명회(IR), 반기실적 및 경영현황 업데이트]                              NaN   \n",
       "2022-08-25                            NaN  [기업설명회(IR)개최, 반기실적 및 경영현황 업데이트]   \n",
       "\n",
       "                                       현대차                             기아  \n",
       "2022-08-24                             NaN                            NaN  \n",
       "2022-08-25  [기업설명회(IR)개, 반기실적 및 경영현황 업데이트]  [기업설명회(IR), 반기실적 및 경영현황 업데이트]  "
      ]
     },
     "execution_count": 163,
     "metadata": {},
     "output_type": "execute_result"
    }
   ],
   "source": [
    "df = pd.read_json('calendarDB.json', orient='index')\n",
    "df"
   ]
  },
  {
   "cell_type": "code",
   "execution_count": null,
   "metadata": {},
   "outputs": [],
   "source": [
    "def makeCalendar():\n",
    "  \n",
    "  while True:\n",
    "    \n",
    "    class BreakIt(Exception): pass\n",
    "    df = pd.read_csv('blogRss_list.csv', index_col=0)\n",
    "    \n",
    "    for address in df['address']:\n",
    "      rss_info = feedparser.parse(address) # 문법적으로 분석해서 사전으로 만듦\n",
    "      disclosure_list = rss_info['entries']\n",
    "\n",
    "      try:\n",
    "        for disclosure in disclosure_list:\n",
    "          link = disclosure['link']\n",
    "\n",
    "          with open('./blogRss_dr.csv', 'r', encoding='utf-8-sig') as f: \n",
    "            reader = csv.reader(f, delimiter=',', quoting=csv.QUOTE_NONE) \n",
    "            for line in reader:\n",
    "              line = ''.join(line) # .strip() -> ['https://blog.naver.com/jeunkim/222819001533'] 에서 [''] 삭제\n",
    "              if line == link:\n",
    "                print('중복입니다!')\n",
    "                raise BreakIt\n",
    "              else:\n",
    "                continue  #Loop를 계속 돌려서 중복이 모든 line에 없으면 아래로 이동\n",
    "                \n",
    "            bot.send_message(chat_id=CHAT_ID, text=link)  ##새로운 블로그 추가할 때 주석처리\n",
    "            bot2.sendMessage(chat_id='@DART_bok', text=link) ##테스트할 때 항상 주석처리\n",
    "            print('항목 추가 완료')\n",
    "\n",
    "\n",
    "\n",
    "\n",
    "          with open('./blogRss_dr.csv', 'a', encoding='utf-8-sig') as f: \n",
    "            f.write(link + '\\n')\n",
    "            f.close()\n",
    "\n",
    "\n",
    "      except BreakIt:\n",
    "        pass\n",
    "\n",
    "    print(datetime.now())\n",
    "    print('----------------------------------------------------------')\n",
    "    time.sleep(600)\n",
    "        \n",
    "\n",
    "for i in range(1, 100):\n",
    "  try:\n",
    "    blogRss()\n",
    "  except Exception as e:\n",
    "    print(e)\n",
    "    print('restarting')\n",
    "    continue\n",
    "  else:\n",
    "    break"
   ]
  },
  {
   "cell_type": "code",
   "execution_count": 231,
   "metadata": {},
   "outputs": [
    {
     "data": {
      "text/plain": [
       "{('2022-08-17', '3241', 'test3'), ('2022-08-24', '파크시스', '반기실적 및 경영현황 업데이트')}"
      ]
     },
     "execution_count": 231,
     "metadata": {},
     "output_type": "execute_result"
    }
   ],
   "source": [
    "with open('calendarDB.json', encoding='utf-8') as db:\n",
    "    res = json.load(db)\n",
    "\n",
    "\n",
    "seen = ((date, res[date]['기업명'], res[date]['내용']) for date in res.keys())\n",
    "# seen = (date for date in list(res.keys()))\n",
    "set(seen)"
   ]
  },
  {
   "cell_type": "code",
   "execution_count": 242,
   "metadata": {},
   "outputs": [
    {
     "name": "stdout",
     "output_type": "stream",
     "text": [
      "{'2022-08-24': {'기업명': '파크시스', '내용': '반기실적 및 경영현황 업데이트'}, '2022-08-17': {'기업명': '3241', '내용': 'test3'}, '2022-09-06': {'기업명': '파라다이스', '내용': '국내 기관투자자와의 커뮤니케이션'}}\n",
      "{'2022-08-24': {'기업명': '파크시스', '내용': '반기실적 및 경영현황 업데이트'}, '2022-08-17': {'기업명': '3241', '내용': 'test3'}, '2022-09-06': {'기업명': 'CJ ENM', '내용': 'KB Korea Conference 2022'}}\n"
     ]
    },
    {
     "data": {
      "text/plain": [
       "{('2022-08-17', '3241', 'test3'),\n",
       " ('2022-08-24', '파크시스', '반기실적 및 경영현황 업데이트'),\n",
       " ('2022-09-06', 'CJ ENM', 'KB Korea Conference 2022'),\n",
       " ('2022-09-06', '파라다이스', '국내 기관투자자와의 커뮤니케이션')}"
      ]
     },
     "execution_count": 242,
     "metadata": {},
     "output_type": "execute_result"
    }
   ],
   "source": [
    "companyName = 'CJ ENM'\n",
    "title = '기업설명회(IR)'\n",
    "# html = urlopen('https://dart.fss.or.kr/dsaf001/main.do?rcpNo=20220823900266')\n",
    "# bsObj = BeautifulSoup(html, 'html.parser')\n",
    "\n",
    "# driver = webdriver.Chrome(ChromeDriverManager().install())\n",
    "option = Options()\n",
    "option.add_argument('headless')\n",
    "driver = webdriver.Chrome(options=option)\n",
    "driver.get('https://dart.fss.or.kr/dsaf001/main.do?rcpNo=20220902900153')\n",
    "# time.sleep(2)\n",
    "html_source = driver.page_source\n",
    "\n",
    "\n",
    "rcpNo = re.findall(r\"openPdfDownload\\('(.*?)', '\", html_source)\n",
    "dcmNo = re.findall(r\"', '(.*?)'\\);\", html_source)\n",
    "\n",
    "# url이 있어야 read_html을 통해 table 가져올 수 있다\n",
    "frame_url = 'https://dart.fss.or.kr/report/viewer.do?rcpNo=' + rcpNo[0] + '&dcmNo=' + dcmNo[2][0:7] + '&eleId=' + '0' + '&offset=' + '0' + '&length=' + '0' + '&dtd=HTML'\n",
    "\n",
    "table_ifrm = pd.read_html(frame_url, index_col=0)#, header=None)\n",
    "\n",
    "# table_ifrm[0]\n",
    "# date = defaultdict(dict)\n",
    "# event = defaultdict(dict)\n",
    "\n",
    "for index, row in table_ifrm[0].iterrows():\n",
    "  if '목적' in index:\n",
    "    text = row[2]\n",
    "for index, row in table_ifrm[0].iterrows():\n",
    "  if '일시' in index:\n",
    "    if '20' in row[2]:\n",
    "      dateNew = row[2]\n",
    "    \n",
    "\n",
    "with open('calendarDB.json', encoding='utf-8') as db:\n",
    "  res = json.load(db)\n",
    "print(res)\n",
    "  \n",
    "seen = ((date, res[date]['기업명'], res[date]['내용']) for date in res.keys())\n",
    "seen = set(seen)\n",
    "\n",
    "def add_entry(res, date, companyName, text):\n",
    "\n",
    "    # check if in seen set\n",
    "    if (date, companyName, text) in seen:\n",
    "        return res\n",
    "\n",
    "    # add to seen set\n",
    "    seen.add(tuple([date, companyName, text]))\n",
    "\n",
    "    # append to results list\n",
    "    res[date] = {'기업명': companyName, '내용': text}\n",
    "    # res.append({date:{'기업명': companyName, '내용': text}})\n",
    "\n",
    "    return res\n",
    "\n",
    "args = [dateNew, companyName, text]\n",
    "# print(args)\n",
    "\n",
    "res = add_entry(res, *args)  # add entry - SUCCESS\n",
    "print(res)\n",
    "res = add_entry(res, *args)  # try to add again - FAIL\n",
    "# print(res)\n",
    "\n",
    "# args2 = ['2022-08-17', '3241', 'test3']\n",
    "\n",
    "res = add_entry(res, *args2)  # add another - SUCCESS\n",
    "# print(res)\n",
    "\n",
    "\n",
    "with open('calendarDB.json', 'w', encoding='utf-8') as db:\n",
    "  json.dump(res, db, ensure_ascii=False)\n",
    "db.close()\n",
    "\n",
    "# date['행사일']\n",
    "# for key,val in event.items():\n",
    "#     if key in d:\n",
    "#         d[key] = [d[key],val]\n",
    "\n",
    "# event[1].append\n",
    "# table_ifrm[0].loc['1.일시', '2']\n",
    "\n",
    "seen"
   ]
  },
  {
   "cell_type": "code",
   "execution_count": 175,
   "metadata": {},
   "outputs": [
    {
     "data": {
      "text/plain": [
       "defaultdict(dict, {'파크시스': ['기업설명회(IR)', '반기실적 및 경영현황 업데이트']})"
      ]
     },
     "execution_count": 175,
     "metadata": {},
     "output_type": "execute_result"
    }
   ],
   "source": [
    "event"
   ]
  },
  {
   "cell_type": "code",
   "execution_count": 172,
   "metadata": {},
   "outputs": [
    {
     "data": {
      "text/plain": [
       "defaultdict(dict, {})"
      ]
     },
     "execution_count": 172,
     "metadata": {},
     "output_type": "execute_result"
    }
   ],
   "source": [
    "event2 = defaultdict(dict)\n",
    "event2\n",
    "\n",
    "for key, val in event2.items():\n",
    "    if key in d:\n",
    "        d[key] = [d[key],val]"
   ]
  },
  {
   "cell_type": "code",
   "execution_count": 171,
   "metadata": {},
   "outputs": [
    {
     "data": {
      "text/plain": [
       "defaultdict(dict,\n",
       "            {'2022-08-24': defaultdict(dict,\n",
       "                         {'파크시스템스': ['기업설명회(IR)개최', '반기실적 및 경영현황 업데이트'],\n",
       "                          '파크시스템': ['기업설명회(IR)개', '반기실적 및 경영현황 업데이트'],\n",
       "                          '파크시스': ['기업설명회(IR)', '반기실적 및 경영현황 업데이트']})})"
      ]
     },
     "execution_count": 171,
     "metadata": {},
     "output_type": "execute_result"
    }
   ],
   "source": [
    "date"
   ]
  },
  {
   "cell_type": "code",
   "execution_count": 166,
   "metadata": {},
   "outputs": [
    {
     "data": {
      "text/html": [
       "<div>\n",
       "<style scoped>\n",
       "    .dataframe tbody tr th:only-of-type {\n",
       "        vertical-align: middle;\n",
       "    }\n",
       "\n",
       "    .dataframe tbody tr th {\n",
       "        vertical-align: top;\n",
       "    }\n",
       "\n",
       "    .dataframe thead th {\n",
       "        text-align: right;\n",
       "    }\n",
       "</style>\n",
       "<table border=\"1\" class=\"dataframe\">\n",
       "  <thead>\n",
       "    <tr style=\"text-align: right;\">\n",
       "      <th></th>\n",
       "      <th>1</th>\n",
       "      <th>2</th>\n",
       "      <th>3</th>\n",
       "      <th>4</th>\n",
       "      <th>5</th>\n",
       "    </tr>\n",
       "    <tr>\n",
       "      <th>0</th>\n",
       "      <th></th>\n",
       "      <th></th>\n",
       "      <th></th>\n",
       "      <th></th>\n",
       "      <th></th>\n",
       "    </tr>\n",
       "  </thead>\n",
       "  <tbody>\n",
       "    <tr>\n",
       "      <th>1. 일시</th>\n",
       "      <td>1. 일시</td>\n",
       "      <td>행사일</td>\n",
       "      <td>행사일</td>\n",
       "      <td>시간(현지시간)</td>\n",
       "      <td>시간(현지시간)</td>\n",
       "    </tr>\n",
       "    <tr>\n",
       "      <th>1. 일시</th>\n",
       "      <td>1. 일시</td>\n",
       "      <td>시작일</td>\n",
       "      <td>종료일</td>\n",
       "      <td>시작시간</td>\n",
       "      <td>종료시간</td>\n",
       "    </tr>\n",
       "    <tr>\n",
       "      <th>1. 일시</th>\n",
       "      <td>1. 일시</td>\n",
       "      <td>2022-08-24</td>\n",
       "      <td>2022-08-25</td>\n",
       "      <td>09:00</td>\n",
       "      <td>16:00</td>\n",
       "    </tr>\n",
       "    <tr>\n",
       "      <th>2. 장소</th>\n",
       "      <td>2. 장소</td>\n",
       "      <td>-</td>\n",
       "      <td>-</td>\n",
       "      <td>-</td>\n",
       "      <td>-</td>\n",
       "    </tr>\n",
       "    <tr>\n",
       "      <th>3. 대상자</th>\n",
       "      <td>3. 대상자</td>\n",
       "      <td>국내 기관투자자</td>\n",
       "      <td>국내 기관투자자</td>\n",
       "      <td>국내 기관투자자</td>\n",
       "      <td>국내 기관투자자</td>\n",
       "    </tr>\n",
       "    <tr>\n",
       "      <th>4. 실시목적</th>\n",
       "      <td>4. 실시목적</td>\n",
       "      <td>반기실적 및 경영현황 업데이트</td>\n",
       "      <td>반기실적 및 경영현황 업데이트</td>\n",
       "      <td>반기실적 및 경영현황 업데이트</td>\n",
       "      <td>반기실적 및 경영현황 업데이트</td>\n",
       "    </tr>\n",
       "    <tr>\n",
       "      <th>5. 실시방법</th>\n",
       "      <td>5. 실시방법</td>\n",
       "      <td>컨퍼런스콜 형식의 NDR</td>\n",
       "      <td>컨퍼런스콜 형식의 NDR</td>\n",
       "      <td>컨퍼런스콜 형식의 NDR</td>\n",
       "      <td>컨퍼런스콜 형식의 NDR</td>\n",
       "    </tr>\n",
       "    <tr>\n",
       "      <th>6. 주요내용</th>\n",
       "      <td>6. 주요내용</td>\n",
       "      <td>반기실적 및 경영현황 업데이트</td>\n",
       "      <td>반기실적 및 경영현황 업데이트</td>\n",
       "      <td>반기실적 및 경영현황 업데이트</td>\n",
       "      <td>반기실적 및 경영현황 업데이트</td>\n",
       "    </tr>\n",
       "    <tr>\n",
       "      <th>7. 후원기관</th>\n",
       "      <td>7. 후원기관</td>\n",
       "      <td>BNK증권</td>\n",
       "      <td>BNK증권</td>\n",
       "      <td>BNK증권</td>\n",
       "      <td>BNK증권</td>\n",
       "    </tr>\n",
       "    <tr>\n",
       "      <th>8. 개최확정일</th>\n",
       "      <td>8. 개최확정일</td>\n",
       "      <td>2022-08-23</td>\n",
       "      <td>2022-08-23</td>\n",
       "      <td>2022-08-23</td>\n",
       "      <td>2022-08-23</td>\n",
       "    </tr>\n",
       "    <tr>\n",
       "      <th>9. 담당자</th>\n",
       "      <td>담당부서(담당자)</td>\n",
       "      <td>경영지원부(홍문표 주임)</td>\n",
       "      <td>경영지원부(홍문표 주임)</td>\n",
       "      <td>경영지원부(홍문표 주임)</td>\n",
       "      <td>경영지원부(홍문표 주임)</td>\n",
       "    </tr>\n",
       "    <tr>\n",
       "      <th>9. 담당자</th>\n",
       "      <td>전화번호(팩스번호)</td>\n",
       "      <td>TEL. 031-546-6900 FAX. 031-546-6825</td>\n",
       "      <td>TEL. 031-546-6900 FAX. 031-546-6825</td>\n",
       "      <td>TEL. 031-546-6900 FAX. 031-546-6825</td>\n",
       "      <td>TEL. 031-546-6900 FAX. 031-546-6825</td>\n",
       "    </tr>\n",
       "    <tr>\n",
       "      <th>10. IR 자료게재</th>\n",
       "      <td>게재일시</td>\n",
       "      <td>2022.08.24</td>\n",
       "      <td>2022.08.24</td>\n",
       "      <td>2022.08.24</td>\n",
       "      <td>2022.08.24</td>\n",
       "    </tr>\n",
       "    <tr>\n",
       "      <th>10. IR 자료게재</th>\n",
       "      <td>게재장소</td>\n",
       "      <td>한국거래소 상장공시시스템(http://kind.krx.co.kr) IR자료실</td>\n",
       "      <td>한국거래소 상장공시시스템(http://kind.krx.co.kr) IR자료실</td>\n",
       "      <td>한국거래소 상장공시시스템(http://kind.krx.co.kr) IR자료실</td>\n",
       "      <td>한국거래소 상장공시시스템(http://kind.krx.co.kr) IR자료실</td>\n",
       "    </tr>\n",
       "  </tbody>\n",
       "</table>\n",
       "</div>"
      ],
      "text/plain": [
       "                      1                                           2  \\\n",
       "0                                                                     \n",
       "1. 일시             1. 일시                                         행사일   \n",
       "1. 일시             1. 일시                                         시작일   \n",
       "1. 일시             1. 일시                                  2022-08-24   \n",
       "2. 장소             2. 장소                                           -   \n",
       "3. 대상자           3. 대상자                                    국내 기관투자자   \n",
       "4. 실시목적         4. 실시목적                            반기실적 및 경영현황 업데이트   \n",
       "5. 실시방법         5. 실시방법                               컨퍼런스콜 형식의 NDR   \n",
       "6. 주요내용         6. 주요내용                            반기실적 및 경영현황 업데이트   \n",
       "7. 후원기관         7. 후원기관                                       BNK증권   \n",
       "8. 개최확정일       8. 개최확정일                                  2022-08-23   \n",
       "9. 담당자        담당부서(담당자)                               경영지원부(홍문표 주임)   \n",
       "9. 담당자       전화번호(팩스번호)         TEL. 031-546-6900 FAX. 031-546-6825   \n",
       "10. IR 자료게재        게재일시                                  2022.08.24   \n",
       "10. IR 자료게재        게재장소  한국거래소 상장공시시스템(http://kind.krx.co.kr) IR자료실   \n",
       "\n",
       "                                                      3  \\\n",
       "0                                                         \n",
       "1. 일시                                               행사일   \n",
       "1. 일시                                               종료일   \n",
       "1. 일시                                        2022-08-25   \n",
       "2. 장소                                                 -   \n",
       "3. 대상자                                         국내 기관투자자   \n",
       "4. 실시목적                                반기실적 및 경영현황 업데이트   \n",
       "5. 실시방법                                   컨퍼런스콜 형식의 NDR   \n",
       "6. 주요내용                                반기실적 및 경영현황 업데이트   \n",
       "7. 후원기관                                           BNK증권   \n",
       "8. 개최확정일                                     2022-08-23   \n",
       "9. 담당자                                    경영지원부(홍문표 주임)   \n",
       "9. 담당자              TEL. 031-546-6900 FAX. 031-546-6825   \n",
       "10. IR 자료게재                                  2022.08.24   \n",
       "10. IR 자료게재  한국거래소 상장공시시스템(http://kind.krx.co.kr) IR자료실   \n",
       "\n",
       "                                                      4  \\\n",
       "0                                                         \n",
       "1. 일시                                          시간(현지시간)   \n",
       "1. 일시                                              시작시간   \n",
       "1. 일시                                             09:00   \n",
       "2. 장소                                                 -   \n",
       "3. 대상자                                         국내 기관투자자   \n",
       "4. 실시목적                                반기실적 및 경영현황 업데이트   \n",
       "5. 실시방법                                   컨퍼런스콜 형식의 NDR   \n",
       "6. 주요내용                                반기실적 및 경영현황 업데이트   \n",
       "7. 후원기관                                           BNK증권   \n",
       "8. 개최확정일                                     2022-08-23   \n",
       "9. 담당자                                    경영지원부(홍문표 주임)   \n",
       "9. 담당자              TEL. 031-546-6900 FAX. 031-546-6825   \n",
       "10. IR 자료게재                                  2022.08.24   \n",
       "10. IR 자료게재  한국거래소 상장공시시스템(http://kind.krx.co.kr) IR자료실   \n",
       "\n",
       "                                                      5  \n",
       "0                                                        \n",
       "1. 일시                                          시간(현지시간)  \n",
       "1. 일시                                              종료시간  \n",
       "1. 일시                                             16:00  \n",
       "2. 장소                                                 -  \n",
       "3. 대상자                                         국내 기관투자자  \n",
       "4. 실시목적                                반기실적 및 경영현황 업데이트  \n",
       "5. 실시방법                                   컨퍼런스콜 형식의 NDR  \n",
       "6. 주요내용                                반기실적 및 경영현황 업데이트  \n",
       "7. 후원기관                                           BNK증권  \n",
       "8. 개최확정일                                     2022-08-23  \n",
       "9. 담당자                                    경영지원부(홍문표 주임)  \n",
       "9. 담당자              TEL. 031-546-6900 FAX. 031-546-6825  \n",
       "10. IR 자료게재                                  2022.08.24  \n",
       "10. IR 자료게재  한국거래소 상장공시시스템(http://kind.krx.co.kr) IR자료실  "
      ]
     },
     "execution_count": 166,
     "metadata": {},
     "output_type": "execute_result"
    }
   ],
   "source": [
    "table_ifrm[0]"
   ]
  },
  {
   "cell_type": "code",
   "execution_count": 165,
   "metadata": {},
   "outputs": [
    {
     "data": {
      "text/plain": [
       "defaultdict(dict,\n",
       "            {'2022-08-24': defaultdict(dict,\n",
       "                         {'파크시스템스': ['기업설명회(IR)개최', '반기실적 및 경영현황 업데이트'],\n",
       "                          '파크시스템': ['기업설명회(IR)개', '반기실적 및 경영현황 업데이트'],\n",
       "                          '파크시스': ['기업설명회(IR)', '반기실적 및 경영현황 업데이트']})})"
      ]
     },
     "execution_count": 165,
     "metadata": {},
     "output_type": "execute_result"
    }
   ],
   "source": [
    "date"
   ]
  },
  {
   "cell_type": "code",
   "execution_count": 26,
   "metadata": {},
   "outputs": [
    {
     "data": {
      "text/plain": [
       "{'title': '(코스닥)에스트래픽 - 주주명부폐쇄기간또는기준일설정',\n",
       " 'title_detail': {'type': 'text/plain',\n",
       "  'language': None,\n",
       "  'base': 'https://dart.fss.or.kr/api/todayRSS.xml',\n",
       "  'value': '(코스닥)에스트래픽 - 주주명부폐쇄기간또는기준일설정'},\n",
       " 'links': [{'rel': 'alternate',\n",
       "   'type': 'text/html',\n",
       "   'href': 'http://dart.fss.or.kr/api/link.jsp?rcpNo=20220823900466'}],\n",
       " 'link': 'http://dart.fss.or.kr/api/link.jsp?rcpNo=20220823900466',\n",
       " 'tags': [{'term': '코스닥', 'scheme': None, 'label': None}],\n",
       " 'published': 'Tue, 23 Aug 2022 09:16:00 GMT',\n",
       " 'published_parsed': time.struct_time(tm_year=2022, tm_mon=8, tm_mday=23, tm_hour=9, tm_min=16, tm_sec=0, tm_wday=1, tm_yday=235, tm_isdst=0),\n",
       " 'id': 'http://dart.fss.or.kr/api/link.jsp?rcpNo=20220823900466',\n",
       " 'guidislink': False,\n",
       " 'authors': [{'name': '에스트래픽'}],\n",
       " 'author': '에스트래픽',\n",
       " 'author_detail': {'name': '에스트래픽'},\n",
       " 'updated': '2022-08-23T09:16:00Z',\n",
       " 'updated_parsed': time.struct_time(tm_year=2022, tm_mon=8, tm_mday=23, tm_hour=9, tm_min=16, tm_sec=0, tm_wday=1, tm_yday=235, tm_isdst=0)}"
      ]
     },
     "execution_count": 26,
     "metadata": {},
     "output_type": "execute_result"
    }
   ],
   "source": [
    "rss_info = feedparser.parse('http://dart.fss.or.kr/api/todayRSS.xml')\n",
    "disclosureList = rss_info['entries']\n",
    "disclosureList[0]"
   ]
  },
  {
   "cell_type": "code",
   "execution_count": null,
   "metadata": {},
   "outputs": [],
   "source": []
  },
  {
   "cell_type": "code",
   "execution_count": 11,
   "metadata": {},
   "outputs": [
    {
     "ename": "OSError",
     "evalue": "[Errno 22] Invalid argument: 'https://dart.fss.or.kr/api/todayRSS.xml'",
     "output_type": "error",
     "traceback": [
      "\u001b[1;31m---------------------------------------------------------------------------\u001b[0m",
      "\u001b[1;31mOSError\u001b[0m                                   Traceback (most recent call last)",
      "\u001b[1;32mc:\\김한솔\\projects\\stock-calendar\\test.ipynb 셀 2\u001b[0m in \u001b[0;36m<cell line: 1>\u001b[1;34m()\u001b[0m\n\u001b[1;32m----> <a href='vscode-notebook-cell:/c%3A/%EA%B9%80%ED%95%9C%EC%86%94/projects/stock-calendar/test.ipynb#W3sZmlsZQ%3D%3D?line=0'>1</a>\u001b[0m \u001b[39mwith\u001b[39;00m \u001b[39mopen\u001b[39;49m(\u001b[39m'\u001b[39;49m\u001b[39mhttps://dart.fss.or.kr/api/todayRSS.xml\u001b[39;49m\u001b[39m'\u001b[39;49m) \u001b[39mas\u001b[39;00m dx:\n\u001b[0;32m      <a href='vscode-notebook-cell:/c%3A/%EA%B9%80%ED%95%9C%EC%86%94/projects/stock-calendar/test.ipynb#W3sZmlsZQ%3D%3D?line=1'>2</a>\u001b[0m   doc \u001b[39m=\u001b[39m xmltodict\u001b[39m.\u001b[39mparse(dx\u001b[39m.\u001b[39mread())\n\u001b[0;32m      <a href='vscode-notebook-cell:/c%3A/%EA%B9%80%ED%95%9C%EC%86%94/projects/stock-calendar/test.ipynb#W3sZmlsZQ%3D%3D?line=3'>4</a>\u001b[0m doc\n",
      "\u001b[1;31mOSError\u001b[0m: [Errno 22] Invalid argument: 'https://dart.fss.or.kr/api/todayRSS.xml'"
     ]
    }
   ],
   "source": [
    "with open('http://dart.fss.or.kr/api/todayRSS.xml') as dx:\n",
    "  doc = xmltodict.parse(dx.read())\n",
    "\n",
    "doc"
   ]
  },
  {
   "cell_type": "code",
   "execution_count": null,
   "metadata": {},
   "outputs": [
    {
     "name": "stdout",
     "output_type": "stream",
     "text": [
      "hello again\n"
     ]
    }
   ],
   "source": [
    "print('hello again')"
   ]
  }
 ],
 "metadata": {
  "kernelspec": {
   "display_name": "Python 3.10.6 64-bit (windows store)",
   "language": "python",
   "name": "python3"
  },
  "language_info": {
   "codemirror_mode": {
    "name": "ipython",
    "version": 3
   },
   "file_extension": ".py",
   "mimetype": "text/x-python",
   "name": "python",
   "nbconvert_exporter": "python",
   "pygments_lexer": "ipython3",
   "version": "3.10.6"
  },
  "orig_nbformat": 4,
  "vscode": {
   "interpreter": {
    "hash": "7b1f2b33e866b0bf2409397e5f58ba9cdf170d3b7f64c8f359c79998e2f88ad4"
   }
  }
 },
 "nbformat": 4,
 "nbformat_minor": 2
}
