{
 "cells": [
  {
   "cell_type": "code",
   "execution_count": 12,
   "metadata": {},
   "outputs": [
    {
     "data": {
      "text/plain": [
       "2"
      ]
     },
     "execution_count": 12,
     "metadata": {},
     "output_type": "execute_result"
    }
   ],
   "source": [
    "a = 1 if False else 2\n",
    "\n",
    "a"
   ]
  },
  {
   "cell_type": "code",
   "execution_count": 180,
   "metadata": {},
   "outputs": [
    {
     "name": "stdout",
     "output_type": "stream",
     "text": [
      "1\n"
     ]
    }
   ],
   "source": [
    "def solution(a, b):\n",
    "    import calendar\n",
    "    lst = ['MON', 'TUE', 'WED', 'THU', 'FRI', 'SAT', 'SUN']\n",
    "    return lst[calendar.weekday(2016, a, b)]\n",
    "\n"
   ]
  },
  {
   "cell_type": "code",
   "execution_count": 175,
   "metadata": {},
   "outputs": [
    {
     "data": {
      "text/plain": [
       "[1, 3, 0, 1]"
      ]
     },
     "execution_count": 175,
     "metadata": {},
     "output_type": "execute_result"
    }
   ],
   "source": [
    "def solution(arr):\n",
    "    answer = []\n",
    "\n",
    "    for e in arr:\n",
    "        if answer[-1:] != [e]:\n",
    "            answer.append(e)\n",
    "        else:\n",
    "            pass\n",
    "\n",
    "\n",
    "    return answer\n",
    "\n",
    "\n",
    "solution([1,1,3,3,0,1,1])"
   ]
  },
  {
   "cell_type": "code",
   "execution_count": 176,
   "metadata": {},
   "outputs": [
    {
     "data": {
      "text/plain": [
       "[]"
      ]
     },
     "execution_count": 176,
     "metadata": {},
     "output_type": "execute_result"
    }
   ],
   "source": [
    "l = []\n",
    "\n",
    "l[-1:]"
   ]
  },
  {
   "cell_type": "code",
   "execution_count": 166,
   "metadata": {},
   "outputs": [
    {
     "data": {
      "text/plain": [
       "4"
      ]
     },
     "execution_count": 166,
     "metadata": {},
     "output_type": "execute_result"
    }
   ],
   "source": [
    "def solution(n):\n",
    "    def primes(n):\n",
    "        primfac = []\n",
    "        d = 2\n",
    "        \n",
    "        while d*d <= n:\n",
    "            while (n % d) == 0:\n",
    "                primfac.append(d)\n",
    "                n //= d\n",
    "            d += 1\n",
    "        if n > 1:\n",
    "            primfac.append(n)\n",
    "            \n",
    "        return len(primfac)\n",
    "\n",
    "    lst = []\n",
    "    for i in range(1, n+1):\n",
    "        if primes(i) == 1:\n",
    "            lst.append(i)\n",
    "\n",
    "    return len(lst)\n",
    "\n",
    "\n",
    "solution(10)"
   ]
  },
  {
   "cell_type": "code",
   "execution_count": 163,
   "metadata": {},
   "outputs": [
    {
     "data": {
      "text/plain": [
       "[5]"
      ]
     },
     "execution_count": 163,
     "metadata": {},
     "output_type": "execute_result"
    }
   ],
   "source": [
    "def solution(n):\n",
    "    primfac = []\n",
    "    d = 2\n",
    "    \n",
    "    while d*d <= n:\n",
    "        while (n % d) == 0:\n",
    "            primfac.append(d)\n",
    "            n //= d\n",
    "        d += 1\n",
    "    if n > 1:\n",
    "        primfac.append(n)\n",
    "        \n",
    "    return primfac\n",
    "\n",
    "solution(5)"
   ]
  },
  {
   "cell_type": "code",
   "execution_count": 157,
   "metadata": {},
   "outputs": [
    {
     "data": {
      "text/plain": [
       "'수박수박수박수박수박수'"
      ]
     },
     "execution_count": 157,
     "metadata": {},
     "output_type": "execute_result"
    }
   ],
   "source": [
    "def solution(n):\n",
    "    return '수박'*(n//2) if n%2 == 0 else '수박'*(n//2)+'수'\n",
    "\n",
    "solution(11)"
   ]
  },
  {
   "cell_type": "code",
   "execution_count": 155,
   "metadata": {},
   "outputs": [
    {
     "data": {
      "text/plain": [
       "-1234"
      ]
     },
     "execution_count": 155,
     "metadata": {},
     "output_type": "execute_result"
    }
   ],
   "source": [
    "def solution(s):\n",
    "    return eval(s)\n",
    "\n",
    "solution('-1234')"
   ]
  },
  {
   "cell_type": "code",
   "execution_count": 153,
   "metadata": {},
   "outputs": [
    {
     "data": {
      "text/plain": [
       "'e F d'"
      ]
     },
     "execution_count": 153,
     "metadata": {},
     "output_type": "execute_result"
    }
   ],
   "source": [
    "def solution(s, n):\n",
    "    letter_lower = 'abcdefghijklmnopqrstuvwxyz'\n",
    "    letter_upper = 'ABCDEFGHIJKLMNOPQRSTUVWXYZ'\n",
    "    lst = []\n",
    "\n",
    "    for i in s:\n",
    "        if i.islower():\n",
    "            lst.append(letter_lower[(letter_lower.find(i)+n)%26])\n",
    "        elif i.isupper():\n",
    "            lst.append(letter_upper[(letter_upper.find(i)+n)%26])\n",
    "        else:\n",
    "            lst.append(' ')\n",
    "    \n",
    "    return ''.join(lst) \n",
    "\n",
    "\n",
    "\n",
    "solution('a B z', 4)"
   ]
  },
  {
   "cell_type": "code",
   "execution_count": 150,
   "metadata": {},
   "outputs": [
    {
     "data": {
      "text/plain": [
       "False"
      ]
     },
     "execution_count": 150,
     "metadata": {},
     "output_type": "execute_result"
    }
   ],
   "source": [
    "'a'.isupper()"
   ]
  },
  {
   "cell_type": "code",
   "execution_count": 134,
   "metadata": {},
   "outputs": [
    {
     "data": {
      "text/plain": [
       "28"
      ]
     },
     "execution_count": 134,
     "metadata": {},
     "output_type": "execute_result"
    }
   ],
   "source": [
    "def solution(n):\n",
    "    lst_devisor = []\n",
    "    i = 1\n",
    "\n",
    "    while i <= n**(1/2):\n",
    "        if n % i == 0:\n",
    "            lst_devisor.append(i)\n",
    "            lst_devisor.append(n//i)\n",
    "        i += 1\n",
    "\n",
    "    return sum(set(lst_devisor))\n",
    "\n",
    "\n",
    "solution(12)"
   ]
  },
  {
   "cell_type": "code",
   "execution_count": 131,
   "metadata": {},
   "outputs": [
    {
     "data": {
      "text/plain": [
       "10.0"
      ]
     },
     "execution_count": 131,
     "metadata": {},
     "output_type": "execute_result"
    }
   ],
   "source": [
    "100**(1/2)"
   ]
  },
  {
   "cell_type": "code",
   "execution_count": null,
   "metadata": {},
   "outputs": [],
   "source": [
    "s = ' hello  wORLd '\n",
    "l = []\n",
    "\n",
    "for i in range(len(s)):\n",
    "    if s[i] == ' ':\n",
    "        l.append(-1)\n",
    "    \n",
    "    if i > 0 and s[i-1] == '':\n",
    "        s[i]\n"
   ]
  },
  {
   "cell_type": "code",
   "execution_count": 129,
   "metadata": {},
   "outputs": [
    {
     "data": {
      "text/plain": [
       "'TrY HeLlO WoRlD'"
      ]
     },
     "execution_count": 129,
     "metadata": {},
     "output_type": "execute_result"
    }
   ],
   "source": [
    "def solution(s):\n",
    "    l = s.split(' ')\n",
    "    lst_element = []\n",
    "\n",
    "    for e in l:\n",
    "        for i in range(len(e)):\n",
    "            if i % 2 == 0:\n",
    "                lst_element.append(e[i].upper())\n",
    "            else:\n",
    "                lst_element.append(e[i].lower())\n",
    "        lst_element.append(' ')\n",
    "\n",
    "    return ''.join(lst_element).rstrip()\n",
    "\n",
    "solution(\"try hello world\")"
   ]
  },
  {
   "cell_type": "code",
   "execution_count": 128,
   "metadata": {},
   "outputs": [
    {
     "data": {
      "text/plain": [
       "'TrYHeLlOWoRlD'"
      ]
     },
     "execution_count": 128,
     "metadata": {},
     "output_type": "execute_result"
    }
   ],
   "source": [
    "def solution(s):\n",
    "\n",
    "    l = s.split(' ')\n",
    "    # lst_element = []; lst_sentence = []\n",
    "\n",
    "    # for e in l:\n",
    "    #     for i in range(len(e)):\n",
    "    #         if i % 2 == 0:\n",
    "    #             lst_element.append(e[i].upper())\n",
    "    #         else:\n",
    "    #             lst_element.append(e[i].lower())\n",
    "    #     lst_element.append(' ')\n",
    "\n",
    "\n",
    "    a = ''.join([ e[i].upper() if i % 2 == 0 else e[i].lower()for e in l for i in range(len(e))  ])\n",
    "    # a = ''.join([ e[i].upper() if i % 2 == 0 else e[i].lower() for i in range(len(e)) for e in l ])\n",
    "\n",
    "\n",
    "    return a\n",
    "\n",
    "solution(\"try hello world\")"
   ]
  },
  {
   "cell_type": "code",
   "execution_count": 120,
   "metadata": {},
   "outputs": [
    {
     "data": {
      "text/plain": [
       "'B'"
      ]
     },
     "execution_count": 120,
     "metadata": {},
     "output_type": "execute_result"
    }
   ],
   "source": [
    "s = 'abcd'\n",
    "\n",
    "s[1].upper()"
   ]
  },
  {
   "cell_type": "code",
   "execution_count": 109,
   "metadata": {},
   "outputs": [
    {
     "data": {
      "text/plain": [
       "[1, 10]"
      ]
     },
     "execution_count": 109,
     "metadata": {},
     "output_type": "execute_result"
    }
   ],
   "source": [
    "def solution(n, m):\n",
    "    from collections import Counter\n",
    "    from functools import reduce\n",
    "\n",
    "    answer = []\n",
    "\n",
    "    def primes(n):\n",
    "        primfac = []\n",
    "        d = 2\n",
    "        while d*d <= n:\n",
    "            while (n % d) == 0:\n",
    "                primfac.append(d)\n",
    "                n //= d\n",
    "            d += 1\n",
    "        if n > 1:\n",
    "            primfac.append(n)\n",
    "        return primfac\n",
    "\n",
    "    lst_n = primes(n); lst_m = primes(m)\n",
    "\n",
    "    list_gcd = list((Counter(lst_n) & Counter(lst_m)).elements())\n",
    "    list_lcm = list((Counter(lst_n) | Counter(lst_m)).elements())\n",
    "\n",
    "\n",
    "\n",
    "\n",
    "    return [ reduce(lambda x, y: x*y, list_gcd, 1), reduce(lambda x, y: x*y, list_lcm, 1) ]\n",
    "\n",
    "solution(2, 5)"
   ]
  },
  {
   "cell_type": "code",
   "execution_count": 97,
   "metadata": {},
   "outputs": [
    {
     "data": {
      "text/plain": [
       "[2, 2, 5]"
      ]
     },
     "execution_count": 97,
     "metadata": {},
     "output_type": "execute_result"
    }
   ],
   "source": [
    "def primes(n):\n",
    "        primfac = []\n",
    "        d = 2\n",
    "        while d*d <= n:\n",
    "            while (n % d) == 0:\n",
    "                primfac.append(d)\n",
    "                n //= d\n",
    "            d += 1\n",
    "        if n > 1:\n",
    "            primfac.append(n)\n",
    "        return primfac\n",
    "\n",
    "primes(20)"
   ]
  },
  {
   "cell_type": "code",
   "execution_count": 99,
   "metadata": {},
   "outputs": [
    {
     "data": {
      "text/plain": [
       "5.0"
      ]
     },
     "execution_count": 99,
     "metadata": {},
     "output_type": "execute_result"
    }
   ],
   "source": [
    "10 / 2"
   ]
  },
  {
   "cell_type": "code",
   "execution_count": 95,
   "metadata": {},
   "outputs": [
    {
     "data": {
      "text/plain": [
       "-1"
      ]
     },
     "execution_count": 95,
     "metadata": {},
     "output_type": "execute_result"
    }
   ],
   "source": [
    "def solution(num):\n",
    "    n = 0\n",
    "\n",
    "    while num != 1:\n",
    "        if num % 2 == 0:\n",
    "            num /= 2\n",
    "        else:\n",
    "            num = num*3 + 1\n",
    "        \n",
    "        n += 1\n",
    "        if n == 500:\n",
    "            n = -1\n",
    "            break\n",
    "\n",
    "    return n\n",
    "\n",
    "\n",
    "solution(626331)"
   ]
  },
  {
   "cell_type": "code",
   "execution_count": 92,
   "metadata": {},
   "outputs": [
    {
     "data": {
      "text/plain": [
       "True"
      ]
     },
     "execution_count": 92,
     "metadata": {},
     "output_type": "execute_result"
    }
   ],
   "source": [
    "def solution(x):\n",
    "    return True if x % sum([ int(i) for i in str(x) ]) == 0 else False\n",
    "\n",
    "solution(10)"
   ]
  },
  {
   "cell_type": "code",
   "execution_count": 90,
   "metadata": {},
   "outputs": [
    {
     "data": {
      "text/plain": [
       "1"
      ]
     },
     "execution_count": 90,
     "metadata": {},
     "output_type": "execute_result"
    }
   ],
   "source": [
    "s = str(10)\n",
    "sum([ int(i) for i in s ])\n",
    "\n"
   ]
  },
  {
   "cell_type": "code",
   "execution_count": 87,
   "metadata": {},
   "outputs": [
    {
     "data": {
      "text/plain": [
       "'*******4444'"
      ]
     },
     "execution_count": 87,
     "metadata": {},
     "output_type": "execute_result"
    }
   ],
   "source": [
    "def solution(phone_number):\n",
    "    \n",
    "    last4 = phone_number[-4:]\n",
    "\n",
    "    return '*'*(len(phone_number)-4) + last4\n",
    "\n",
    "\n",
    "solution(\"01033334444\")"
   ]
  },
  {
   "cell_type": "code",
   "execution_count": 85,
   "metadata": {},
   "outputs": [
    {
     "name": "stdout",
     "output_type": "stream",
     "text": [
      "[1, 2] [3, 4]\n",
      "1 3\n",
      "2 4\n",
      "[2, 3] [5, 6]\n",
      "2 5\n",
      "3 6\n"
     ]
    },
    {
     "data": {
      "text/plain": [
       "[[4, 6], [7, 9]]"
      ]
     },
     "execution_count": 85,
     "metadata": {},
     "output_type": "execute_result"
    }
   ],
   "source": [
    "def solution(A,B):\n",
    "    answer = [[c + d for c, d in zip(a,b)] for a, b in zip(A,B)]\n",
    "\n",
    "    for a, b in zip(A, B):\n",
    "        print(a, b)\n",
    "        for c, d in zip(a, b):\n",
    "            print(c, d)\n",
    "\n",
    "\n",
    "\n",
    "    return answer\n",
    "\n",
    "solution([[1,2],[2,3]], [[3,4],[5,6]])\n"
   ]
  },
  {
   "cell_type": "code",
   "execution_count": 82,
   "metadata": {},
   "outputs": [
    {
     "name": "stdout",
     "output_type": "stream",
     "text": [
      "[[], []]\n",
      "0\n",
      "[4, 6]\n",
      "1\n",
      "[7, 9]\n"
     ]
    },
    {
     "data": {
      "text/plain": [
       "[[4, 6], [7, 9]]"
      ]
     },
     "execution_count": 82,
     "metadata": {},
     "output_type": "execute_result"
    }
   ],
   "source": [
    "def solution(arr1, arr2):\n",
    "    answer = [[]]*len(arr1)\n",
    "\n",
    "    for i in range(len(arr1)):\n",
    "        print(i)\n",
    "        answer[i] = [ arr1[i][j] + arr2[i][j] for j in range(len(arr1[0])) ]\n",
    "        print(answer[i])\n",
    "\n",
    "\n",
    "\n",
    "    return answer\n",
    "\n",
    "solution([[1,2],[2,3]], [[3,4],[5,6]])"
   ]
  },
  {
   "cell_type": "code",
   "execution_count": 80,
   "metadata": {},
   "outputs": [
    {
     "data": {
      "text/plain": [
       "2"
      ]
     },
     "execution_count": 80,
     "metadata": {},
     "output_type": "execute_result"
    }
   ],
   "source": [
    "l = [[4, 5],[6, 7]]\n",
    "\n",
    "len(l)\n",
    "\n",
    "\n"
   ]
  },
  {
   "cell_type": "code",
   "execution_count": 50,
   "metadata": {},
   "outputs": [
    {
     "data": {
      "text/plain": [
       "'vinko'"
      ]
     },
     "execution_count": 50,
     "metadata": {},
     "output_type": "execute_result"
    }
   ],
   "source": [
    "def solution(participant, completion):\n",
    "    answer = ''\n",
    "    dict_p = {}; dict_c = {}\n",
    "\n",
    "    for e in participant:\n",
    "        dict_p[e] = dict_p.get(e, 0) + 1\n",
    "\n",
    "    for e in completion:\n",
    "        dict_c[e] = dict_c.get(e, 0) + 1\n",
    "\n",
    "    for e in dict_p.keys():\n",
    "        try: \n",
    "            if dict_p[e] != dict_c[e]:\n",
    "                answer = e\n",
    "                break\n",
    "        except:\n",
    "            answer = e\n",
    "            break\n",
    "\n",
    "    \n",
    "    return answer\n",
    "\n",
    "solution([\"marina\", \"josipa\", \"nikola\", \"vinko\", \"filipa\"], [\"josipa\", \"filipa\", \"marina\", \"nikola\"])\n"
   ]
  },
  {
   "cell_type": "code",
   "execution_count": 42,
   "metadata": {},
   "outputs": [
    {
     "name": "stdout",
     "output_type": "stream",
     "text": [
      "('filipa', 'filipa')\n",
      "('josipa', 'josipa')\n",
      "('marina', 'marina')\n",
      "('nikola', 'nikola')\n"
     ]
    },
    {
     "data": {
      "text/plain": [
       "'vinko'"
      ]
     },
     "execution_count": 42,
     "metadata": {},
     "output_type": "execute_result"
    }
   ],
   "source": [
    "def solution(participant, completion):\n",
    "    answer = ''\n",
    "    for idx, t in enumerate(zip(sorted(participant), sorted(completion))):\n",
    "        print(t)\n",
    "        if t[0] != t[1]:\n",
    "            answer = sorted(participant)[idx]\n",
    "        else:\n",
    "            answer = sorted(participant)[len(participant)-1]\n",
    "\n",
    "    return answer\n",
    "\n",
    "    # return list(set(participant) - set(completion))[0]\n",
    "\n",
    "solution([\"marina\", \"josipa\", \"nikola\", \"vinko\", \"filipa\"], [\"josipa\", \"filipa\", \"marina\", \"nikola\"])"
   ]
  },
  {
   "cell_type": "code",
   "execution_count": 39,
   "metadata": {},
   "outputs": [
    {
     "data": {
      "text/plain": [
       "'vinko'"
      ]
     },
     "execution_count": 39,
     "metadata": {},
     "output_type": "execute_result"
    }
   ],
   "source": [
    "def solution(participant, completion):\n",
    "    for e in completion:\n",
    "        participant.remove(e)\n",
    "\n",
    "    return participant[0]\n",
    "\n",
    "solution([\"marina\", \"josipa\", \"nikola\", \"vinko\", \"filipa\"], [\"josipa\", \"filipa\", \"marina\", \"nikola\"])"
   ]
  },
  {
   "cell_type": "code",
   "execution_count": 9,
   "metadata": {},
   "outputs": [
    {
     "data": {
      "text/plain": [
       "[5, 6, 3]"
      ]
     },
     "execution_count": 9,
     "metadata": {},
     "output_type": "execute_result"
    }
   ],
   "source": [
    "def solution(array, commands):\n",
    "\n",
    "    # map\n",
    "\n",
    "    return list(map(lambda x:sorted(array[x[0]-1:x[1]])[x[2]-1], commands))\n",
    "\n",
    "solution([1, 5, 2, 6, 3, 7, 4], [[2, 5, 3], [4, 4, 1], [1, 7, 3]])"
   ]
  },
  {
   "cell_type": "code",
   "execution_count": 6,
   "metadata": {},
   "outputs": [
    {
     "data": {
      "text/plain": [
       "[5, 6, 3]"
      ]
     },
     "execution_count": 6,
     "metadata": {},
     "output_type": "execute_result"
    }
   ],
   "source": [
    "def solution(array, commands):\n",
    "    answer = []\n",
    "\n",
    "    for e in commands:\n",
    "        part = array[e[0]-1:e[1]]\n",
    "        answer.append(sorted(part)[e[2]-1])\n",
    "\n",
    "    return answer\n",
    "\n",
    "solution([1, 5, 2, 6, 3, 7, 4], [[2, 5, 3], [4, 4, 1], [1, 7, 3]])"
   ]
  },
  {
   "cell_type": "code",
   "execution_count": 424,
   "metadata": {},
   "outputs": [
    {
     "data": {
      "text/plain": [
       "[1]"
      ]
     },
     "execution_count": 424,
     "metadata": {},
     "output_type": "execute_result"
    }
   ],
   "source": [
    "def solution(answers):\n",
    "    answer = []\n",
    "\n",
    "    first = [1, 2, 3, 4, 5]\n",
    "    second = [2, 1, 2, 3, 2, 4, 2, 5]\n",
    "    third = [3, 3, 1, 1, 2, 2, 4, 4, 5, 5]\n",
    "    dict_ = {}\n",
    "\n",
    "\n",
    "    # for _ in answers:\n",
    "    first_lst = [ 1 if i[0] == i[1] else 0 for i in zip(first*(len(answers) // len(first) + 1), answers) ]\n",
    "    second_lst = [ 1 if i[0] == i[1] else 0 for i in zip(second*(len(answers) // len(second) + 1), answers) ]\n",
    "    third_lst = [ 1 if i[0] == i[1] else 0 for i in zip(third*(len(answers) // len(third) + 1), answers) ]\n",
    "\n",
    "    dict_[1] = sum(first_lst)\n",
    "    dict_[2] = sum(second_lst)\n",
    "    dict_[3] = sum(third_lst)\n",
    "\n",
    "    \n",
    "    return [ i[0] for i in dict_.items() if i[1] == max(dict_.values()) ]\n",
    "\n",
    "    return dict_\n",
    "    \n",
    "\n",
    "    # return first_lst, second_lst, third_lst\n",
    "    # return max(dict_.values())\n",
    "    # return [ i[0] for i in sorted(dict_.items(), key=lambda item: item[1], reverse=True) if i[1] == max(dict_.values()) ]\n",
    "\n",
    "\n",
    "solution([1, 2, 3, 4, 5])"
   ]
  },
  {
   "cell_type": "code",
   "execution_count": 425,
   "metadata": {},
   "outputs": [
    {
     "name": "stdout",
     "output_type": "stream",
     "text": [
      "0 a\n",
      "1 b\n",
      "2 c\n"
     ]
    }
   ],
   "source": [
    "a = ['a', 'b', 'c']\n",
    "\n",
    "for idx, v in enumerate(a):\n",
    "    print(idx, v)\n"
   ]
  },
  {
   "cell_type": "code",
   "execution_count": null,
   "metadata": {},
   "outputs": [],
   "source": []
  },
  {
   "cell_type": "code",
   "execution_count": 375,
   "metadata": {},
   "outputs": [
    {
     "data": {
      "text/plain": [
       "[2, 4, 6]"
      ]
     },
     "execution_count": 375,
     "metadata": {},
     "output_type": "execute_result"
    }
   ],
   "source": [
    "A = [1, 2, 3]\n",
    "B = [1, 2, 3, 4]\n",
    "lst = []\n",
    "\n",
    "for a, b in zip(A, B):\n",
    "    lst.append(a+b)\n",
    "    # print(a, b)\n",
    "\n",
    "lst"
   ]
  },
  {
   "cell_type": "code",
   "execution_count": 370,
   "metadata": {},
   "outputs": [
    {
     "name": "stdout",
     "output_type": "stream",
     "text": [
      "[0, 0, 2, 1, 0]\n",
      "0\n",
      "1\n",
      "2\n",
      "3\n",
      "4\n"
     ]
    },
    {
     "data": {
      "text/plain": [
       "3"
      ]
     },
     "execution_count": 370,
     "metadata": {},
     "output_type": "execute_result"
    }
   ],
   "source": [
    "def solution(n, lost, reserve):\n",
    "    lst_ = [1]*n\n",
    "    \n",
    "    for i in lost:\n",
    "        lst_[i-1] -= 1\n",
    "    for i in reserve:\n",
    "        lst_[i-1] += 1\n",
    "\n",
    "    print(lst_)\n",
    "\n",
    "    for i in range(n):\n",
    "        print(i)\n",
    "        if lst_[i] != 0:\n",
    "            pass\n",
    "        else:\n",
    "            if i == 0:\n",
    "                if lst_[i+1] == 2:\n",
    "                    lst_[i] += 1\n",
    "                    lst_[i+1] -= 1\n",
    "            elif i == n-1:\n",
    "                if lst_[i-1] == 2:\n",
    "                    lst_[i] += 1\n",
    "                    lst_[i-1] -= 1\n",
    "            else:\n",
    "                if lst_[i-1] == 2:\n",
    "                    lst_[i] += 1\n",
    "                    lst_[i-1] -= 1\n",
    "                elif lst_[i+1] == 2:\n",
    "                    lst_[i] += 1\n",
    "                    lst_[i+1] -= 1\n",
    "                else: pass\n",
    "\n",
    "    return n - lst_.count(0)\n",
    "    # return lst_\n",
    "\n",
    "\n",
    "solution(5, [1, 2, 5], [3])"
   ]
  },
  {
   "cell_type": "code",
   "execution_count": 349,
   "metadata": {},
   "outputs": [
    {
     "name": "stdout",
     "output_type": "stream",
     "text": [
      "{1: 1, 2: 3, 3: 2, 4: 1, 5: 0}\n"
     ]
    },
    {
     "data": {
      "text/plain": [
       "[3, 4, 2, 1, 5]"
      ]
     },
     "execution_count": 349,
     "metadata": {},
     "output_type": "execute_result"
    }
   ],
   "source": [
    "def solution(N, stages):\n",
    "    answer = []\n",
    "    dict_ = { i: stages.count(i) for i in range(1, N+1) }\n",
    "    print(dict_)\n",
    "    dict_fail_rate = {}\n",
    "    acc = len(stages)\n",
    "\n",
    "    for i in range(1, N+1):\n",
    "        # print(dict_[i], acc)\n",
    "        if acc != 0:\n",
    "            dict_fail_rate[i] = dict_[i] / acc\n",
    "        else:\n",
    "            dict_fail_rate[i] = 0\n",
    "        acc -= dict_[i]\n",
    "\n",
    "\n",
    "    return [ i[0] for i in sorted(dict_fail_rate.items(), key=lambda item: item[1], reverse=True) ]\n",
    "    \n",
    "\n",
    "solution(5, [2, 1, 2, 6, 2, 4, 3, 3])\n",
    "# solution(3, [1, 1, 1])"
   ]
  },
  {
   "cell_type": "code",
   "execution_count": 354,
   "metadata": {},
   "outputs": [
    {
     "name": "stdout",
     "output_type": "stream",
     "text": [
      "[0, 1, 3, 2, 1, 0, 1]\n",
      "i: 0 // 8 1\n",
      "[('1', 0.125)]\n",
      "i: 1 // 7 3\n",
      "[('1', 0.125), ('2', 0.42857142857142855)]\n",
      "i: 2 // 4 2\n",
      "[('1', 0.125), ('2', 0.42857142857142855), ('3', 0.5)]\n",
      "i: 3 // 2 1\n",
      "[('1', 0.125), ('2', 0.42857142857142855), ('3', 0.5), ('4', 0.5)]\n",
      "i: 4 // 1 0\n",
      "[('1', 0.125), ('2', 0.42857142857142855), ('3', 0.5), ('4', 0.5), ('5', 0.0)]\n"
     ]
    },
    {
     "data": {
      "text/plain": [
       "[3, 4, 2, 1, 5]"
      ]
     },
     "execution_count": 354,
     "metadata": {},
     "output_type": "execute_result"
    }
   ],
   "source": [
    "def solution(N, stages):\n",
    "    answer = []\n",
    "    fail = []\n",
    "    info = [0] * (N + 2)\n",
    "    for stage in stages:\n",
    "        info[stage] += 1\n",
    "    print(info)\n",
    "    for i in range(N):\n",
    "        be = sum(info[(i + 1):])\n",
    "        yet = info[i + 1]\n",
    "        print('i:', i, '//', be, yet)\n",
    "        if be == 0:\n",
    "            fail.append((str(i + 1), 0))\n",
    "        else:\n",
    "            fail.append((str(i + 1), yet / be))\n",
    "        print(fail)\n",
    "    for item in sorted(fail, key=lambda x: x[1], reverse=True):\n",
    "        answer.append(int(item[0]))\n",
    "    return answer\n",
    "\n",
    "solution(5, [2, 1, 2, 6, 2, 4, 3, 3])"
   ]
  },
  {
   "cell_type": "code",
   "execution_count": 337,
   "metadata": {},
   "outputs": [
    {
     "data": {
      "text/plain": [
       "[(3, 0.5), (4, 0.5), (2, 0.42857142857142855), (1, 0.125), (5, 0.0)]"
      ]
     },
     "execution_count": 337,
     "metadata": {},
     "output_type": "execute_result"
    }
   ],
   "source": [
    "dict_ = {1: 0.125, 2: 0.42857142857142855, 3: 0.5, 4: 0.5, 5: 0.0}\n",
    "sorted(dict_.items(), key=lambda item: item[1], reverse=True)"
   ]
  },
  {
   "cell_type": "code",
   "execution_count": 321,
   "metadata": {},
   "outputs": [
    {
     "name": "stdout",
     "output_type": "stream",
     "text": [
      "1\n",
      "2\n"
     ]
    },
    {
     "ename": "SyntaxError",
     "evalue": "'yield' outside function (185777605.py, line 10)",
     "output_type": "error",
     "traceback": [
      "\u001b[1;36m  Input \u001b[1;32mIn [321]\u001b[1;36m\u001b[0m\n\u001b[1;33m    yield 'for', i\u001b[0m\n\u001b[1;37m    ^\u001b[0m\n\u001b[1;31mSyntaxError\u001b[0m\u001b[1;31m:\u001b[0m 'yield' outside function\n"
     ]
    }
   ],
   "source": [
    "lst = (1, 2, 3, 4, 5)\n",
    "iterator = iter(lst)\n",
    "\n",
    "iterator\n",
    "\n",
    "print(next(iterator))\n",
    "print(next(iterator))\n",
    "\n",
    "\n"
   ]
  },
  {
   "cell_type": "code",
   "execution_count": 317,
   "metadata": {},
   "outputs": [
    {
     "name": "stdout",
     "output_type": "stream",
     "text": [
      "(None, 1, 2)\n",
      "(1, 2, 3)\n",
      "(2, 3, 4)\n",
      "(3, 4, 5)\n",
      "(4, 5, None)\n"
     ]
    }
   ],
   "source": [
    "lst = [1, 2, 3, 4, 5]\n",
    "def neighborhood(iterable):\n",
    "        iterator = iter(iterable)\n",
    "        prev_item = None\n",
    "        current_item = next(iterator)  # throws StopIteration if empty.\n",
    "        for next_item in iterator:\n",
    "            yield (prev_item, current_item, next_item)\n",
    "            prev_item = current_item\n",
    "            current_item = next_item\n",
    "        yield (prev_item, current_item, None)\n",
    "\n",
    "for i in neighborhood(lst):\n",
    "    print(i)"
   ]
  },
  {
   "cell_type": "code",
   "execution_count": 301,
   "metadata": {},
   "outputs": [
    {
     "name": "stdout",
     "output_type": "stream",
     "text": [
      "before [4]\n",
      "1 [4]\n",
      "before [4, 3]\n",
      "5 [4, 3]\n",
      "before [4, 3, 1]\n",
      "3 [4, 3, 1]\n",
      "before [4, 3, 1, 1]\n",
      "after [4, 3]\n",
      "5 [4, 3]\n",
      "before [4, 3, 3]\n",
      "after [4]\n",
      "1 [4]\n",
      "before [4, 2]\n",
      "2 [4, 2]\n",
      "1 [4, 2]\n",
      "before [4, 2, 4]\n",
      "4 [4, 2, 4]\n"
     ]
    },
    {
     "data": {
      "text/plain": [
       "4"
      ]
     },
     "execution_count": 301,
     "metadata": {},
     "output_type": "execute_result"
    }
   ],
   "source": [
    "def solution(board, moves):\n",
    "    lst = []\n",
    "    answer = 0\n",
    "\n",
    "    for p in moves:\n",
    "        i = 0\n",
    "        while i <= len(board) -1:\n",
    "            if board[i][p-1] == 0:\n",
    "                i += 1\n",
    "            else:\n",
    "                lst.append(board[i][p-1])\n",
    "                try:\n",
    "                    if lst[-1] == lst[-2]:\n",
    "                        del lst[-2:]\n",
    "                        answer += 2\n",
    "                except: pass\n",
    "                board[i][p-1] = 0\n",
    "                break\n",
    "\n",
    "    # def neighborhood(iterable):\n",
    "    #     iterator = iter(iterable)\n",
    "    #     prev_item = None\n",
    "    #     current_item = next(iterator)  # throws StopIteration if empty.\n",
    "    #     for next_item in iterator:\n",
    "    #         yield (prev_item, current_item, next_item)\n",
    "    #         prev_item = current_item\n",
    "    #         current_item = next_item\n",
    "    #     yield (prev_item, current_item, None)\n",
    "\n",
    "    # count = 1\n",
    "    # while count != 0:\n",
    "    #     count = 0\n",
    "    #     for p, c, n in neighborhood(lst):\n",
    "    #         if c == n:\n",
    "    #             lst.remove(c); lst.remove(n)\n",
    "    #             count += 1\n",
    "                \n",
    "    return answer\n",
    "\n",
    "\n",
    "solution([[0,0,0,0,0],[0,0,1,0,3],[0,2,5,0,1],[4,2,4,4,2],[3,5,1,3,1]], [1,5,3,5,1,2,1,4])"
   ]
  },
  {
   "cell_type": "code",
   "execution_count": 297,
   "metadata": {},
   "outputs": [
    {
     "data": {
      "text/plain": [
       "[0, 1, 2]"
      ]
     },
     "execution_count": 297,
     "metadata": {},
     "output_type": "execute_result"
    }
   ],
   "source": [
    "a = [0, 1, 2, 4, 4]\n",
    "del a[-2:]\n",
    "# a[-1] == a[-2]\n",
    "a"
   ]
  },
  {
   "cell_type": "code",
   "execution_count": null,
   "metadata": {},
   "outputs": [],
   "source": []
  },
  {
   "cell_type": "code",
   "execution_count": 4,
   "metadata": {},
   "outputs": [
    {
     "data": {
      "text/plain": [
       "1"
      ]
     },
     "execution_count": 4,
     "metadata": {},
     "output_type": "execute_result"
    }
   ],
   "source": [
    "solution = lambda a, b: (b*2).find(a)\n",
    "solution('hello', 'ohell')"
   ]
  },
  {
   "cell_type": "code",
   "execution_count": 11,
   "metadata": {},
   "outputs": [
    {
     "ename": "ValueError",
     "evalue": "not enough values to unpack (expected 3, got 2)",
     "output_type": "error",
     "traceback": [
      "\u001b[1;31m---------------------------------------------------------------------------\u001b[0m",
      "\u001b[1;31mValueError\u001b[0m                                Traceback (most recent call last)",
      "\u001b[1;32mc:\\김한솔\\projects\\stock-calendar\\test.ipynb 셀 2\u001b[0m in \u001b[0;36m<cell line: 1>\u001b[1;34m()\u001b[0m\n\u001b[1;32m----> <a href='vscode-notebook-cell:/c%3A/%EA%B9%80%ED%95%9C%EC%86%94/projects/stock-calendar/test.ipynb#W1sZmlsZQ%3D%3D?line=0'>1</a>\u001b[0m a, b, c \u001b[39m=\u001b[39m \u001b[39m1\u001b[39m, \u001b[39m2\u001b[39m\n\u001b[0;32m      <a href='vscode-notebook-cell:/c%3A/%EA%B9%80%ED%95%9C%EC%86%94/projects/stock-calendar/test.ipynb#W1sZmlsZQ%3D%3D?line=1'>2</a>\u001b[0m b\n",
      "\u001b[1;31mValueError\u001b[0m: not enough values to unpack (expected 3, got 2)"
     ]
    }
   ],
   "source": [
    "a, b, c = 1, 2\n",
    "b"
   ]
  },
  {
   "cell_type": "code",
   "execution_count": 14,
   "metadata": {},
   "outputs": [
    {
     "data": {
      "text/plain": [
       "1"
      ]
     },
     "execution_count": 14,
     "metadata": {},
     "output_type": "execute_result"
    }
   ],
   "source": [
    "a = 0.9\n",
    "round(a)"
   ]
  },
  {
   "cell_type": "code",
   "execution_count": 15,
   "metadata": {},
   "outputs": [
    {
     "data": {
      "text/plain": [
       "3"
      ]
     },
     "execution_count": 15,
     "metadata": {},
     "output_type": "execute_result"
    }
   ],
   "source": [
    "s = 'abcDEF'\n",
    "s.upper()\n",
    "\n",
    "def solution(my_string):\n",
    "  return ''.join([ item.lower() if item.isupper() else item.upper() for item in my_string ])\n",
    "\n",
    "solution(s)\n",
    "\n",
    "s.index('D')"
   ]
  },
  {
   "cell_type": "code",
   "execution_count": 39,
   "metadata": {},
   "outputs": [
    {
     "data": {
      "text/plain": [
       "'fallback'"
      ]
     },
     "execution_count": 39,
     "metadata": {},
     "output_type": "execute_result"
    }
   ],
   "source": [
    "def solution(cipher, code):\n",
    "  return ''.join([item for num, item in enumerate(cipher) if (num+1) % code == 0])\n",
    "\n",
    "solution('pfqallllabwaoclk', 2)"
   ]
  },
  {
   "cell_type": "code",
   "execution_count": 28,
   "metadata": {},
   "outputs": [
    {
     "name": "stdout",
     "output_type": "stream",
     "text": [
      "0 p\n",
      "1 f\n",
      "2 q\n",
      "3 a\n",
      "4 l\n",
      "5 l\n",
      "6 l\n",
      "7 l\n",
      "8 a\n",
      "9 b\n",
      "10 w\n",
      "11 a\n",
      "12 o\n",
      "13 c\n",
      "14 l\n",
      "15 k\n"
     ]
    }
   ],
   "source": [
    "s = 'pfqallllabwaoclk'\n",
    "for num, item in enumerate(s):\n",
    "  print (num, item)"
   ]
  },
  {
   "cell_type": "code",
   "execution_count": 13,
   "metadata": {},
   "outputs": [
    {
     "data": {
      "text/plain": [
       "<map at 0x1ca54848280>"
      ]
     },
     "execution_count": 13,
     "metadata": {},
     "output_type": "execute_result"
    }
   ],
   "source": [
    "n = 3693693690000\n",
    "answer = 0\n",
    "\n",
    "for item in str(n):\n",
    "  if int(item) % 3 == 0 and int(item) != 0:\n",
    "    answer += 1\n",
    "\n",
    "map(lambda x: x+1, [3, 6, 9])"
   ]
  },
  {
   "cell_type": "code",
   "execution_count": 38,
   "metadata": {},
   "outputs": [
    {
     "data": {
      "text/plain": [
       "19"
      ]
     },
     "execution_count": 38,
     "metadata": {},
     "output_type": "execute_result"
    }
   ],
   "source": [
    "n = 20\n",
    "lst = [3, 28, 10, 9, 11, -25, 21, 19]\n",
    "# for i in sorted(lst):\n",
    "#   if abs(i - n) == 0:\n",
    "#     answer = i\n",
    "#   else:\n",
    "\n",
    "abs_list = [ abs(item - n) for item in lst ]\n",
    "min_value = min(abs_list)\n",
    "min_idx = [ num for num, value in enumerate(abs_list) if value == min_value ]\n",
    "\n",
    "answer = map(lambda x: lst[x], min_idx)\n",
    "min(answer)\n"
   ]
  },
  {
   "cell_type": "code",
   "execution_count": 48,
   "metadata": {},
   "outputs": [
    {
     "name": "stdout",
     "output_type": "stream",
     "text": [
      "(17, 3)\n",
      "(8, 28)\n",
      "(10, 10)\n",
      "(11, 9)\n",
      "(9, 11)\n",
      "(45, -25)\n",
      "(1, 21)\n",
      "(1, 19)\n"
     ]
    },
    {
     "data": {
      "text/plain": [
       "19"
      ]
     },
     "execution_count": 48,
     "metadata": {},
     "output_type": "execute_result"
    }
   ],
   "source": [
    "n = 20\n",
    "lst = [3, 28, 10, 9, 11, -25, 21, 19]\n",
    "\n",
    "solution=lambda a,n:sorted(a,key=lambda x:(abs(x-n),x))[0]\n",
    "\n",
    "for item in lst:\n",
    "  func = lambda x:(abs(item-n),item)\n",
    "  print(func(item))\n",
    "\n",
    "solution(lst, n)"
   ]
  },
  {
   "cell_type": "code",
   "execution_count": 51,
   "metadata": {},
   "outputs": [
    {
     "ename": "TypeError",
     "evalue": "'int' object is not callable",
     "output_type": "error",
     "traceback": [
      "\u001b[1;31m---------------------------------------------------------------------------\u001b[0m",
      "\u001b[1;31mTypeError\u001b[0m                                 Traceback (most recent call last)",
      "\u001b[1;32mc:\\김한솔\\projects\\stock-calendar\\test.ipynb 셀 11\u001b[0m in \u001b[0;36m<cell line: 2>\u001b[1;34m()\u001b[0m\n\u001b[0;32m      <a href='vscode-notebook-cell:/c%3A/%EA%B9%80%ED%95%9C%EC%86%94/projects/stock-calendar/test.ipynb#X15sZmlsZQ%3D%3D?line=0'>1</a>\u001b[0m lst \u001b[39m=\u001b[39m [\u001b[39m3\u001b[39m, \u001b[39m28\u001b[39m, \u001b[39m10\u001b[39m, \u001b[39m9\u001b[39m, \u001b[39m11\u001b[39m, \u001b[39m-\u001b[39m\u001b[39m25\u001b[39m, \u001b[39m21\u001b[39m, \u001b[39m19\u001b[39m]\n\u001b[1;32m----> <a href='vscode-notebook-cell:/c%3A/%EA%B9%80%ED%95%9C%EC%86%94/projects/stock-calendar/test.ipynb#X15sZmlsZQ%3D%3D?line=1'>2</a>\u001b[0m \u001b[39msorted\u001b[39;49m(lst, key\u001b[39m=\u001b[39;49m\u001b[39m0\u001b[39;49m)\n",
      "\u001b[1;31mTypeError\u001b[0m: 'int' object is not callable"
     ]
    }
   ],
   "source": [
    "lst = [3, 28, 10, 9, 11, -25, 21, 19]\n",
    "sorted(lst, key=0)"
   ]
  },
  {
   "cell_type": "code",
   "execution_count": 52,
   "metadata": {},
   "outputs": [
    {
     "data": {
      "text/plain": [
       "1"
      ]
     },
     "execution_count": 52,
     "metadata": {},
     "output_type": "execute_result"
    }
   ],
   "source": [
    "s = 'hello world'\n",
    "s.count('h')"
   ]
  },
  {
   "cell_type": "code",
   "execution_count": 66,
   "metadata": {},
   "outputs": [
    {
     "data": {
      "text/plain": [
       "'101'"
      ]
     },
     "execution_count": 66,
     "metadata": {},
     "output_type": "execute_result"
    }
   ],
   "source": [
    "def solution(bin1, bin2):\n",
    "  return bin(int(str(bin1), 2) + int(str(bin2), 2))[2:]\n",
    "\n",
    "solution(10, 11)"
   ]
  },
  {
   "cell_type": "code",
   "execution_count": 63,
   "metadata": {},
   "outputs": [
    {
     "data": {
      "text/plain": [
       "2"
      ]
     },
     "execution_count": 63,
     "metadata": {},
     "output_type": "execute_result"
    }
   ],
   "source": [
    "\"{0:b}\".format(10)\n",
    "\n",
    "int(str(10), 2)"
   ]
  },
  {
   "cell_type": "code",
   "execution_count": 69,
   "metadata": {},
   "outputs": [
    {
     "data": {
      "text/plain": [
       "3"
      ]
     },
     "execution_count": 69,
     "metadata": {},
     "output_type": "execute_result"
    }
   ],
   "source": [
    "len(str(100))"
   ]
  },
  {
   "cell_type": "code",
   "execution_count": 81,
   "metadata": {},
   "outputs": [
    {
     "data": {
      "text/plain": [
       "8"
      ]
     },
     "execution_count": 81,
     "metadata": {},
     "output_type": "execute_result"
    }
   ],
   "source": [
    "lines = [[0, 5], [3, 9], [1, 10]]\n",
    "\n",
    "def solution(lines):\n",
    "  answer = 0; semi_ans = 0\n",
    "  lst_ext = []\n",
    "  for item in lines:\n",
    "    lst_ext.extend(item)\n",
    "\n",
    "  m, n = max(lst_ext), min(lst_ext)\n",
    "\n",
    "  for x in range(n, m):\n",
    "    for item in lines:\n",
    "      if x + 0.5 > item[0] and x + 0.5 < item[1]:\n",
    "        semi_ans += 1\n",
    "        continue\n",
    "    if semi_ans >= 2:\n",
    "      answer += 1\n",
    "    semi_ans = 0\n",
    "  \n",
    "  return answer\n",
    "\n",
    "\n",
    "\n",
    "solution(lines)"
   ]
  },
  {
   "cell_type": "code",
   "execution_count": 1,
   "metadata": {},
   "outputs": [
    {
     "name": "stdout",
     "output_type": "stream",
     "text": [
      "([1, 4], [9, 2]) *\n",
      "[[3, 8], [11, 6]]\n",
      "-0.25\n",
      "-0.25\n"
     ]
    },
    {
     "data": {
      "text/plain": [
       "1"
      ]
     },
     "execution_count": 1,
     "metadata": {},
     "output_type": "execute_result"
    }
   ],
   "source": [
    "from itertools import combinations\n",
    "\n",
    "dots = [[1, 4], [9, 2], [3, 8], [11, 6]]\n",
    "\n",
    "# comb = []\n",
    "comb = combinations(dots, 2)\n",
    "# print(sorted(list(comb)))\n",
    "\n",
    "for item in list(comb):\n",
    "  print(item, '*')\n",
    "  comb_com = sorted([ elm for elm in dots if elm not in item ])\n",
    "  print(comb_com)\n",
    "\n",
    "  print((item[1][1]-item[0][1])/(item[1][0]- item[0][0]))\n",
    "  print((comb_com[1][1]-comb_com[0][1])/(comb_com[1][0]- comb_com[0][0]))\n",
    "\n",
    "  if (item[1][1]-item[0][1])/(item[1][0]- item[0][0]) == (comb_com[1][1]-comb_com[0][1])/(comb_com[1][0]- comb_com[0][0]):\n",
    "    answer = 1\n",
    "    break\n",
    "\n",
    "answer\n",
    "  \n"
   ]
  },
  {
   "cell_type": "code",
   "execution_count": 27,
   "metadata": {},
   "outputs": [
    {
     "name": "stdout",
     "output_type": "stream",
     "text": [
      "0 0\n",
      "1 1\n",
      "2 2\n",
      "3 4\n",
      "4 5\n",
      "5 7\n",
      "6 8\n",
      "7 10\n",
      "8 11\n",
      "9 13\n"
     ]
    },
    {
     "data": {
      "text/plain": [
       "14"
      ]
     },
     "execution_count": 27,
     "metadata": {},
     "output_type": "execute_result"
    }
   ],
   "source": [
    "def solution(n):\n",
    "    answer = 0\n",
    "    for _ in range(n):\n",
    "        print(_, answer)\n",
    "        answer += 1\n",
    "        if answer % 3 == 0 or '3' in str(answer):\n",
    "            answer += 1\n",
    "    return answer\n",
    "\n",
    "solution(10)"
   ]
  },
  {
   "cell_type": "code",
   "execution_count": 25,
   "metadata": {},
   "outputs": [
    {
     "name": "stdout",
     "output_type": "stream",
     "text": [
      "0 0\n",
      "1 1\n",
      "2 2\n",
      "3 4\n",
      "4 5\n",
      "5 7\n",
      "6 8\n",
      "7 10\n",
      "8 11\n",
      "9 14\n"
     ]
    },
    {
     "data": {
      "text/plain": [
       "16"
      ]
     },
     "execution_count": 25,
     "metadata": {},
     "output_type": "execute_result"
    }
   ],
   "source": [
    "def solution(n):\n",
    "    answer = 0\n",
    "    for _ in range(n):\n",
    "        print(_, answer)\n",
    "        answer += 1\n",
    "        while answer % 3 == 0 or '3' in str(answer):\n",
    "            answer += 1\n",
    "    return answer\n",
    "\n",
    "solution(10)"
   ]
  },
  {
   "cell_type": "code",
   "execution_count": 9,
   "metadata": {},
   "outputs": [
    {
     "data": {
      "text/plain": [
       "{1: 1,\n",
       " 2: 2,\n",
       " 3: 4,\n",
       " 4: 5,\n",
       " 5: 7,\n",
       " 6: 8,\n",
       " 7: 10,\n",
       " 8: 11,\n",
       " 9: 14,\n",
       " 10: 16,\n",
       " 11: 17,\n",
       " 12: 19,\n",
       " 13: 20,\n",
       " 14: 22,\n",
       " 15: 25,\n",
       " 16: 26,\n",
       " 17: 28,\n",
       " 18: 29,\n",
       " 19: 40,\n",
       " 20: 41,\n",
       " 21: 44,\n",
       " 22: 46,\n",
       " 23: 47,\n",
       " 24: 49,\n",
       " 25: 50,\n",
       " 26: 52,\n",
       " 27: 55,\n",
       " 28: 56,\n",
       " 29: 58,\n",
       " 30: 59,\n",
       " 31: 61,\n",
       " 32: 62,\n",
       " 33: 64,\n",
       " 34: 65,\n",
       " 35: 67,\n",
       " 36: 68,\n",
       " 37: 70,\n",
       " 38: 71,\n",
       " 39: 74,\n",
       " 40: 76,\n",
       " 41: 77,\n",
       " 42: 79,\n",
       " 43: 80,\n",
       " 44: 82,\n",
       " 45: 85,\n",
       " 46: 86,\n",
       " 47: 88,\n",
       " 48: 89,\n",
       " 49: 91,\n",
       " 50: 92,\n",
       " 51: 94,\n",
       " 52: 95,\n",
       " 53: 97,\n",
       " 54: 98,\n",
       " 55: 100,\n",
       " 56: 101,\n",
       " 57: 104,\n",
       " 58: 106,\n",
       " 59: 107,\n",
       " 60: 109,\n",
       " 61: 110,\n",
       " 62: 112,\n",
       " 63: 115,\n",
       " 64: 116,\n",
       " 65: 118,\n",
       " 66: 119,\n",
       " 67: 121,\n",
       " 68: 122,\n",
       " 69: 124,\n",
       " 70: 125,\n",
       " 71: 127,\n",
       " 72: 128,\n",
       " 73: 140,\n",
       " 74: 142,\n",
       " 75: 145,\n",
       " 76: 146,\n",
       " 77: 148,\n",
       " 78: 149,\n",
       " 79: 151,\n",
       " 80: 152,\n",
       " 81: 154,\n",
       " 82: 155,\n",
       " 83: 157,\n",
       " 84: 158,\n",
       " 85: 160,\n",
       " 86: 161,\n",
       " 87: 164,\n",
       " 88: 166,\n",
       " 89: 167,\n",
       " 90: 169,\n",
       " 91: 170,\n",
       " 92: 172,\n",
       " 93: 175,\n",
       " 94: 176,\n",
       " 95: 178,\n",
       " 96: 179,\n",
       " 97: 181,\n",
       " 98: 182,\n",
       " 99: 184,\n",
       " 100: 185}"
      ]
     },
     "execution_count": 9,
     "metadata": {},
     "output_type": "execute_result"
    }
   ],
   "source": [
    "lst = [0]\n",
    "dict_ = {}\n",
    "\n",
    "for i in range(1, 300):\n",
    "  if '3' in str(i) or i % 3 == 0:\n",
    "    continue\n",
    "  else:\n",
    "    lst.append(i)\n",
    "\n",
    "for i in range(1, 101):\n",
    "  dict_[i] = lst[i]\n",
    "\n",
    "dict_\n"
   ]
  },
  {
   "cell_type": "code",
   "execution_count": 5,
   "metadata": {},
   "outputs": [
    {
     "data": {
      "text/plain": [
       "{'0': 0,\n",
       " '1': 1,\n",
       " '2': 2,\n",
       " '3': 4,\n",
       " '4': 5,\n",
       " '5': 5,\n",
       " '6': 7,\n",
       " '7': 8,\n",
       " '8': 8,\n",
       " '9': 10,\n",
       " '10': 11,\n",
       " '11': 11,\n",
       " '12': 14,\n",
       " '13': 14,\n",
       " '14': 14,\n",
       " '15': 16,\n",
       " '16': 17,\n",
       " '17': 17,\n",
       " '18': 19,\n",
       " '19': 20,\n",
       " '20': 20,\n",
       " '21': 22,\n",
       " '22': 22,\n",
       " '23': 25,\n",
       " '24': 26,\n",
       " '25': 25,\n",
       " '26': 26,\n",
       " '27': 28,\n",
       " '28': 29,\n",
       " '29': 29,\n",
       " '30': 40,\n",
       " '31': 41,\n",
       " '32': 40,\n",
       " '33': 41,\n",
       " '34': 40,\n",
       " '35': 41,\n",
       " '36': 40,\n",
       " '37': 41,\n",
       " '38': 40,\n",
       " '39': 41,\n",
       " '40': 40,\n",
       " '41': 41,\n",
       " '42': 44,\n",
       " '43': 44,\n",
       " '44': 44,\n",
       " '45': 46,\n",
       " '46': 47,\n",
       " '47': 47,\n",
       " '48': 49,\n",
       " '49': 50,\n",
       " '50': 50,\n",
       " '51': 52,\n",
       " '52': 52,\n",
       " '53': 55,\n",
       " '54': 56,\n",
       " '55': 55,\n",
       " '56': 56,\n",
       " '57': 58,\n",
       " '58': 59,\n",
       " '59': 59,\n",
       " '60': 61,\n",
       " '61': 62,\n",
       " '62': 62,\n",
       " '63': 64,\n",
       " '64': 65,\n",
       " '65': 65,\n",
       " '66': 67,\n",
       " '67': 68,\n",
       " '68': 68,\n",
       " '69': 70,\n",
       " '70': 71,\n",
       " '71': 71,\n",
       " '72': 74,\n",
       " '73': 74,\n",
       " '74': 74,\n",
       " '75': 76,\n",
       " '76': 77,\n",
       " '77': 77,\n",
       " '78': 79,\n",
       " '79': 80,\n",
       " '80': 80,\n",
       " '81': 82,\n",
       " '82': 82,\n",
       " '83': 85,\n",
       " '84': 86,\n",
       " '85': 85,\n",
       " '86': 86,\n",
       " '87': 88,\n",
       " '88': 89,\n",
       " '89': 89,\n",
       " '90': 91,\n",
       " '91': 92,\n",
       " '92': 92,\n",
       " '93': 94,\n",
       " '94': 95,\n",
       " '95': 95,\n",
       " '96': 97,\n",
       " '97': 98,\n",
       " '98': 98,\n",
       " '99': 100,\n",
       " '100': 101}"
      ]
     },
     "execution_count": 5,
     "metadata": {},
     "output_type": "execute_result"
    }
   ],
   "source": [
    "num_dict = {'0': 0}\n",
    "num_cum = 0\n",
    "\n",
    "def jump_(n):\n",
    "  if '3' in str(n) or n % 3 == 0:\n",
    "    return jump_(n+1)\n",
    "  else: \n",
    "    return n\n",
    "\n",
    "for i in range(1, 101):\n",
    "  if '3' in str(num_cum + 1) or (num_cum +  1) % 3 == 0:\n",
    "    num_dict[str(i)] = jump_(i)\n",
    "    num_cum = jump_(i)\n",
    "  else:\n",
    "    num_dict[str(i)] = num_cum + 1\n",
    "    num_cum += 1\n",
    "  \n",
    "  \n",
    "  \n",
    "\n",
    "num_dict"
   ]
  },
  {
   "cell_type": "code",
   "execution_count": 2,
   "metadata": {},
   "outputs": [
    {
     "data": {
      "text/plain": [
       "[1,\n",
       " 2,\n",
       " 4,\n",
       " 5,\n",
       " 6,\n",
       " 7,\n",
       " 8,\n",
       " 9,\n",
       " 10,\n",
       " 11,\n",
       " 12,\n",
       " 14,\n",
       " 14,\n",
       " 15,\n",
       " 16,\n",
       " 17,\n",
       " 18,\n",
       " 19,\n",
       " 20,\n",
       " 21,\n",
       " 22,\n",
       " 23,\n",
       " 25,\n",
       " 25,\n",
       " 26,\n",
       " 27,\n",
       " 28,\n",
       " 29,\n",
       " 30,\n",
       " 40,\n",
       " 40,\n",
       " 40,\n",
       " 40,\n",
       " 40,\n",
       " 40,\n",
       " 40,\n",
       " 40,\n",
       " 40,\n",
       " 40,\n",
       " 41,\n",
       " 42,\n",
       " 44,\n",
       " 44,\n",
       " 45,\n",
       " 46,\n",
       " 47,\n",
       " 48,\n",
       " 49,\n",
       " 50,\n",
       " 51,\n",
       " 52,\n",
       " 53,\n",
       " 55,\n",
       " 55,\n",
       " 56,\n",
       " 57,\n",
       " 58,\n",
       " 59,\n",
       " 60,\n",
       " 61,\n",
       " 62,\n",
       " 63,\n",
       " 64,\n",
       " 65,\n",
       " 66,\n",
       " 67,\n",
       " 68,\n",
       " 69,\n",
       " 70,\n",
       " 71,\n",
       " 72,\n",
       " 74,\n",
       " 74,\n",
       " 75,\n",
       " 76,\n",
       " 77,\n",
       " 78,\n",
       " 79,\n",
       " 80,\n",
       " 81,\n",
       " 82,\n",
       " 83,\n",
       " 85,\n",
       " 85,\n",
       " 86,\n",
       " 87,\n",
       " 88,\n",
       " 89,\n",
       " 90,\n",
       " 91,\n",
       " 92,\n",
       " 93,\n",
       " 94,\n",
       " 95,\n",
       " 96,\n",
       " 97,\n",
       " 98,\n",
       " 99,\n",
       " 100,\n",
       " 101]"
      ]
     },
     "execution_count": 2,
     "metadata": {},
     "output_type": "execute_result"
    }
   ],
   "source": [
    "num_lst = []\n",
    "num_cum = 0\n",
    "\n",
    "def jump_(n):\n",
    "  if '3' in str(n) or n % 3 == 0:\n",
    "    return jump_(n+1)\n",
    "  else: \n",
    "    return n\n",
    "\n",
    "for i in range(1, 101):\n",
    "  if '3' in str(i) or i % 3 == 0:\n",
    "    num_lst.append(jump_(i))\n",
    "    num_cum = jump_(i)\n",
    "  else:\n",
    "    num_lst.append(num_cum + 1)\n",
    "    num_cum += 1\n",
    "\n",
    "num_lst"
   ]
  },
  {
   "cell_type": "code",
   "execution_count": 3,
   "metadata": {},
   "outputs": [
    {
     "data": {
      "text/plain": [
       "{'1': 1,\n",
       " '2': 2,\n",
       " '3': 4,\n",
       " '4': 5,\n",
       " '5': 6,\n",
       " '6': 7,\n",
       " '7': 8,\n",
       " '8': 9,\n",
       " '9': 10,\n",
       " '10': 11,\n",
       " '11': 12,\n",
       " '12': 14,\n",
       " '13': 14,\n",
       " '14': 15,\n",
       " '15': 16,\n",
       " '16': 17,\n",
       " '17': 18,\n",
       " '18': 19,\n",
       " '19': 20,\n",
       " '20': 21,\n",
       " '21': 22,\n",
       " '22': 23,\n",
       " '23': 25,\n",
       " '24': 25,\n",
       " '25': 26,\n",
       " '26': 27,\n",
       " '27': 28,\n",
       " '28': 29,\n",
       " '29': 30,\n",
       " '30': 40,\n",
       " '31': 40,\n",
       " '32': 40,\n",
       " '33': 40,\n",
       " '34': 40,\n",
       " '35': 40,\n",
       " '36': 40,\n",
       " '37': 40,\n",
       " '38': 40,\n",
       " '39': 40,\n",
       " '40': 41,\n",
       " '41': 42,\n",
       " '42': 44,\n",
       " '43': 44,\n",
       " '44': 45,\n",
       " '45': 46,\n",
       " '46': 47,\n",
       " '47': 48,\n",
       " '48': 49,\n",
       " '49': 50,\n",
       " '50': 51,\n",
       " '51': 52,\n",
       " '52': 53,\n",
       " '53': 55,\n",
       " '54': 55,\n",
       " '55': 56,\n",
       " '56': 57,\n",
       " '57': 58,\n",
       " '58': 59,\n",
       " '59': 60,\n",
       " '60': 61,\n",
       " '61': 62,\n",
       " '62': 63,\n",
       " '63': 64,\n",
       " '64': 65,\n",
       " '65': 66,\n",
       " '66': 67,\n",
       " '67': 68,\n",
       " '68': 69,\n",
       " '69': 70,\n",
       " '70': 71,\n",
       " '71': 72,\n",
       " '72': 74,\n",
       " '73': 74,\n",
       " '74': 75,\n",
       " '75': 76,\n",
       " '76': 77,\n",
       " '77': 78,\n",
       " '78': 79,\n",
       " '79': 80,\n",
       " '80': 81,\n",
       " '81': 82,\n",
       " '82': 83,\n",
       " '83': 85,\n",
       " '84': 85,\n",
       " '85': 86,\n",
       " '86': 87,\n",
       " '87': 88,\n",
       " '88': 89,\n",
       " '89': 90,\n",
       " '90': 91,\n",
       " '91': 92,\n",
       " '92': 93,\n",
       " '93': 94,\n",
       " '94': 95,\n",
       " '95': 96,\n",
       " '96': 97,\n",
       " '97': 98,\n",
       " '98': 99,\n",
       " '99': 100,\n",
       " '100': 101}"
      ]
     },
     "execution_count": 3,
     "metadata": {},
     "output_type": "execute_result"
    }
   ],
   "source": [
    "num_dict = {}\n",
    "num_cum = 1\n",
    "\n",
    "def jump_(n):\n",
    "  if '3' in str(n) or n % 3 == 0:\n",
    "    return jump_(n+1)\n",
    "  else: \n",
    "    return n\n",
    "\n",
    "for i in range(1, 101):\n",
    "  if '3' in str(i) or i % 3 == 0:\n",
    "    num_dict[str(i)] = jump_(i)\n",
    "    num_cum = jump_(i)\n",
    "  else:\n",
    "    num_dict[str(i)] = num_cum + 1\n",
    "    num_cum += 1\n",
    "  \n",
    "  \n",
    "  \n",
    "\n",
    "num_dict\n"
   ]
  },
  {
   "cell_type": "code",
   "execution_count": 2,
   "metadata": {},
   "outputs": [
    {
     "name": "stdout",
     "output_type": "stream",
     "text": [
      "1\n",
      "{'1': 1}\n",
      "1 1\n",
      "2\n",
      "{'1': 1, '2': 2}\n",
      "2 2\n",
      "4\n",
      "{'1': 1, '2': 2, '4': 4}\n",
      "3 None\n",
      "4\n",
      "{'1': 1, '2': 2, '4': 4, '3': 4}\n",
      "4 4\n",
      "5\n",
      "{'1': 1, '2': 2, '4': 4, '3': 4, '5': 5}\n",
      "5 5\n",
      "7\n",
      "{'1': 1, '2': 2, '4': 4, '3': 4, '5': 5, '7': 7}\n",
      "6 None\n",
      "7\n",
      "{'1': 1, '2': 2, '4': 4, '3': 4, '5': 5, '7': 7, '6': 7}\n",
      "7 7\n",
      "8\n",
      "{'1': 1, '2': 2, '4': 4, '3': 4, '5': 5, '7': 7, '6': 7, '8': 8}\n",
      "8 8\n",
      "10\n",
      "{'1': 1, '2': 2, '4': 4, '3': 4, '5': 5, '7': 7, '6': 7, '8': 8, '10': 10}\n",
      "9 None\n",
      "10\n",
      "{'1': 1, '2': 2, '4': 4, '3': 4, '5': 5, '7': 7, '6': 7, '8': 8, '10': 10, '9': 10}\n",
      "10 10\n",
      "11\n",
      "{'1': 1, '2': 2, '4': 4, '3': 4, '5': 5, '7': 7, '6': 7, '8': 8, '10': 10, '9': 10, '11': 11}\n",
      "11 11\n",
      "14\n",
      "{'1': 1, '2': 2, '4': 4, '3': 4, '5': 5, '7': 7, '6': 7, '8': 8, '10': 10, '9': 10, '11': 11, '14': 14}\n",
      "12 None\n",
      "14\n",
      "{'1': 1, '2': 2, '4': 4, '3': 4, '5': 5, '7': 7, '6': 7, '8': 8, '10': 10, '9': 10, '11': 11, '14': 14, '13': 14, '12': None}\n",
      "13 None\n",
      "14\n",
      "{'1': 1, '2': 2, '4': 4, '3': 4, '5': 5, '7': 7, '6': 7, '8': 8, '10': 10, '9': 10, '11': 11, '14': 14, '13': 14, '12': None}\n",
      "14 14\n",
      "16\n",
      "{'1': 1, '2': 2, '4': 4, '3': 4, '5': 5, '7': 7, '6': 7, '8': 8, '10': 10, '9': 10, '11': 11, '14': 14, '13': 14, '12': None, '16': 16}\n",
      "15 None\n",
      "16\n",
      "{'1': 1, '2': 2, '4': 4, '3': 4, '5': 5, '7': 7, '6': 7, '8': 8, '10': 10, '9': 10, '11': 11, '14': 14, '13': 14, '12': None, '16': 16, '15': 16}\n",
      "16 16\n",
      "17\n",
      "{'1': 1, '2': 2, '4': 4, '3': 4, '5': 5, '7': 7, '6': 7, '8': 8, '10': 10, '9': 10, '11': 11, '14': 14, '13': 14, '12': None, '16': 16, '15': 16, '17': 17}\n",
      "17 17\n",
      "19\n",
      "{'1': 1, '2': 2, '4': 4, '3': 4, '5': 5, '7': 7, '6': 7, '8': 8, '10': 10, '9': 10, '11': 11, '14': 14, '13': 14, '12': None, '16': 16, '15': 16, '17': 17, '19': 19}\n",
      "18 None\n",
      "19\n",
      "{'1': 1, '2': 2, '4': 4, '3': 4, '5': 5, '7': 7, '6': 7, '8': 8, '10': 10, '9': 10, '11': 11, '14': 14, '13': 14, '12': None, '16': 16, '15': 16, '17': 17, '19': 19, '18': 19}\n",
      "19 19\n",
      "20\n",
      "{'1': 1, '2': 2, '4': 4, '3': 4, '5': 5, '7': 7, '6': 7, '8': 8, '10': 10, '9': 10, '11': 11, '14': 14, '13': 14, '12': None, '16': 16, '15': 16, '17': 17, '19': 19, '18': 19, '20': 20}\n",
      "20 20\n",
      "22\n",
      "{'1': 1, '2': 2, '4': 4, '3': 4, '5': 5, '7': 7, '6': 7, '8': 8, '10': 10, '9': 10, '11': 11, '14': 14, '13': 14, '12': None, '16': 16, '15': 16, '17': 17, '19': 19, '18': 19, '20': 20, '22': 22}\n",
      "21 None\n",
      "22\n",
      "{'1': 1, '2': 2, '4': 4, '3': 4, '5': 5, '7': 7, '6': 7, '8': 8, '10': 10, '9': 10, '11': 11, '14': 14, '13': 14, '12': None, '16': 16, '15': 16, '17': 17, '19': 19, '18': 19, '20': 20, '22': 22, '21': 22}\n",
      "22 22\n",
      "25\n",
      "{'1': 1, '2': 2, '4': 4, '3': 4, '5': 5, '7': 7, '6': 7, '8': 8, '10': 10, '9': 10, '11': 11, '14': 14, '13': 14, '12': None, '16': 16, '15': 16, '17': 17, '19': 19, '18': 19, '20': 20, '22': 22, '21': 22, '25': 25}\n",
      "23 None\n",
      "25\n",
      "{'1': 1, '2': 2, '4': 4, '3': 4, '5': 5, '7': 7, '6': 7, '8': 8, '10': 10, '9': 10, '11': 11, '14': 14, '13': 14, '12': None, '16': 16, '15': 16, '17': 17, '19': 19, '18': 19, '20': 20, '22': 22, '21': 22, '25': 25, '24': 25, '23': None}\n",
      "24 None\n",
      "25\n",
      "{'1': 1, '2': 2, '4': 4, '3': 4, '5': 5, '7': 7, '6': 7, '8': 8, '10': 10, '9': 10, '11': 11, '14': 14, '13': 14, '12': None, '16': 16, '15': 16, '17': 17, '19': 19, '18': 19, '20': 20, '22': 22, '21': 22, '25': 25, '24': 25, '23': None}\n",
      "25 25\n",
      "26\n",
      "{'1': 1, '2': 2, '4': 4, '3': 4, '5': 5, '7': 7, '6': 7, '8': 8, '10': 10, '9': 10, '11': 11, '14': 14, '13': 14, '12': None, '16': 16, '15': 16, '17': 17, '19': 19, '18': 19, '20': 20, '22': 22, '21': 22, '25': 25, '24': 25, '23': None, '26': 26}\n",
      "26 26\n",
      "28\n",
      "{'1': 1, '2': 2, '4': 4, '3': 4, '5': 5, '7': 7, '6': 7, '8': 8, '10': 10, '9': 10, '11': 11, '14': 14, '13': 14, '12': None, '16': 16, '15': 16, '17': 17, '19': 19, '18': 19, '20': 20, '22': 22, '21': 22, '25': 25, '24': 25, '23': None, '26': 26, '28': 28}\n",
      "27 None\n",
      "28\n",
      "{'1': 1, '2': 2, '4': 4, '3': 4, '5': 5, '7': 7, '6': 7, '8': 8, '10': 10, '9': 10, '11': 11, '14': 14, '13': 14, '12': None, '16': 16, '15': 16, '17': 17, '19': 19, '18': 19, '20': 20, '22': 22, '21': 22, '25': 25, '24': 25, '23': None, '26': 26, '28': 28, '27': 28}\n",
      "28 28\n",
      "29\n",
      "{'1': 1, '2': 2, '4': 4, '3': 4, '5': 5, '7': 7, '6': 7, '8': 8, '10': 10, '9': 10, '11': 11, '14': 14, '13': 14, '12': None, '16': 16, '15': 16, '17': 17, '19': 19, '18': 19, '20': 20, '22': 22, '21': 22, '25': 25, '24': 25, '23': None, '26': 26, '28': 28, '27': 28, '29': 29}\n",
      "29 29\n",
      "40\n",
      "{'1': 1, '2': 2, '4': 4, '3': 4, '5': 5, '7': 7, '6': 7, '8': 8, '10': 10, '9': 10, '11': 11, '14': 14, '13': 14, '12': None, '16': 16, '15': 16, '17': 17, '19': 19, '18': 19, '20': 20, '22': 22, '21': 22, '25': 25, '24': 25, '23': None, '26': 26, '28': 28, '27': 28, '29': 29, '40': 40}\n",
      "30 None\n",
      "40\n",
      "{'1': 1, '2': 2, '4': 4, '3': 4, '5': 5, '7': 7, '6': 7, '8': 8, '10': 10, '9': 10, '11': 11, '14': 14, '13': 14, '12': None, '16': 16, '15': 16, '17': 17, '19': 19, '18': 19, '20': 20, '22': 22, '21': 22, '25': 25, '24': 25, '23': None, '26': 26, '28': 28, '27': 28, '29': 29, '40': 40, '39': 40, '38': None, '37': None, '36': None, '35': None, '34': None, '33': None, '32': None, '31': None, '30': None}\n",
      "31 None\n",
      "40\n",
      "{'1': 1, '2': 2, '4': 4, '3': 4, '5': 5, '7': 7, '6': 7, '8': 8, '10': 10, '9': 10, '11': 11, '14': 14, '13': 14, '12': None, '16': 16, '15': 16, '17': 17, '19': 19, '18': 19, '20': 20, '22': 22, '21': 22, '25': 25, '24': 25, '23': None, '26': 26, '28': 28, '27': 28, '29': 29, '40': 40, '39': 40, '38': None, '37': None, '36': None, '35': None, '34': None, '33': None, '32': None, '31': None, '30': None}\n",
      "32 None\n",
      "40\n",
      "{'1': 1, '2': 2, '4': 4, '3': 4, '5': 5, '7': 7, '6': 7, '8': 8, '10': 10, '9': 10, '11': 11, '14': 14, '13': 14, '12': None, '16': 16, '15': 16, '17': 17, '19': 19, '18': 19, '20': 20, '22': 22, '21': 22, '25': 25, '24': 25, '23': None, '26': 26, '28': 28, '27': 28, '29': 29, '40': 40, '39': 40, '38': None, '37': None, '36': None, '35': None, '34': None, '33': None, '32': None, '31': None, '30': None}\n",
      "33 None\n",
      "40\n",
      "{'1': 1, '2': 2, '4': 4, '3': 4, '5': 5, '7': 7, '6': 7, '8': 8, '10': 10, '9': 10, '11': 11, '14': 14, '13': 14, '12': None, '16': 16, '15': 16, '17': 17, '19': 19, '18': 19, '20': 20, '22': 22, '21': 22, '25': 25, '24': 25, '23': None, '26': 26, '28': 28, '27': 28, '29': 29, '40': 40, '39': 40, '38': None, '37': None, '36': None, '35': None, '34': None, '33': None, '32': None, '31': None, '30': None}\n",
      "34 None\n",
      "40\n",
      "{'1': 1, '2': 2, '4': 4, '3': 4, '5': 5, '7': 7, '6': 7, '8': 8, '10': 10, '9': 10, '11': 11, '14': 14, '13': 14, '12': None, '16': 16, '15': 16, '17': 17, '19': 19, '18': 19, '20': 20, '22': 22, '21': 22, '25': 25, '24': 25, '23': None, '26': 26, '28': 28, '27': 28, '29': 29, '40': 40, '39': 40, '38': None, '37': None, '36': None, '35': None, '34': None, '33': None, '32': None, '31': None, '30': None}\n",
      "35 None\n",
      "40\n",
      "{'1': 1, '2': 2, '4': 4, '3': 4, '5': 5, '7': 7, '6': 7, '8': 8, '10': 10, '9': 10, '11': 11, '14': 14, '13': 14, '12': None, '16': 16, '15': 16, '17': 17, '19': 19, '18': 19, '20': 20, '22': 22, '21': 22, '25': 25, '24': 25, '23': None, '26': 26, '28': 28, '27': 28, '29': 29, '40': 40, '39': 40, '38': None, '37': None, '36': None, '35': None, '34': None, '33': None, '32': None, '31': None, '30': None}\n",
      "36 None\n",
      "40\n",
      "{'1': 1, '2': 2, '4': 4, '3': 4, '5': 5, '7': 7, '6': 7, '8': 8, '10': 10, '9': 10, '11': 11, '14': 14, '13': 14, '12': None, '16': 16, '15': 16, '17': 17, '19': 19, '18': 19, '20': 20, '22': 22, '21': 22, '25': 25, '24': 25, '23': None, '26': 26, '28': 28, '27': 28, '29': 29, '40': 40, '39': 40, '38': None, '37': None, '36': None, '35': None, '34': None, '33': None, '32': None, '31': None, '30': None}\n",
      "37 None\n",
      "40\n",
      "{'1': 1, '2': 2, '4': 4, '3': 4, '5': 5, '7': 7, '6': 7, '8': 8, '10': 10, '9': 10, '11': 11, '14': 14, '13': 14, '12': None, '16': 16, '15': 16, '17': 17, '19': 19, '18': 19, '20': 20, '22': 22, '21': 22, '25': 25, '24': 25, '23': None, '26': 26, '28': 28, '27': 28, '29': 29, '40': 40, '39': 40, '38': None, '37': None, '36': None, '35': None, '34': None, '33': None, '32': None, '31': None, '30': None}\n",
      "38 None\n",
      "40\n",
      "{'1': 1, '2': 2, '4': 4, '3': 4, '5': 5, '7': 7, '6': 7, '8': 8, '10': 10, '9': 10, '11': 11, '14': 14, '13': 14, '12': None, '16': 16, '15': 16, '17': 17, '19': 19, '18': 19, '20': 20, '22': 22, '21': 22, '25': 25, '24': 25, '23': None, '26': 26, '28': 28, '27': 28, '29': 29, '40': 40, '39': 40, '38': None, '37': None, '36': None, '35': None, '34': None, '33': None, '32': None, '31': None, '30': None}\n",
      "39 None\n",
      "40\n",
      "{'1': 1, '2': 2, '4': 4, '3': 4, '5': 5, '7': 7, '6': 7, '8': 8, '10': 10, '9': 10, '11': 11, '14': 14, '13': 14, '12': None, '16': 16, '15': 16, '17': 17, '19': 19, '18': 19, '20': 20, '22': 22, '21': 22, '25': 25, '24': 25, '23': None, '26': 26, '28': 28, '27': 28, '29': 29, '40': 40, '39': 40, '38': None, '37': None, '36': None, '35': None, '34': None, '33': None, '32': None, '31': None, '30': None}\n",
      "40 40\n",
      "41\n",
      "{'1': 1, '2': 2, '4': 4, '3': 4, '5': 5, '7': 7, '6': 7, '8': 8, '10': 10, '9': 10, '11': 11, '14': 14, '13': 14, '12': None, '16': 16, '15': 16, '17': 17, '19': 19, '18': 19, '20': 20, '22': 22, '21': 22, '25': 25, '24': 25, '23': None, '26': 26, '28': 28, '27': 28, '29': 29, '40': 40, '39': 40, '38': None, '37': None, '36': None, '35': None, '34': None, '33': None, '32': None, '31': None, '30': None, '41': 41}\n",
      "41 41\n",
      "44\n",
      "{'1': 1, '2': 2, '4': 4, '3': 4, '5': 5, '7': 7, '6': 7, '8': 8, '10': 10, '9': 10, '11': 11, '14': 14, '13': 14, '12': None, '16': 16, '15': 16, '17': 17, '19': 19, '18': 19, '20': 20, '22': 22, '21': 22, '25': 25, '24': 25, '23': None, '26': 26, '28': 28, '27': 28, '29': 29, '40': 40, '39': 40, '38': None, '37': None, '36': None, '35': None, '34': None, '33': None, '32': None, '31': None, '30': None, '41': 41, '44': 44}\n",
      "42 None\n",
      "44\n",
      "{'1': 1, '2': 2, '4': 4, '3': 4, '5': 5, '7': 7, '6': 7, '8': 8, '10': 10, '9': 10, '11': 11, '14': 14, '13': 14, '12': None, '16': 16, '15': 16, '17': 17, '19': 19, '18': 19, '20': 20, '22': 22, '21': 22, '25': 25, '24': 25, '23': None, '26': 26, '28': 28, '27': 28, '29': 29, '40': 40, '39': 40, '38': None, '37': None, '36': None, '35': None, '34': None, '33': None, '32': None, '31': None, '30': None, '41': 41, '44': 44, '43': 44, '42': None}\n",
      "43 None\n",
      "44\n",
      "{'1': 1, '2': 2, '4': 4, '3': 4, '5': 5, '7': 7, '6': 7, '8': 8, '10': 10, '9': 10, '11': 11, '14': 14, '13': 14, '12': None, '16': 16, '15': 16, '17': 17, '19': 19, '18': 19, '20': 20, '22': 22, '21': 22, '25': 25, '24': 25, '23': None, '26': 26, '28': 28, '27': 28, '29': 29, '40': 40, '39': 40, '38': None, '37': None, '36': None, '35': None, '34': None, '33': None, '32': None, '31': None, '30': None, '41': 41, '44': 44, '43': 44, '42': None}\n",
      "44 44\n",
      "46\n",
      "{'1': 1, '2': 2, '4': 4, '3': 4, '5': 5, '7': 7, '6': 7, '8': 8, '10': 10, '9': 10, '11': 11, '14': 14, '13': 14, '12': None, '16': 16, '15': 16, '17': 17, '19': 19, '18': 19, '20': 20, '22': 22, '21': 22, '25': 25, '24': 25, '23': None, '26': 26, '28': 28, '27': 28, '29': 29, '40': 40, '39': 40, '38': None, '37': None, '36': None, '35': None, '34': None, '33': None, '32': None, '31': None, '30': None, '41': 41, '44': 44, '43': 44, '42': None, '46': 46}\n",
      "45 None\n",
      "46\n",
      "{'1': 1, '2': 2, '4': 4, '3': 4, '5': 5, '7': 7, '6': 7, '8': 8, '10': 10, '9': 10, '11': 11, '14': 14, '13': 14, '12': None, '16': 16, '15': 16, '17': 17, '19': 19, '18': 19, '20': 20, '22': 22, '21': 22, '25': 25, '24': 25, '23': None, '26': 26, '28': 28, '27': 28, '29': 29, '40': 40, '39': 40, '38': None, '37': None, '36': None, '35': None, '34': None, '33': None, '32': None, '31': None, '30': None, '41': 41, '44': 44, '43': 44, '42': None, '46': 46, '45': 46}\n",
      "46 46\n",
      "47\n",
      "{'1': 1, '2': 2, '4': 4, '3': 4, '5': 5, '7': 7, '6': 7, '8': 8, '10': 10, '9': 10, '11': 11, '14': 14, '13': 14, '12': None, '16': 16, '15': 16, '17': 17, '19': 19, '18': 19, '20': 20, '22': 22, '21': 22, '25': 25, '24': 25, '23': None, '26': 26, '28': 28, '27': 28, '29': 29, '40': 40, '39': 40, '38': None, '37': None, '36': None, '35': None, '34': None, '33': None, '32': None, '31': None, '30': None, '41': 41, '44': 44, '43': 44, '42': None, '46': 46, '45': 46, '47': 47}\n",
      "47 47\n",
      "49\n",
      "{'1': 1, '2': 2, '4': 4, '3': 4, '5': 5, '7': 7, '6': 7, '8': 8, '10': 10, '9': 10, '11': 11, '14': 14, '13': 14, '12': None, '16': 16, '15': 16, '17': 17, '19': 19, '18': 19, '20': 20, '22': 22, '21': 22, '25': 25, '24': 25, '23': None, '26': 26, '28': 28, '27': 28, '29': 29, '40': 40, '39': 40, '38': None, '37': None, '36': None, '35': None, '34': None, '33': None, '32': None, '31': None, '30': None, '41': 41, '44': 44, '43': 44, '42': None, '46': 46, '45': 46, '47': 47, '49': 49}\n",
      "48 None\n",
      "49\n",
      "{'1': 1, '2': 2, '4': 4, '3': 4, '5': 5, '7': 7, '6': 7, '8': 8, '10': 10, '9': 10, '11': 11, '14': 14, '13': 14, '12': None, '16': 16, '15': 16, '17': 17, '19': 19, '18': 19, '20': 20, '22': 22, '21': 22, '25': 25, '24': 25, '23': None, '26': 26, '28': 28, '27': 28, '29': 29, '40': 40, '39': 40, '38': None, '37': None, '36': None, '35': None, '34': None, '33': None, '32': None, '31': None, '30': None, '41': 41, '44': 44, '43': 44, '42': None, '46': 46, '45': 46, '47': 47, '49': 49, '48': 49}\n",
      "49 49\n",
      "50\n",
      "{'1': 1, '2': 2, '4': 4, '3': 4, '5': 5, '7': 7, '6': 7, '8': 8, '10': 10, '9': 10, '11': 11, '14': 14, '13': 14, '12': None, '16': 16, '15': 16, '17': 17, '19': 19, '18': 19, '20': 20, '22': 22, '21': 22, '25': 25, '24': 25, '23': None, '26': 26, '28': 28, '27': 28, '29': 29, '40': 40, '39': 40, '38': None, '37': None, '36': None, '35': None, '34': None, '33': None, '32': None, '31': None, '30': None, '41': 41, '44': 44, '43': 44, '42': None, '46': 46, '45': 46, '47': 47, '49': 49, '48': 49, '50': 50}\n",
      "50 50\n",
      "52\n",
      "{'1': 1, '2': 2, '4': 4, '3': 4, '5': 5, '7': 7, '6': 7, '8': 8, '10': 10, '9': 10, '11': 11, '14': 14, '13': 14, '12': None, '16': 16, '15': 16, '17': 17, '19': 19, '18': 19, '20': 20, '22': 22, '21': 22, '25': 25, '24': 25, '23': None, '26': 26, '28': 28, '27': 28, '29': 29, '40': 40, '39': 40, '38': None, '37': None, '36': None, '35': None, '34': None, '33': None, '32': None, '31': None, '30': None, '41': 41, '44': 44, '43': 44, '42': None, '46': 46, '45': 46, '47': 47, '49': 49, '48': 49, '50': 50, '52': 52}\n",
      "51 None\n",
      "52\n",
      "{'1': 1, '2': 2, '4': 4, '3': 4, '5': 5, '7': 7, '6': 7, '8': 8, '10': 10, '9': 10, '11': 11, '14': 14, '13': 14, '12': None, '16': 16, '15': 16, '17': 17, '19': 19, '18': 19, '20': 20, '22': 22, '21': 22, '25': 25, '24': 25, '23': None, '26': 26, '28': 28, '27': 28, '29': 29, '40': 40, '39': 40, '38': None, '37': None, '36': None, '35': None, '34': None, '33': None, '32': None, '31': None, '30': None, '41': 41, '44': 44, '43': 44, '42': None, '46': 46, '45': 46, '47': 47, '49': 49, '48': 49, '50': 50, '52': 52, '51': 52}\n",
      "52 52\n",
      "55\n",
      "{'1': 1, '2': 2, '4': 4, '3': 4, '5': 5, '7': 7, '6': 7, '8': 8, '10': 10, '9': 10, '11': 11, '14': 14, '13': 14, '12': None, '16': 16, '15': 16, '17': 17, '19': 19, '18': 19, '20': 20, '22': 22, '21': 22, '25': 25, '24': 25, '23': None, '26': 26, '28': 28, '27': 28, '29': 29, '40': 40, '39': 40, '38': None, '37': None, '36': None, '35': None, '34': None, '33': None, '32': None, '31': None, '30': None, '41': 41, '44': 44, '43': 44, '42': None, '46': 46, '45': 46, '47': 47, '49': 49, '48': 49, '50': 50, '52': 52, '51': 52, '55': 55}\n",
      "53 None\n",
      "55\n",
      "{'1': 1, '2': 2, '4': 4, '3': 4, '5': 5, '7': 7, '6': 7, '8': 8, '10': 10, '9': 10, '11': 11, '14': 14, '13': 14, '12': None, '16': 16, '15': 16, '17': 17, '19': 19, '18': 19, '20': 20, '22': 22, '21': 22, '25': 25, '24': 25, '23': None, '26': 26, '28': 28, '27': 28, '29': 29, '40': 40, '39': 40, '38': None, '37': None, '36': None, '35': None, '34': None, '33': None, '32': None, '31': None, '30': None, '41': 41, '44': 44, '43': 44, '42': None, '46': 46, '45': 46, '47': 47, '49': 49, '48': 49, '50': 50, '52': 52, '51': 52, '55': 55, '54': 55, '53': None}\n",
      "54 None\n",
      "55\n",
      "{'1': 1, '2': 2, '4': 4, '3': 4, '5': 5, '7': 7, '6': 7, '8': 8, '10': 10, '9': 10, '11': 11, '14': 14, '13': 14, '12': None, '16': 16, '15': 16, '17': 17, '19': 19, '18': 19, '20': 20, '22': 22, '21': 22, '25': 25, '24': 25, '23': None, '26': 26, '28': 28, '27': 28, '29': 29, '40': 40, '39': 40, '38': None, '37': None, '36': None, '35': None, '34': None, '33': None, '32': None, '31': None, '30': None, '41': 41, '44': 44, '43': 44, '42': None, '46': 46, '45': 46, '47': 47, '49': 49, '48': 49, '50': 50, '52': 52, '51': 52, '55': 55, '54': 55, '53': None}\n",
      "55 55\n",
      "56\n",
      "{'1': 1, '2': 2, '4': 4, '3': 4, '5': 5, '7': 7, '6': 7, '8': 8, '10': 10, '9': 10, '11': 11, '14': 14, '13': 14, '12': None, '16': 16, '15': 16, '17': 17, '19': 19, '18': 19, '20': 20, '22': 22, '21': 22, '25': 25, '24': 25, '23': None, '26': 26, '28': 28, '27': 28, '29': 29, '40': 40, '39': 40, '38': None, '37': None, '36': None, '35': None, '34': None, '33': None, '32': None, '31': None, '30': None, '41': 41, '44': 44, '43': 44, '42': None, '46': 46, '45': 46, '47': 47, '49': 49, '48': 49, '50': 50, '52': 52, '51': 52, '55': 55, '54': 55, '53': None, '56': 56}\n",
      "56 56\n",
      "58\n",
      "{'1': 1, '2': 2, '4': 4, '3': 4, '5': 5, '7': 7, '6': 7, '8': 8, '10': 10, '9': 10, '11': 11, '14': 14, '13': 14, '12': None, '16': 16, '15': 16, '17': 17, '19': 19, '18': 19, '20': 20, '22': 22, '21': 22, '25': 25, '24': 25, '23': None, '26': 26, '28': 28, '27': 28, '29': 29, '40': 40, '39': 40, '38': None, '37': None, '36': None, '35': None, '34': None, '33': None, '32': None, '31': None, '30': None, '41': 41, '44': 44, '43': 44, '42': None, '46': 46, '45': 46, '47': 47, '49': 49, '48': 49, '50': 50, '52': 52, '51': 52, '55': 55, '54': 55, '53': None, '56': 56, '58': 58}\n",
      "57 None\n",
      "58\n",
      "{'1': 1, '2': 2, '4': 4, '3': 4, '5': 5, '7': 7, '6': 7, '8': 8, '10': 10, '9': 10, '11': 11, '14': 14, '13': 14, '12': None, '16': 16, '15': 16, '17': 17, '19': 19, '18': 19, '20': 20, '22': 22, '21': 22, '25': 25, '24': 25, '23': None, '26': 26, '28': 28, '27': 28, '29': 29, '40': 40, '39': 40, '38': None, '37': None, '36': None, '35': None, '34': None, '33': None, '32': None, '31': None, '30': None, '41': 41, '44': 44, '43': 44, '42': None, '46': 46, '45': 46, '47': 47, '49': 49, '48': 49, '50': 50, '52': 52, '51': 52, '55': 55, '54': 55, '53': None, '56': 56, '58': 58, '57': 58}\n",
      "58 58\n",
      "59\n",
      "{'1': 1, '2': 2, '4': 4, '3': 4, '5': 5, '7': 7, '6': 7, '8': 8, '10': 10, '9': 10, '11': 11, '14': 14, '13': 14, '12': None, '16': 16, '15': 16, '17': 17, '19': 19, '18': 19, '20': 20, '22': 22, '21': 22, '25': 25, '24': 25, '23': None, '26': 26, '28': 28, '27': 28, '29': 29, '40': 40, '39': 40, '38': None, '37': None, '36': None, '35': None, '34': None, '33': None, '32': None, '31': None, '30': None, '41': 41, '44': 44, '43': 44, '42': None, '46': 46, '45': 46, '47': 47, '49': 49, '48': 49, '50': 50, '52': 52, '51': 52, '55': 55, '54': 55, '53': None, '56': 56, '58': 58, '57': 58, '59': 59}\n",
      "59 59\n",
      "61\n",
      "{'1': 1, '2': 2, '4': 4, '3': 4, '5': 5, '7': 7, '6': 7, '8': 8, '10': 10, '9': 10, '11': 11, '14': 14, '13': 14, '12': None, '16': 16, '15': 16, '17': 17, '19': 19, '18': 19, '20': 20, '22': 22, '21': 22, '25': 25, '24': 25, '23': None, '26': 26, '28': 28, '27': 28, '29': 29, '40': 40, '39': 40, '38': None, '37': None, '36': None, '35': None, '34': None, '33': None, '32': None, '31': None, '30': None, '41': 41, '44': 44, '43': 44, '42': None, '46': 46, '45': 46, '47': 47, '49': 49, '48': 49, '50': 50, '52': 52, '51': 52, '55': 55, '54': 55, '53': None, '56': 56, '58': 58, '57': 58, '59': 59, '61': 61}\n",
      "60 None\n",
      "61\n",
      "{'1': 1, '2': 2, '4': 4, '3': 4, '5': 5, '7': 7, '6': 7, '8': 8, '10': 10, '9': 10, '11': 11, '14': 14, '13': 14, '12': None, '16': 16, '15': 16, '17': 17, '19': 19, '18': 19, '20': 20, '22': 22, '21': 22, '25': 25, '24': 25, '23': None, '26': 26, '28': 28, '27': 28, '29': 29, '40': 40, '39': 40, '38': None, '37': None, '36': None, '35': None, '34': None, '33': None, '32': None, '31': None, '30': None, '41': 41, '44': 44, '43': 44, '42': None, '46': 46, '45': 46, '47': 47, '49': 49, '48': 49, '50': 50, '52': 52, '51': 52, '55': 55, '54': 55, '53': None, '56': 56, '58': 58, '57': 58, '59': 59, '61': 61, '60': 61}\n",
      "61 61\n",
      "62\n",
      "{'1': 1, '2': 2, '4': 4, '3': 4, '5': 5, '7': 7, '6': 7, '8': 8, '10': 10, '9': 10, '11': 11, '14': 14, '13': 14, '12': None, '16': 16, '15': 16, '17': 17, '19': 19, '18': 19, '20': 20, '22': 22, '21': 22, '25': 25, '24': 25, '23': None, '26': 26, '28': 28, '27': 28, '29': 29, '40': 40, '39': 40, '38': None, '37': None, '36': None, '35': None, '34': None, '33': None, '32': None, '31': None, '30': None, '41': 41, '44': 44, '43': 44, '42': None, '46': 46, '45': 46, '47': 47, '49': 49, '48': 49, '50': 50, '52': 52, '51': 52, '55': 55, '54': 55, '53': None, '56': 56, '58': 58, '57': 58, '59': 59, '61': 61, '60': 61, '62': 62}\n",
      "62 62\n",
      "64\n",
      "{'1': 1, '2': 2, '4': 4, '3': 4, '5': 5, '7': 7, '6': 7, '8': 8, '10': 10, '9': 10, '11': 11, '14': 14, '13': 14, '12': None, '16': 16, '15': 16, '17': 17, '19': 19, '18': 19, '20': 20, '22': 22, '21': 22, '25': 25, '24': 25, '23': None, '26': 26, '28': 28, '27': 28, '29': 29, '40': 40, '39': 40, '38': None, '37': None, '36': None, '35': None, '34': None, '33': None, '32': None, '31': None, '30': None, '41': 41, '44': 44, '43': 44, '42': None, '46': 46, '45': 46, '47': 47, '49': 49, '48': 49, '50': 50, '52': 52, '51': 52, '55': 55, '54': 55, '53': None, '56': 56, '58': 58, '57': 58, '59': 59, '61': 61, '60': 61, '62': 62, '64': 64}\n",
      "63 None\n",
      "64\n",
      "{'1': 1, '2': 2, '4': 4, '3': 4, '5': 5, '7': 7, '6': 7, '8': 8, '10': 10, '9': 10, '11': 11, '14': 14, '13': 14, '12': None, '16': 16, '15': 16, '17': 17, '19': 19, '18': 19, '20': 20, '22': 22, '21': 22, '25': 25, '24': 25, '23': None, '26': 26, '28': 28, '27': 28, '29': 29, '40': 40, '39': 40, '38': None, '37': None, '36': None, '35': None, '34': None, '33': None, '32': None, '31': None, '30': None, '41': 41, '44': 44, '43': 44, '42': None, '46': 46, '45': 46, '47': 47, '49': 49, '48': 49, '50': 50, '52': 52, '51': 52, '55': 55, '54': 55, '53': None, '56': 56, '58': 58, '57': 58, '59': 59, '61': 61, '60': 61, '62': 62, '64': 64, '63': 64}\n",
      "64 64\n",
      "65\n",
      "{'1': 1, '2': 2, '4': 4, '3': 4, '5': 5, '7': 7, '6': 7, '8': 8, '10': 10, '9': 10, '11': 11, '14': 14, '13': 14, '12': None, '16': 16, '15': 16, '17': 17, '19': 19, '18': 19, '20': 20, '22': 22, '21': 22, '25': 25, '24': 25, '23': None, '26': 26, '28': 28, '27': 28, '29': 29, '40': 40, '39': 40, '38': None, '37': None, '36': None, '35': None, '34': None, '33': None, '32': None, '31': None, '30': None, '41': 41, '44': 44, '43': 44, '42': None, '46': 46, '45': 46, '47': 47, '49': 49, '48': 49, '50': 50, '52': 52, '51': 52, '55': 55, '54': 55, '53': None, '56': 56, '58': 58, '57': 58, '59': 59, '61': 61, '60': 61, '62': 62, '64': 64, '63': 64, '65': 65}\n",
      "65 65\n",
      "67\n",
      "{'1': 1, '2': 2, '4': 4, '3': 4, '5': 5, '7': 7, '6': 7, '8': 8, '10': 10, '9': 10, '11': 11, '14': 14, '13': 14, '12': None, '16': 16, '15': 16, '17': 17, '19': 19, '18': 19, '20': 20, '22': 22, '21': 22, '25': 25, '24': 25, '23': None, '26': 26, '28': 28, '27': 28, '29': 29, '40': 40, '39': 40, '38': None, '37': None, '36': None, '35': None, '34': None, '33': None, '32': None, '31': None, '30': None, '41': 41, '44': 44, '43': 44, '42': None, '46': 46, '45': 46, '47': 47, '49': 49, '48': 49, '50': 50, '52': 52, '51': 52, '55': 55, '54': 55, '53': None, '56': 56, '58': 58, '57': 58, '59': 59, '61': 61, '60': 61, '62': 62, '64': 64, '63': 64, '65': 65, '67': 67}\n",
      "66 None\n",
      "67\n",
      "{'1': 1, '2': 2, '4': 4, '3': 4, '5': 5, '7': 7, '6': 7, '8': 8, '10': 10, '9': 10, '11': 11, '14': 14, '13': 14, '12': None, '16': 16, '15': 16, '17': 17, '19': 19, '18': 19, '20': 20, '22': 22, '21': 22, '25': 25, '24': 25, '23': None, '26': 26, '28': 28, '27': 28, '29': 29, '40': 40, '39': 40, '38': None, '37': None, '36': None, '35': None, '34': None, '33': None, '32': None, '31': None, '30': None, '41': 41, '44': 44, '43': 44, '42': None, '46': 46, '45': 46, '47': 47, '49': 49, '48': 49, '50': 50, '52': 52, '51': 52, '55': 55, '54': 55, '53': None, '56': 56, '58': 58, '57': 58, '59': 59, '61': 61, '60': 61, '62': 62, '64': 64, '63': 64, '65': 65, '67': 67, '66': 67}\n",
      "67 67\n",
      "68\n",
      "{'1': 1, '2': 2, '4': 4, '3': 4, '5': 5, '7': 7, '6': 7, '8': 8, '10': 10, '9': 10, '11': 11, '14': 14, '13': 14, '12': None, '16': 16, '15': 16, '17': 17, '19': 19, '18': 19, '20': 20, '22': 22, '21': 22, '25': 25, '24': 25, '23': None, '26': 26, '28': 28, '27': 28, '29': 29, '40': 40, '39': 40, '38': None, '37': None, '36': None, '35': None, '34': None, '33': None, '32': None, '31': None, '30': None, '41': 41, '44': 44, '43': 44, '42': None, '46': 46, '45': 46, '47': 47, '49': 49, '48': 49, '50': 50, '52': 52, '51': 52, '55': 55, '54': 55, '53': None, '56': 56, '58': 58, '57': 58, '59': 59, '61': 61, '60': 61, '62': 62, '64': 64, '63': 64, '65': 65, '67': 67, '66': 67, '68': 68}\n",
      "68 68\n",
      "70\n",
      "{'1': 1, '2': 2, '4': 4, '3': 4, '5': 5, '7': 7, '6': 7, '8': 8, '10': 10, '9': 10, '11': 11, '14': 14, '13': 14, '12': None, '16': 16, '15': 16, '17': 17, '19': 19, '18': 19, '20': 20, '22': 22, '21': 22, '25': 25, '24': 25, '23': None, '26': 26, '28': 28, '27': 28, '29': 29, '40': 40, '39': 40, '38': None, '37': None, '36': None, '35': None, '34': None, '33': None, '32': None, '31': None, '30': None, '41': 41, '44': 44, '43': 44, '42': None, '46': 46, '45': 46, '47': 47, '49': 49, '48': 49, '50': 50, '52': 52, '51': 52, '55': 55, '54': 55, '53': None, '56': 56, '58': 58, '57': 58, '59': 59, '61': 61, '60': 61, '62': 62, '64': 64, '63': 64, '65': 65, '67': 67, '66': 67, '68': 68, '70': 70}\n",
      "69 None\n",
      "70\n",
      "{'1': 1, '2': 2, '4': 4, '3': 4, '5': 5, '7': 7, '6': 7, '8': 8, '10': 10, '9': 10, '11': 11, '14': 14, '13': 14, '12': None, '16': 16, '15': 16, '17': 17, '19': 19, '18': 19, '20': 20, '22': 22, '21': 22, '25': 25, '24': 25, '23': None, '26': 26, '28': 28, '27': 28, '29': 29, '40': 40, '39': 40, '38': None, '37': None, '36': None, '35': None, '34': None, '33': None, '32': None, '31': None, '30': None, '41': 41, '44': 44, '43': 44, '42': None, '46': 46, '45': 46, '47': 47, '49': 49, '48': 49, '50': 50, '52': 52, '51': 52, '55': 55, '54': 55, '53': None, '56': 56, '58': 58, '57': 58, '59': 59, '61': 61, '60': 61, '62': 62, '64': 64, '63': 64, '65': 65, '67': 67, '66': 67, '68': 68, '70': 70, '69': 70}\n",
      "70 70\n",
      "71\n",
      "{'1': 1, '2': 2, '4': 4, '3': 4, '5': 5, '7': 7, '6': 7, '8': 8, '10': 10, '9': 10, '11': 11, '14': 14, '13': 14, '12': None, '16': 16, '15': 16, '17': 17, '19': 19, '18': 19, '20': 20, '22': 22, '21': 22, '25': 25, '24': 25, '23': None, '26': 26, '28': 28, '27': 28, '29': 29, '40': 40, '39': 40, '38': None, '37': None, '36': None, '35': None, '34': None, '33': None, '32': None, '31': None, '30': None, '41': 41, '44': 44, '43': 44, '42': None, '46': 46, '45': 46, '47': 47, '49': 49, '48': 49, '50': 50, '52': 52, '51': 52, '55': 55, '54': 55, '53': None, '56': 56, '58': 58, '57': 58, '59': 59, '61': 61, '60': 61, '62': 62, '64': 64, '63': 64, '65': 65, '67': 67, '66': 67, '68': 68, '70': 70, '69': 70, '71': 71}\n",
      "71 71\n",
      "74\n",
      "{'1': 1, '2': 2, '4': 4, '3': 4, '5': 5, '7': 7, '6': 7, '8': 8, '10': 10, '9': 10, '11': 11, '14': 14, '13': 14, '12': None, '16': 16, '15': 16, '17': 17, '19': 19, '18': 19, '20': 20, '22': 22, '21': 22, '25': 25, '24': 25, '23': None, '26': 26, '28': 28, '27': 28, '29': 29, '40': 40, '39': 40, '38': None, '37': None, '36': None, '35': None, '34': None, '33': None, '32': None, '31': None, '30': None, '41': 41, '44': 44, '43': 44, '42': None, '46': 46, '45': 46, '47': 47, '49': 49, '48': 49, '50': 50, '52': 52, '51': 52, '55': 55, '54': 55, '53': None, '56': 56, '58': 58, '57': 58, '59': 59, '61': 61, '60': 61, '62': 62, '64': 64, '63': 64, '65': 65, '67': 67, '66': 67, '68': 68, '70': 70, '69': 70, '71': 71, '74': 74}\n",
      "72 None\n",
      "74\n",
      "{'1': 1, '2': 2, '4': 4, '3': 4, '5': 5, '7': 7, '6': 7, '8': 8, '10': 10, '9': 10, '11': 11, '14': 14, '13': 14, '12': None, '16': 16, '15': 16, '17': 17, '19': 19, '18': 19, '20': 20, '22': 22, '21': 22, '25': 25, '24': 25, '23': None, '26': 26, '28': 28, '27': 28, '29': 29, '40': 40, '39': 40, '38': None, '37': None, '36': None, '35': None, '34': None, '33': None, '32': None, '31': None, '30': None, '41': 41, '44': 44, '43': 44, '42': None, '46': 46, '45': 46, '47': 47, '49': 49, '48': 49, '50': 50, '52': 52, '51': 52, '55': 55, '54': 55, '53': None, '56': 56, '58': 58, '57': 58, '59': 59, '61': 61, '60': 61, '62': 62, '64': 64, '63': 64, '65': 65, '67': 67, '66': 67, '68': 68, '70': 70, '69': 70, '71': 71, '74': 74, '73': 74, '72': None}\n",
      "73 None\n",
      "74\n",
      "{'1': 1, '2': 2, '4': 4, '3': 4, '5': 5, '7': 7, '6': 7, '8': 8, '10': 10, '9': 10, '11': 11, '14': 14, '13': 14, '12': None, '16': 16, '15': 16, '17': 17, '19': 19, '18': 19, '20': 20, '22': 22, '21': 22, '25': 25, '24': 25, '23': None, '26': 26, '28': 28, '27': 28, '29': 29, '40': 40, '39': 40, '38': None, '37': None, '36': None, '35': None, '34': None, '33': None, '32': None, '31': None, '30': None, '41': 41, '44': 44, '43': 44, '42': None, '46': 46, '45': 46, '47': 47, '49': 49, '48': 49, '50': 50, '52': 52, '51': 52, '55': 55, '54': 55, '53': None, '56': 56, '58': 58, '57': 58, '59': 59, '61': 61, '60': 61, '62': 62, '64': 64, '63': 64, '65': 65, '67': 67, '66': 67, '68': 68, '70': 70, '69': 70, '71': 71, '74': 74, '73': 74, '72': None}\n",
      "74 74\n",
      "76\n",
      "{'1': 1, '2': 2, '4': 4, '3': 4, '5': 5, '7': 7, '6': 7, '8': 8, '10': 10, '9': 10, '11': 11, '14': 14, '13': 14, '12': None, '16': 16, '15': 16, '17': 17, '19': 19, '18': 19, '20': 20, '22': 22, '21': 22, '25': 25, '24': 25, '23': None, '26': 26, '28': 28, '27': 28, '29': 29, '40': 40, '39': 40, '38': None, '37': None, '36': None, '35': None, '34': None, '33': None, '32': None, '31': None, '30': None, '41': 41, '44': 44, '43': 44, '42': None, '46': 46, '45': 46, '47': 47, '49': 49, '48': 49, '50': 50, '52': 52, '51': 52, '55': 55, '54': 55, '53': None, '56': 56, '58': 58, '57': 58, '59': 59, '61': 61, '60': 61, '62': 62, '64': 64, '63': 64, '65': 65, '67': 67, '66': 67, '68': 68, '70': 70, '69': 70, '71': 71, '74': 74, '73': 74, '72': None, '76': 76}\n",
      "75 None\n",
      "76\n",
      "{'1': 1, '2': 2, '4': 4, '3': 4, '5': 5, '7': 7, '6': 7, '8': 8, '10': 10, '9': 10, '11': 11, '14': 14, '13': 14, '12': None, '16': 16, '15': 16, '17': 17, '19': 19, '18': 19, '20': 20, '22': 22, '21': 22, '25': 25, '24': 25, '23': None, '26': 26, '28': 28, '27': 28, '29': 29, '40': 40, '39': 40, '38': None, '37': None, '36': None, '35': None, '34': None, '33': None, '32': None, '31': None, '30': None, '41': 41, '44': 44, '43': 44, '42': None, '46': 46, '45': 46, '47': 47, '49': 49, '48': 49, '50': 50, '52': 52, '51': 52, '55': 55, '54': 55, '53': None, '56': 56, '58': 58, '57': 58, '59': 59, '61': 61, '60': 61, '62': 62, '64': 64, '63': 64, '65': 65, '67': 67, '66': 67, '68': 68, '70': 70, '69': 70, '71': 71, '74': 74, '73': 74, '72': None, '76': 76, '75': 76}\n",
      "76 76\n",
      "77\n",
      "{'1': 1, '2': 2, '4': 4, '3': 4, '5': 5, '7': 7, '6': 7, '8': 8, '10': 10, '9': 10, '11': 11, '14': 14, '13': 14, '12': None, '16': 16, '15': 16, '17': 17, '19': 19, '18': 19, '20': 20, '22': 22, '21': 22, '25': 25, '24': 25, '23': None, '26': 26, '28': 28, '27': 28, '29': 29, '40': 40, '39': 40, '38': None, '37': None, '36': None, '35': None, '34': None, '33': None, '32': None, '31': None, '30': None, '41': 41, '44': 44, '43': 44, '42': None, '46': 46, '45': 46, '47': 47, '49': 49, '48': 49, '50': 50, '52': 52, '51': 52, '55': 55, '54': 55, '53': None, '56': 56, '58': 58, '57': 58, '59': 59, '61': 61, '60': 61, '62': 62, '64': 64, '63': 64, '65': 65, '67': 67, '66': 67, '68': 68, '70': 70, '69': 70, '71': 71, '74': 74, '73': 74, '72': None, '76': 76, '75': 76, '77': 77}\n",
      "77 77\n",
      "79\n",
      "{'1': 1, '2': 2, '4': 4, '3': 4, '5': 5, '7': 7, '6': 7, '8': 8, '10': 10, '9': 10, '11': 11, '14': 14, '13': 14, '12': None, '16': 16, '15': 16, '17': 17, '19': 19, '18': 19, '20': 20, '22': 22, '21': 22, '25': 25, '24': 25, '23': None, '26': 26, '28': 28, '27': 28, '29': 29, '40': 40, '39': 40, '38': None, '37': None, '36': None, '35': None, '34': None, '33': None, '32': None, '31': None, '30': None, '41': 41, '44': 44, '43': 44, '42': None, '46': 46, '45': 46, '47': 47, '49': 49, '48': 49, '50': 50, '52': 52, '51': 52, '55': 55, '54': 55, '53': None, '56': 56, '58': 58, '57': 58, '59': 59, '61': 61, '60': 61, '62': 62, '64': 64, '63': 64, '65': 65, '67': 67, '66': 67, '68': 68, '70': 70, '69': 70, '71': 71, '74': 74, '73': 74, '72': None, '76': 76, '75': 76, '77': 77, '79': 79}\n",
      "78 None\n",
      "79\n",
      "{'1': 1, '2': 2, '4': 4, '3': 4, '5': 5, '7': 7, '6': 7, '8': 8, '10': 10, '9': 10, '11': 11, '14': 14, '13': 14, '12': None, '16': 16, '15': 16, '17': 17, '19': 19, '18': 19, '20': 20, '22': 22, '21': 22, '25': 25, '24': 25, '23': None, '26': 26, '28': 28, '27': 28, '29': 29, '40': 40, '39': 40, '38': None, '37': None, '36': None, '35': None, '34': None, '33': None, '32': None, '31': None, '30': None, '41': 41, '44': 44, '43': 44, '42': None, '46': 46, '45': 46, '47': 47, '49': 49, '48': 49, '50': 50, '52': 52, '51': 52, '55': 55, '54': 55, '53': None, '56': 56, '58': 58, '57': 58, '59': 59, '61': 61, '60': 61, '62': 62, '64': 64, '63': 64, '65': 65, '67': 67, '66': 67, '68': 68, '70': 70, '69': 70, '71': 71, '74': 74, '73': 74, '72': None, '76': 76, '75': 76, '77': 77, '79': 79, '78': 79}\n",
      "79 79\n",
      "80\n",
      "{'1': 1, '2': 2, '4': 4, '3': 4, '5': 5, '7': 7, '6': 7, '8': 8, '10': 10, '9': 10, '11': 11, '14': 14, '13': 14, '12': None, '16': 16, '15': 16, '17': 17, '19': 19, '18': 19, '20': 20, '22': 22, '21': 22, '25': 25, '24': 25, '23': None, '26': 26, '28': 28, '27': 28, '29': 29, '40': 40, '39': 40, '38': None, '37': None, '36': None, '35': None, '34': None, '33': None, '32': None, '31': None, '30': None, '41': 41, '44': 44, '43': 44, '42': None, '46': 46, '45': 46, '47': 47, '49': 49, '48': 49, '50': 50, '52': 52, '51': 52, '55': 55, '54': 55, '53': None, '56': 56, '58': 58, '57': 58, '59': 59, '61': 61, '60': 61, '62': 62, '64': 64, '63': 64, '65': 65, '67': 67, '66': 67, '68': 68, '70': 70, '69': 70, '71': 71, '74': 74, '73': 74, '72': None, '76': 76, '75': 76, '77': 77, '79': 79, '78': 79, '80': 80}\n",
      "80 80\n",
      "82\n",
      "{'1': 1, '2': 2, '4': 4, '3': 4, '5': 5, '7': 7, '6': 7, '8': 8, '10': 10, '9': 10, '11': 11, '14': 14, '13': 14, '12': None, '16': 16, '15': 16, '17': 17, '19': 19, '18': 19, '20': 20, '22': 22, '21': 22, '25': 25, '24': 25, '23': None, '26': 26, '28': 28, '27': 28, '29': 29, '40': 40, '39': 40, '38': None, '37': None, '36': None, '35': None, '34': None, '33': None, '32': None, '31': None, '30': None, '41': 41, '44': 44, '43': 44, '42': None, '46': 46, '45': 46, '47': 47, '49': 49, '48': 49, '50': 50, '52': 52, '51': 52, '55': 55, '54': 55, '53': None, '56': 56, '58': 58, '57': 58, '59': 59, '61': 61, '60': 61, '62': 62, '64': 64, '63': 64, '65': 65, '67': 67, '66': 67, '68': 68, '70': 70, '69': 70, '71': 71, '74': 74, '73': 74, '72': None, '76': 76, '75': 76, '77': 77, '79': 79, '78': 79, '80': 80, '82': 82}\n",
      "81 None\n",
      "82\n",
      "{'1': 1, '2': 2, '4': 4, '3': 4, '5': 5, '7': 7, '6': 7, '8': 8, '10': 10, '9': 10, '11': 11, '14': 14, '13': 14, '12': None, '16': 16, '15': 16, '17': 17, '19': 19, '18': 19, '20': 20, '22': 22, '21': 22, '25': 25, '24': 25, '23': None, '26': 26, '28': 28, '27': 28, '29': 29, '40': 40, '39': 40, '38': None, '37': None, '36': None, '35': None, '34': None, '33': None, '32': None, '31': None, '30': None, '41': 41, '44': 44, '43': 44, '42': None, '46': 46, '45': 46, '47': 47, '49': 49, '48': 49, '50': 50, '52': 52, '51': 52, '55': 55, '54': 55, '53': None, '56': 56, '58': 58, '57': 58, '59': 59, '61': 61, '60': 61, '62': 62, '64': 64, '63': 64, '65': 65, '67': 67, '66': 67, '68': 68, '70': 70, '69': 70, '71': 71, '74': 74, '73': 74, '72': None, '76': 76, '75': 76, '77': 77, '79': 79, '78': 79, '80': 80, '82': 82, '81': 82}\n",
      "82 82\n",
      "85\n",
      "{'1': 1, '2': 2, '4': 4, '3': 4, '5': 5, '7': 7, '6': 7, '8': 8, '10': 10, '9': 10, '11': 11, '14': 14, '13': 14, '12': None, '16': 16, '15': 16, '17': 17, '19': 19, '18': 19, '20': 20, '22': 22, '21': 22, '25': 25, '24': 25, '23': None, '26': 26, '28': 28, '27': 28, '29': 29, '40': 40, '39': 40, '38': None, '37': None, '36': None, '35': None, '34': None, '33': None, '32': None, '31': None, '30': None, '41': 41, '44': 44, '43': 44, '42': None, '46': 46, '45': 46, '47': 47, '49': 49, '48': 49, '50': 50, '52': 52, '51': 52, '55': 55, '54': 55, '53': None, '56': 56, '58': 58, '57': 58, '59': 59, '61': 61, '60': 61, '62': 62, '64': 64, '63': 64, '65': 65, '67': 67, '66': 67, '68': 68, '70': 70, '69': 70, '71': 71, '74': 74, '73': 74, '72': None, '76': 76, '75': 76, '77': 77, '79': 79, '78': 79, '80': 80, '82': 82, '81': 82, '85': 85}\n",
      "83 None\n",
      "85\n",
      "{'1': 1, '2': 2, '4': 4, '3': 4, '5': 5, '7': 7, '6': 7, '8': 8, '10': 10, '9': 10, '11': 11, '14': 14, '13': 14, '12': None, '16': 16, '15': 16, '17': 17, '19': 19, '18': 19, '20': 20, '22': 22, '21': 22, '25': 25, '24': 25, '23': None, '26': 26, '28': 28, '27': 28, '29': 29, '40': 40, '39': 40, '38': None, '37': None, '36': None, '35': None, '34': None, '33': None, '32': None, '31': None, '30': None, '41': 41, '44': 44, '43': 44, '42': None, '46': 46, '45': 46, '47': 47, '49': 49, '48': 49, '50': 50, '52': 52, '51': 52, '55': 55, '54': 55, '53': None, '56': 56, '58': 58, '57': 58, '59': 59, '61': 61, '60': 61, '62': 62, '64': 64, '63': 64, '65': 65, '67': 67, '66': 67, '68': 68, '70': 70, '69': 70, '71': 71, '74': 74, '73': 74, '72': None, '76': 76, '75': 76, '77': 77, '79': 79, '78': 79, '80': 80, '82': 82, '81': 82, '85': 85, '84': 85, '83': None}\n",
      "84 None\n",
      "85\n",
      "{'1': 1, '2': 2, '4': 4, '3': 4, '5': 5, '7': 7, '6': 7, '8': 8, '10': 10, '9': 10, '11': 11, '14': 14, '13': 14, '12': None, '16': 16, '15': 16, '17': 17, '19': 19, '18': 19, '20': 20, '22': 22, '21': 22, '25': 25, '24': 25, '23': None, '26': 26, '28': 28, '27': 28, '29': 29, '40': 40, '39': 40, '38': None, '37': None, '36': None, '35': None, '34': None, '33': None, '32': None, '31': None, '30': None, '41': 41, '44': 44, '43': 44, '42': None, '46': 46, '45': 46, '47': 47, '49': 49, '48': 49, '50': 50, '52': 52, '51': 52, '55': 55, '54': 55, '53': None, '56': 56, '58': 58, '57': 58, '59': 59, '61': 61, '60': 61, '62': 62, '64': 64, '63': 64, '65': 65, '67': 67, '66': 67, '68': 68, '70': 70, '69': 70, '71': 71, '74': 74, '73': 74, '72': None, '76': 76, '75': 76, '77': 77, '79': 79, '78': 79, '80': 80, '82': 82, '81': 82, '85': 85, '84': 85, '83': None}\n",
      "85 85\n",
      "86\n",
      "{'1': 1, '2': 2, '4': 4, '3': 4, '5': 5, '7': 7, '6': 7, '8': 8, '10': 10, '9': 10, '11': 11, '14': 14, '13': 14, '12': None, '16': 16, '15': 16, '17': 17, '19': 19, '18': 19, '20': 20, '22': 22, '21': 22, '25': 25, '24': 25, '23': None, '26': 26, '28': 28, '27': 28, '29': 29, '40': 40, '39': 40, '38': None, '37': None, '36': None, '35': None, '34': None, '33': None, '32': None, '31': None, '30': None, '41': 41, '44': 44, '43': 44, '42': None, '46': 46, '45': 46, '47': 47, '49': 49, '48': 49, '50': 50, '52': 52, '51': 52, '55': 55, '54': 55, '53': None, '56': 56, '58': 58, '57': 58, '59': 59, '61': 61, '60': 61, '62': 62, '64': 64, '63': 64, '65': 65, '67': 67, '66': 67, '68': 68, '70': 70, '69': 70, '71': 71, '74': 74, '73': 74, '72': None, '76': 76, '75': 76, '77': 77, '79': 79, '78': 79, '80': 80, '82': 82, '81': 82, '85': 85, '84': 85, '83': None, '86': 86}\n",
      "86 86\n",
      "88\n",
      "{'1': 1, '2': 2, '4': 4, '3': 4, '5': 5, '7': 7, '6': 7, '8': 8, '10': 10, '9': 10, '11': 11, '14': 14, '13': 14, '12': None, '16': 16, '15': 16, '17': 17, '19': 19, '18': 19, '20': 20, '22': 22, '21': 22, '25': 25, '24': 25, '23': None, '26': 26, '28': 28, '27': 28, '29': 29, '40': 40, '39': 40, '38': None, '37': None, '36': None, '35': None, '34': None, '33': None, '32': None, '31': None, '30': None, '41': 41, '44': 44, '43': 44, '42': None, '46': 46, '45': 46, '47': 47, '49': 49, '48': 49, '50': 50, '52': 52, '51': 52, '55': 55, '54': 55, '53': None, '56': 56, '58': 58, '57': 58, '59': 59, '61': 61, '60': 61, '62': 62, '64': 64, '63': 64, '65': 65, '67': 67, '66': 67, '68': 68, '70': 70, '69': 70, '71': 71, '74': 74, '73': 74, '72': None, '76': 76, '75': 76, '77': 77, '79': 79, '78': 79, '80': 80, '82': 82, '81': 82, '85': 85, '84': 85, '83': None, '86': 86, '88': 88}\n",
      "87 None\n",
      "88\n",
      "{'1': 1, '2': 2, '4': 4, '3': 4, '5': 5, '7': 7, '6': 7, '8': 8, '10': 10, '9': 10, '11': 11, '14': 14, '13': 14, '12': None, '16': 16, '15': 16, '17': 17, '19': 19, '18': 19, '20': 20, '22': 22, '21': 22, '25': 25, '24': 25, '23': None, '26': 26, '28': 28, '27': 28, '29': 29, '40': 40, '39': 40, '38': None, '37': None, '36': None, '35': None, '34': None, '33': None, '32': None, '31': None, '30': None, '41': 41, '44': 44, '43': 44, '42': None, '46': 46, '45': 46, '47': 47, '49': 49, '48': 49, '50': 50, '52': 52, '51': 52, '55': 55, '54': 55, '53': None, '56': 56, '58': 58, '57': 58, '59': 59, '61': 61, '60': 61, '62': 62, '64': 64, '63': 64, '65': 65, '67': 67, '66': 67, '68': 68, '70': 70, '69': 70, '71': 71, '74': 74, '73': 74, '72': None, '76': 76, '75': 76, '77': 77, '79': 79, '78': 79, '80': 80, '82': 82, '81': 82, '85': 85, '84': 85, '83': None, '86': 86, '88': 88, '87': 88}\n",
      "88 88\n",
      "89\n",
      "{'1': 1, '2': 2, '4': 4, '3': 4, '5': 5, '7': 7, '6': 7, '8': 8, '10': 10, '9': 10, '11': 11, '14': 14, '13': 14, '12': None, '16': 16, '15': 16, '17': 17, '19': 19, '18': 19, '20': 20, '22': 22, '21': 22, '25': 25, '24': 25, '23': None, '26': 26, '28': 28, '27': 28, '29': 29, '40': 40, '39': 40, '38': None, '37': None, '36': None, '35': None, '34': None, '33': None, '32': None, '31': None, '30': None, '41': 41, '44': 44, '43': 44, '42': None, '46': 46, '45': 46, '47': 47, '49': 49, '48': 49, '50': 50, '52': 52, '51': 52, '55': 55, '54': 55, '53': None, '56': 56, '58': 58, '57': 58, '59': 59, '61': 61, '60': 61, '62': 62, '64': 64, '63': 64, '65': 65, '67': 67, '66': 67, '68': 68, '70': 70, '69': 70, '71': 71, '74': 74, '73': 74, '72': None, '76': 76, '75': 76, '77': 77, '79': 79, '78': 79, '80': 80, '82': 82, '81': 82, '85': 85, '84': 85, '83': None, '86': 86, '88': 88, '87': 88, '89': 89}\n",
      "89 89\n",
      "91\n",
      "{'1': 1, '2': 2, '4': 4, '3': 4, '5': 5, '7': 7, '6': 7, '8': 8, '10': 10, '9': 10, '11': 11, '14': 14, '13': 14, '12': None, '16': 16, '15': 16, '17': 17, '19': 19, '18': 19, '20': 20, '22': 22, '21': 22, '25': 25, '24': 25, '23': None, '26': 26, '28': 28, '27': 28, '29': 29, '40': 40, '39': 40, '38': None, '37': None, '36': None, '35': None, '34': None, '33': None, '32': None, '31': None, '30': None, '41': 41, '44': 44, '43': 44, '42': None, '46': 46, '45': 46, '47': 47, '49': 49, '48': 49, '50': 50, '52': 52, '51': 52, '55': 55, '54': 55, '53': None, '56': 56, '58': 58, '57': 58, '59': 59, '61': 61, '60': 61, '62': 62, '64': 64, '63': 64, '65': 65, '67': 67, '66': 67, '68': 68, '70': 70, '69': 70, '71': 71, '74': 74, '73': 74, '72': None, '76': 76, '75': 76, '77': 77, '79': 79, '78': 79, '80': 80, '82': 82, '81': 82, '85': 85, '84': 85, '83': None, '86': 86, '88': 88, '87': 88, '89': 89, '91': 91}\n",
      "90 None\n",
      "91\n",
      "{'1': 1, '2': 2, '4': 4, '3': 4, '5': 5, '7': 7, '6': 7, '8': 8, '10': 10, '9': 10, '11': 11, '14': 14, '13': 14, '12': None, '16': 16, '15': 16, '17': 17, '19': 19, '18': 19, '20': 20, '22': 22, '21': 22, '25': 25, '24': 25, '23': None, '26': 26, '28': 28, '27': 28, '29': 29, '40': 40, '39': 40, '38': None, '37': None, '36': None, '35': None, '34': None, '33': None, '32': None, '31': None, '30': None, '41': 41, '44': 44, '43': 44, '42': None, '46': 46, '45': 46, '47': 47, '49': 49, '48': 49, '50': 50, '52': 52, '51': 52, '55': 55, '54': 55, '53': None, '56': 56, '58': 58, '57': 58, '59': 59, '61': 61, '60': 61, '62': 62, '64': 64, '63': 64, '65': 65, '67': 67, '66': 67, '68': 68, '70': 70, '69': 70, '71': 71, '74': 74, '73': 74, '72': None, '76': 76, '75': 76, '77': 77, '79': 79, '78': 79, '80': 80, '82': 82, '81': 82, '85': 85, '84': 85, '83': None, '86': 86, '88': 88, '87': 88, '89': 89, '91': 91, '90': 91}\n",
      "91 91\n",
      "92\n",
      "{'1': 1, '2': 2, '4': 4, '3': 4, '5': 5, '7': 7, '6': 7, '8': 8, '10': 10, '9': 10, '11': 11, '14': 14, '13': 14, '12': None, '16': 16, '15': 16, '17': 17, '19': 19, '18': 19, '20': 20, '22': 22, '21': 22, '25': 25, '24': 25, '23': None, '26': 26, '28': 28, '27': 28, '29': 29, '40': 40, '39': 40, '38': None, '37': None, '36': None, '35': None, '34': None, '33': None, '32': None, '31': None, '30': None, '41': 41, '44': 44, '43': 44, '42': None, '46': 46, '45': 46, '47': 47, '49': 49, '48': 49, '50': 50, '52': 52, '51': 52, '55': 55, '54': 55, '53': None, '56': 56, '58': 58, '57': 58, '59': 59, '61': 61, '60': 61, '62': 62, '64': 64, '63': 64, '65': 65, '67': 67, '66': 67, '68': 68, '70': 70, '69': 70, '71': 71, '74': 74, '73': 74, '72': None, '76': 76, '75': 76, '77': 77, '79': 79, '78': 79, '80': 80, '82': 82, '81': 82, '85': 85, '84': 85, '83': None, '86': 86, '88': 88, '87': 88, '89': 89, '91': 91, '90': 91, '92': 92}\n",
      "92 92\n",
      "94\n",
      "{'1': 1, '2': 2, '4': 4, '3': 4, '5': 5, '7': 7, '6': 7, '8': 8, '10': 10, '9': 10, '11': 11, '14': 14, '13': 14, '12': None, '16': 16, '15': 16, '17': 17, '19': 19, '18': 19, '20': 20, '22': 22, '21': 22, '25': 25, '24': 25, '23': None, '26': 26, '28': 28, '27': 28, '29': 29, '40': 40, '39': 40, '38': None, '37': None, '36': None, '35': None, '34': None, '33': None, '32': None, '31': None, '30': None, '41': 41, '44': 44, '43': 44, '42': None, '46': 46, '45': 46, '47': 47, '49': 49, '48': 49, '50': 50, '52': 52, '51': 52, '55': 55, '54': 55, '53': None, '56': 56, '58': 58, '57': 58, '59': 59, '61': 61, '60': 61, '62': 62, '64': 64, '63': 64, '65': 65, '67': 67, '66': 67, '68': 68, '70': 70, '69': 70, '71': 71, '74': 74, '73': 74, '72': None, '76': 76, '75': 76, '77': 77, '79': 79, '78': 79, '80': 80, '82': 82, '81': 82, '85': 85, '84': 85, '83': None, '86': 86, '88': 88, '87': 88, '89': 89, '91': 91, '90': 91, '92': 92, '94': 94}\n",
      "93 None\n",
      "94\n",
      "{'1': 1, '2': 2, '4': 4, '3': 4, '5': 5, '7': 7, '6': 7, '8': 8, '10': 10, '9': 10, '11': 11, '14': 14, '13': 14, '12': None, '16': 16, '15': 16, '17': 17, '19': 19, '18': 19, '20': 20, '22': 22, '21': 22, '25': 25, '24': 25, '23': None, '26': 26, '28': 28, '27': 28, '29': 29, '40': 40, '39': 40, '38': None, '37': None, '36': None, '35': None, '34': None, '33': None, '32': None, '31': None, '30': None, '41': 41, '44': 44, '43': 44, '42': None, '46': 46, '45': 46, '47': 47, '49': 49, '48': 49, '50': 50, '52': 52, '51': 52, '55': 55, '54': 55, '53': None, '56': 56, '58': 58, '57': 58, '59': 59, '61': 61, '60': 61, '62': 62, '64': 64, '63': 64, '65': 65, '67': 67, '66': 67, '68': 68, '70': 70, '69': 70, '71': 71, '74': 74, '73': 74, '72': None, '76': 76, '75': 76, '77': 77, '79': 79, '78': 79, '80': 80, '82': 82, '81': 82, '85': 85, '84': 85, '83': None, '86': 86, '88': 88, '87': 88, '89': 89, '91': 91, '90': 91, '92': 92, '94': 94, '93': 94}\n",
      "94 94\n",
      "95\n",
      "{'1': 1, '2': 2, '4': 4, '3': 4, '5': 5, '7': 7, '6': 7, '8': 8, '10': 10, '9': 10, '11': 11, '14': 14, '13': 14, '12': None, '16': 16, '15': 16, '17': 17, '19': 19, '18': 19, '20': 20, '22': 22, '21': 22, '25': 25, '24': 25, '23': None, '26': 26, '28': 28, '27': 28, '29': 29, '40': 40, '39': 40, '38': None, '37': None, '36': None, '35': None, '34': None, '33': None, '32': None, '31': None, '30': None, '41': 41, '44': 44, '43': 44, '42': None, '46': 46, '45': 46, '47': 47, '49': 49, '48': 49, '50': 50, '52': 52, '51': 52, '55': 55, '54': 55, '53': None, '56': 56, '58': 58, '57': 58, '59': 59, '61': 61, '60': 61, '62': 62, '64': 64, '63': 64, '65': 65, '67': 67, '66': 67, '68': 68, '70': 70, '69': 70, '71': 71, '74': 74, '73': 74, '72': None, '76': 76, '75': 76, '77': 77, '79': 79, '78': 79, '80': 80, '82': 82, '81': 82, '85': 85, '84': 85, '83': None, '86': 86, '88': 88, '87': 88, '89': 89, '91': 91, '90': 91, '92': 92, '94': 94, '93': 94, '95': 95}\n",
      "95 95\n",
      "97\n",
      "{'1': 1, '2': 2, '4': 4, '3': 4, '5': 5, '7': 7, '6': 7, '8': 8, '10': 10, '9': 10, '11': 11, '14': 14, '13': 14, '12': None, '16': 16, '15': 16, '17': 17, '19': 19, '18': 19, '20': 20, '22': 22, '21': 22, '25': 25, '24': 25, '23': None, '26': 26, '28': 28, '27': 28, '29': 29, '40': 40, '39': 40, '38': None, '37': None, '36': None, '35': None, '34': None, '33': None, '32': None, '31': None, '30': None, '41': 41, '44': 44, '43': 44, '42': None, '46': 46, '45': 46, '47': 47, '49': 49, '48': 49, '50': 50, '52': 52, '51': 52, '55': 55, '54': 55, '53': None, '56': 56, '58': 58, '57': 58, '59': 59, '61': 61, '60': 61, '62': 62, '64': 64, '63': 64, '65': 65, '67': 67, '66': 67, '68': 68, '70': 70, '69': 70, '71': 71, '74': 74, '73': 74, '72': None, '76': 76, '75': 76, '77': 77, '79': 79, '78': 79, '80': 80, '82': 82, '81': 82, '85': 85, '84': 85, '83': None, '86': 86, '88': 88, '87': 88, '89': 89, '91': 91, '90': 91, '92': 92, '94': 94, '93': 94, '95': 95, '97': 97}\n",
      "96 None\n",
      "97\n",
      "{'1': 1, '2': 2, '4': 4, '3': 4, '5': 5, '7': 7, '6': 7, '8': 8, '10': 10, '9': 10, '11': 11, '14': 14, '13': 14, '12': None, '16': 16, '15': 16, '17': 17, '19': 19, '18': 19, '20': 20, '22': 22, '21': 22, '25': 25, '24': 25, '23': None, '26': 26, '28': 28, '27': 28, '29': 29, '40': 40, '39': 40, '38': None, '37': None, '36': None, '35': None, '34': None, '33': None, '32': None, '31': None, '30': None, '41': 41, '44': 44, '43': 44, '42': None, '46': 46, '45': 46, '47': 47, '49': 49, '48': 49, '50': 50, '52': 52, '51': 52, '55': 55, '54': 55, '53': None, '56': 56, '58': 58, '57': 58, '59': 59, '61': 61, '60': 61, '62': 62, '64': 64, '63': 64, '65': 65, '67': 67, '66': 67, '68': 68, '70': 70, '69': 70, '71': 71, '74': 74, '73': 74, '72': None, '76': 76, '75': 76, '77': 77, '79': 79, '78': 79, '80': 80, '82': 82, '81': 82, '85': 85, '84': 85, '83': None, '86': 86, '88': 88, '87': 88, '89': 89, '91': 91, '90': 91, '92': 92, '94': 94, '93': 94, '95': 95, '97': 97, '96': 97}\n",
      "97 97\n",
      "98\n",
      "{'1': 1, '2': 2, '4': 4, '3': 4, '5': 5, '7': 7, '6': 7, '8': 8, '10': 10, '9': 10, '11': 11, '14': 14, '13': 14, '12': None, '16': 16, '15': 16, '17': 17, '19': 19, '18': 19, '20': 20, '22': 22, '21': 22, '25': 25, '24': 25, '23': None, '26': 26, '28': 28, '27': 28, '29': 29, '40': 40, '39': 40, '38': None, '37': None, '36': None, '35': None, '34': None, '33': None, '32': None, '31': None, '30': None, '41': 41, '44': 44, '43': 44, '42': None, '46': 46, '45': 46, '47': 47, '49': 49, '48': 49, '50': 50, '52': 52, '51': 52, '55': 55, '54': 55, '53': None, '56': 56, '58': 58, '57': 58, '59': 59, '61': 61, '60': 61, '62': 62, '64': 64, '63': 64, '65': 65, '67': 67, '66': 67, '68': 68, '70': 70, '69': 70, '71': 71, '74': 74, '73': 74, '72': None, '76': 76, '75': 76, '77': 77, '79': 79, '78': 79, '80': 80, '82': 82, '81': 82, '85': 85, '84': 85, '83': None, '86': 86, '88': 88, '87': 88, '89': 89, '91': 91, '90': 91, '92': 92, '94': 94, '93': 94, '95': 95, '97': 97, '96': 97, '98': 98}\n",
      "98 98\n",
      "100\n",
      "{'1': 1, '2': 2, '4': 4, '3': 4, '5': 5, '7': 7, '6': 7, '8': 8, '10': 10, '9': 10, '11': 11, '14': 14, '13': 14, '12': None, '16': 16, '15': 16, '17': 17, '19': 19, '18': 19, '20': 20, '22': 22, '21': 22, '25': 25, '24': 25, '23': None, '26': 26, '28': 28, '27': 28, '29': 29, '40': 40, '39': 40, '38': None, '37': None, '36': None, '35': None, '34': None, '33': None, '32': None, '31': None, '30': None, '41': 41, '44': 44, '43': 44, '42': None, '46': 46, '45': 46, '47': 47, '49': 49, '48': 49, '50': 50, '52': 52, '51': 52, '55': 55, '54': 55, '53': None, '56': 56, '58': 58, '57': 58, '59': 59, '61': 61, '60': 61, '62': 62, '64': 64, '63': 64, '65': 65, '67': 67, '66': 67, '68': 68, '70': 70, '69': 70, '71': 71, '74': 74, '73': 74, '72': None, '76': 76, '75': 76, '77': 77, '79': 79, '78': 79, '80': 80, '82': 82, '81': 82, '85': 85, '84': 85, '83': None, '86': 86, '88': 88, '87': 88, '89': 89, '91': 91, '90': 91, '92': 92, '94': 94, '93': 94, '95': 95, '97': 97, '96': 97, '98': 98, '100': 100}\n",
      "99 None\n",
      "100\n",
      "{'1': 1, '2': 2, '4': 4, '3': 4, '5': 5, '7': 7, '6': 7, '8': 8, '10': 10, '9': 10, '11': 11, '14': 14, '13': 14, '12': None, '16': 16, '15': 16, '17': 17, '19': 19, '18': 19, '20': 20, '22': 22, '21': 22, '25': 25, '24': 25, '23': None, '26': 26, '28': 28, '27': 28, '29': 29, '40': 40, '39': 40, '38': None, '37': None, '36': None, '35': None, '34': None, '33': None, '32': None, '31': None, '30': None, '41': 41, '44': 44, '43': 44, '42': None, '46': 46, '45': 46, '47': 47, '49': 49, '48': 49, '50': 50, '52': 52, '51': 52, '55': 55, '54': 55, '53': None, '56': 56, '58': 58, '57': 58, '59': 59, '61': 61, '60': 61, '62': 62, '64': 64, '63': 64, '65': 65, '67': 67, '66': 67, '68': 68, '70': 70, '69': 70, '71': 71, '74': 74, '73': 74, '72': None, '76': 76, '75': 76, '77': 77, '79': 79, '78': 79, '80': 80, '82': 82, '81': 82, '85': 85, '84': 85, '83': None, '86': 86, '88': 88, '87': 88, '89': 89, '91': 91, '90': 91, '92': 92, '94': 94, '93': 94, '95': 95, '97': 97, '96': 97, '98': 98, '100': 100, '99': 100}\n",
      "100 100\n"
     ]
    }
   ],
   "source": [
    "def solution(n):\n",
    "    answer = 0\n",
    "    num_dict = {}\n",
    "\n",
    "    def jump_(num):\n",
    "        if '3' in str(num) or num % 3 == 0:\n",
    "            num_dict[str(num)] = jump_(num+1)\n",
    "            # return jump_(num+1)\n",
    "        else:\n",
    "            print(num)\n",
    "            num_dict[str(num)] = num\n",
    "            print(num_dict)\n",
    "            return num_dict[str(num)]\n",
    "    \n",
    "\n",
    "    for i in range(1, 101):\n",
    "        print(i, jump_(i))\n",
    "    \n",
    "    # return num_dict(n)\n",
    "\n",
    "solution(1)\n"
   ]
  },
  {
   "cell_type": "code",
   "execution_count": 145,
   "metadata": {},
   "outputs": [
    {
     "data": {
      "text/plain": [
       "1"
      ]
     },
     "execution_count": 145,
     "metadata": {},
     "output_type": "execute_result"
    }
   ],
   "source": [
    "num_dict = {'1': 1}\n",
    "num_dict['1']"
   ]
  },
  {
   "cell_type": "code",
   "execution_count": 131,
   "metadata": {},
   "outputs": [
    {
     "data": {
      "text/plain": [
       "[1, 1, 3]"
      ]
     },
     "execution_count": 131,
     "metadata": {},
     "output_type": "execute_result"
    }
   ],
   "source": [
    "a_dict = [1, 2, 3]\n",
    "\n",
    "a_dict[1] = 1\n",
    "\n",
    "a_dict"
   ]
  },
  {
   "cell_type": "code",
   "execution_count": 118,
   "metadata": {},
   "outputs": [
    {
     "data": {
      "text/plain": [
       "False"
      ]
     },
     "execution_count": 118,
     "metadata": {},
     "output_type": "execute_result"
    }
   ],
   "source": [
    "range(0, 1) in range(0, 2)"
   ]
  },
  {
   "cell_type": "code",
   "execution_count": 95,
   "metadata": {},
   "outputs": [
    {
     "data": {
      "text/plain": [
       "[2, 3, 4]"
      ]
     },
     "execution_count": 95,
     "metadata": {},
     "output_type": "execute_result"
    }
   ],
   "source": [
    "lst = [1, 2, 3]\n",
    "lst2 = map(lambda x: x+1, lst)\n",
    "list(lst2)"
   ]
  },
  {
   "cell_type": "code",
   "execution_count": 47,
   "metadata": {},
   "outputs": [
    {
     "name": "stdout",
     "output_type": "stream",
     "text": [
      "['somd', 'sodm', 'smod', 'smdo', 'sdom', 'sdmo', 'osmd', 'osdm', 'omsd', 'omds', 'odsm', 'odms', 'msod', 'msdo', 'mosd', 'mods', 'mdso', 'mdos', 'dsom', 'dsmo', 'dosm', 'doms', 'dmso', 'dmos']\n"
     ]
    },
    {
     "data": {
      "text/plain": [
       "2"
      ]
     },
     "execution_count": 47,
     "metadata": {},
     "output_type": "execute_result"
    }
   ],
   "source": [
    "spell = [\"s\", \"o\", \"m\", \"d\"]\n",
    "dic = [\"moos\", \"dzx\", \"smm\", \"sunmmo\", \"som\"]\n",
    "\n",
    "def solution(spell, dic):\n",
    "  from itertools import permutations\n",
    "  answer = 0\n",
    "  spell_lst = [ ''.join(item) for item in (permutations(spell, len(spell))) ]\n",
    "  print(list(spell_lst))\n",
    "  return 1 if set(dic) & set(spell_lst) else 2\n",
    "\n",
    "solution(spell, dic)"
   ]
  },
  {
   "cell_type": "code",
   "execution_count": 43,
   "metadata": {},
   "outputs": [
    {
     "data": {
      "text/plain": [
       "set()"
      ]
     },
     "execution_count": 43,
     "metadata": {},
     "output_type": "execute_result"
    }
   ],
   "source": [
    "from itertools import permutations\n",
    "spell_lst = [ ''.join(item) for item in (permutations(spell, 3)) ]\n",
    "set(dic).intersection(set(spell_lst))"
   ]
  },
  {
   "cell_type": "code",
   "execution_count": 50,
   "metadata": {},
   "outputs": [
    {
     "name": "stdout",
     "output_type": "stream",
     "text": [
      "13\n"
     ]
    },
    {
     "data": {
      "text/plain": [
       "0"
      ]
     },
     "execution_count": 50,
     "metadata": {},
     "output_type": "execute_result"
    }
   ],
   "source": [
    "def solution(sides):\n",
    "  answer = 0\n",
    "\n",
    "  int_max = sides[0] + sides[1] - 1\n",
    "  int_min = max(sides) - min(sides) + 1\n",
    "  print(len(range(int_min, int_max)) + 1 )\n",
    "\n",
    "  return answer\n",
    "\n",
    "solution([11, 7])"
   ]
  },
  {
   "cell_type": "code",
   "execution_count": 70,
   "metadata": {},
   "outputs": [
    {
     "data": {
      "text/plain": [
       "array([[1, 0, 0, 0, 0],\n",
       "       [0, 0, 0, 0, 0],\n",
       "       [0, 2, 0, 0, 0],\n",
       "       [0, 0, 1, 0, 0],\n",
       "       [0, 0, 0, 0, 2]])"
      ]
     },
     "execution_count": 70,
     "metadata": {},
     "output_type": "execute_result"
    }
   ],
   "source": [
    "import numpy as np\n",
    "\n",
    "board = [[1, 0, 0, 0, 0], [0, 0, 0, 0, 0], [0, 0, 0, 0, 0], [0, 0, 1, 0, 0], [0, 0, 0, 0, 0]]\n",
    "\n",
    "arr_board = np.array(board)\n",
    "\n",
    "for i in range(len(arr_board)):\n",
    "  for j in range(len(arr_board)):\n",
    "    if arr_board[i, j] == 1:\n",
    "      arr_board[0 if i < 0 or i > len(arr_board) - 1 else i - 1, 0 if j < 0 or j > len(arr_board) -1 else j - 1] = 2\n",
    "\n",
    "arr_board"
   ]
  },
  {
   "cell_type": "code",
   "execution_count": 68,
   "metadata": {},
   "outputs": [
    {
     "data": {
      "text/plain": [
       "5"
      ]
     },
     "execution_count": 68,
     "metadata": {},
     "output_type": "execute_result"
    }
   ],
   "source": [
    "len(arr_board)"
   ]
  },
  {
   "cell_type": "code",
   "execution_count": 1,
   "metadata": {},
   "outputs": [
    {
     "ename": "KeyboardInterrupt",
     "evalue": "",
     "output_type": "error",
     "traceback": [
      "\u001b[1;31m---------------------------------------------------------------------------\u001b[0m",
      "\u001b[1;31mKeyboardInterrupt\u001b[0m                         Traceback (most recent call last)",
      "\u001b[1;32mc:\\김한솔\\projects\\stock-calendar\\test.ipynb 셀 34\u001b[0m in \u001b[0;36m<cell line: 13>\u001b[1;34m()\u001b[0m\n\u001b[0;32m     <a href='vscode-notebook-cell:/c%3A/%EA%B9%80%ED%95%9C%EC%86%94/projects/stock-calendar/test.ipynb#X45sZmlsZQ%3D%3D?line=9'>10</a>\u001b[0m   \u001b[39mreturn\u001b[39;00m int_lst\n\u001b[0;32m     <a href='vscode-notebook-cell:/c%3A/%EA%B9%80%ED%95%9C%EC%86%94/projects/stock-calendar/test.ipynb#X45sZmlsZQ%3D%3D?line=11'>12</a>\u001b[0m my_string \u001b[39m=\u001b[39m \u001b[39m\"\u001b[39m\u001b[39maAb1B2cC34oOp\u001b[39m\u001b[39m\"\u001b[39m\n\u001b[1;32m---> <a href='vscode-notebook-cell:/c%3A/%EA%B9%80%ED%95%9C%EC%86%94/projects/stock-calendar/test.ipynb#X45sZmlsZQ%3D%3D?line=12'>13</a>\u001b[0m solution(my_string)\n",
      "\u001b[1;32mc:\\김한솔\\projects\\stock-calendar\\test.ipynb 셀 34\u001b[0m in \u001b[0;36msolution\u001b[1;34m(my_string)\u001b[0m\n\u001b[0;32m      <a href='vscode-notebook-cell:/c%3A/%EA%B9%80%ED%95%9C%EC%86%94/projects/stock-calendar/test.ipynb#X45sZmlsZQ%3D%3D?line=3'>4</a>\u001b[0m \u001b[39mfor\u001b[39;00m item \u001b[39min\u001b[39;00m my_string:\n\u001b[0;32m      <a href='vscode-notebook-cell:/c%3A/%EA%B9%80%ED%95%9C%EC%86%94/projects/stock-calendar/test.ipynb#X45sZmlsZQ%3D%3D?line=4'>5</a>\u001b[0m   item_ext \u001b[39m=\u001b[39m []\n\u001b[1;32m----> <a href='vscode-notebook-cell:/c%3A/%EA%B9%80%ED%95%9C%EC%86%94/projects/stock-calendar/test.ipynb#X45sZmlsZQ%3D%3D?line=5'>6</a>\u001b[0m   \u001b[39mwhile\u001b[39;00m item\u001b[39m.\u001b[39;49misdigit():\n\u001b[0;32m      <a href='vscode-notebook-cell:/c%3A/%EA%B9%80%ED%95%9C%EC%86%94/projects/stock-calendar/test.ipynb#X45sZmlsZQ%3D%3D?line=6'>7</a>\u001b[0m     item_ext\u001b[39m.\u001b[39mappend(item)\n\u001b[0;32m      <a href='vscode-notebook-cell:/c%3A/%EA%B9%80%ED%95%9C%EC%86%94/projects/stock-calendar/test.ipynb#X45sZmlsZQ%3D%3D?line=7'>8</a>\u001b[0m   int_lst\u001b[39m.\u001b[39mappend(item_ext)\n",
      "\u001b[1;31mKeyboardInterrupt\u001b[0m: "
     ]
    }
   ],
   "source": [
    "def solution(my_string):\n",
    "  int_lst = []\n",
    "\n",
    "  for item in my_string:\n",
    "    item_ext = []\n",
    "    while item.isdigit():\n",
    "      item_ext.append(item)\n",
    "    int_lst.append(item_ext)\n",
    "    \n",
    "  return int_lst\n",
    "\n",
    "my_string = \"aAb1B2cC34oOp\"\n",
    "solution(my_string)"
   ]
  },
  {
   "cell_type": "code",
   "execution_count": 8,
   "metadata": {},
   "outputs": [
    {
     "name": "stdout",
     "output_type": "stream",
     "text": [
      "a A\n",
      "A b\n",
      "b 1\n",
      "1 B\n",
      "B 2\n",
      "2 c\n",
      "c C\n",
      "C 3\n",
      "3 4\n",
      "4 o\n",
      "o O\n",
      "O p\n",
      "p a\n"
     ]
    }
   ],
   "source": [
    "from itertools import cycle\n",
    "\n",
    "lst = list(\"aAb1B2cC34oOp\")\n",
    "n = 0\n",
    "\n",
    "while n < len(lst):\n",
    "  for elem, next_elem in zip(lst, lst[1:]+[lst[0]]):\n",
    "    print(elem, next_elem)\n",
    "    n += 1\n",
    "\n",
    "# print(zip(lst, lst[1:]+[lst[0]]))"
   ]
  },
  {
   "cell_type": "code",
   "execution_count": 42,
   "metadata": {},
   "outputs": [
    {
     "data": {
      "text/plain": [
       "37"
      ]
     },
     "execution_count": 42,
     "metadata": {},
     "output_type": "execute_result"
    }
   ],
   "source": [
    "def solution(my_string):\n",
    "  s = ''.join([ i if i.isdigit() else ' ' for i in my_string ])\n",
    "  return sum([ int(i) for i in s.split()])\n",
    "\n",
    "my_string = \"aAb1B2cC34oOp\"\n",
    "solution(my_string)"
   ]
  },
  {
   "cell_type": "code",
   "execution_count": 36,
   "metadata": {},
   "outputs": [
    {
     "data": {
      "text/plain": [
       "37"
      ]
     },
     "execution_count": 36,
     "metadata": {},
     "output_type": "execute_result"
    }
   ],
   "source": [
    "def solution(my_string):\n",
    "  int_lst = []\n",
    "\n",
    "  for item in my_string:\n",
    "    if not item.isdigit():\n",
    "      int_lst.append('/')\n",
    "    else:\n",
    "      int_lst.append(item)\n",
    "  \n",
    "  return sum([ 0 if item == '' else int(item) for item in ''.join(int_lst).split('/') ])\n",
    "\n",
    "my_string = \"aAb1B2cC34oOp\"\n",
    "solution(my_string)"
   ]
  },
  {
   "cell_type": "code",
   "execution_count": 195,
   "metadata": {},
   "outputs": [
    {
     "name": "stdout",
     "output_type": "stream",
     "text": [
      "[] 0 3\n"
     ]
    },
    {
     "data": {
      "text/plain": [
       "'3'"
      ]
     },
     "execution_count": 195,
     "metadata": {},
     "output_type": "execute_result"
    }
   ],
   "source": [
    "polynomial =  \"3\"\n",
    "\n",
    "def solution(polynomial):\n",
    "\n",
    "  lst = polynomial.split(' + ')\n",
    "  b = sum([ int(i) for i in lst if i.isdigit() ])\n",
    "  x_lst = [ i.rstrip('x') for i in lst if not i.isdigit() ]\n",
    "  a = sum([ 1 if i == '' else int(i) for i in x_lst ])\n",
    "  print(x_lst, a, b)\n",
    "\n",
    "  if a == 0:\n",
    "    return str(b)\n",
    "  elif b == 0:\n",
    "    repl = '{}x'.format(a)[0:2].replace('1x', 'x')\n",
    "    return repl + '{}x'.format(a)[2:]\n",
    "  else:\n",
    "    repl = '{}x + {}'.format(a, b)[0:2].replace('1x', 'x')\n",
    "    return repl + '{}x + {}'.format(a, b)[2:]\n",
    "      \n",
    "\n",
    "solution(polynomial)"
   ]
  },
  {
   "cell_type": "code",
   "execution_count": 169,
   "metadata": {},
   "outputs": [
    {
     "data": {
      "text/plain": [
       "'0'"
      ]
     },
     "execution_count": 169,
     "metadata": {},
     "output_type": "execute_result"
    }
   ],
   "source": [
    "polynomial =  \"x + x\"\n",
    "\n",
    "def solution(polynomial):\n",
    "\n",
    "  if polynomial == \"\":\n",
    "    return \"0\"\n",
    "\n",
    "  else:\n",
    "\n",
    "    try: \n",
    "      lst = polynomial.split(' + ')\n",
    "      b = sum([ int(i) for i in lst if i.isdigit() ])\n",
    "      x_lst = [ i.rstrip('x') for i in lst if not i.isdigit() ]\n",
    "      a = sum([ 1 if i == '' else int(i) for i in x_lst ])\n",
    "      print(x_lst, a, b)\n",
    "\n",
    "      if a == 0:\n",
    "        return b\n",
    "      elif b == 0:\n",
    "        repl = '{}x'.format(a)[0:2].replace('1x', 'x')\n",
    "        return repl + '{}x'.format(a)[2:]\n",
    "      else:\n",
    "        repl = '{}x + {}'.format(a, b)[0:2].replace('1x', 'x')\n",
    "        return repl + '{}x + {}'.format(a, b)[2:]\n",
    "      \n",
    "    except:\n",
    "      return \"0\"\n",
    "\n",
    "\n",
    "\n",
    "solution(polynomial)"
   ]
  },
  {
   "cell_type": "code",
   "execution_count": 201,
   "metadata": {},
   "outputs": [
    {
     "data": {
      "text/plain": [
       "4"
      ]
     },
     "execution_count": 201,
     "metadata": {},
     "output_type": "execute_result"
    }
   ],
   "source": [
    "def solution(s):\n",
    "    lst = s.split(' '); lst_int = []\n",
    "    \n",
    "    for i in range(len(lst)):\n",
    "      try:\n",
    "        lst_int.append(int(lst[i]))\n",
    "      except:\n",
    "        lst_int.append(-int(lst[i-1]))\n",
    "\n",
    "    return sum(lst_int)\n",
    "\n",
    "solution(\"1 2 Z 3\")"
   ]
  },
  {
   "cell_type": "code",
   "execution_count": 211,
   "metadata": {},
   "outputs": [
    {
     "data": {
      "text/plain": [
       "[2, 3, 5, 7]"
      ]
     },
     "execution_count": 211,
     "metadata": {},
     "output_type": "execute_result"
    }
   ],
   "source": [
    "def solution(n):\n",
    "    primfac = []\n",
    "    d = 2\n",
    "    while d*d <= n:\n",
    "        while (n % d) == 0:\n",
    "            primfac.append(d)\n",
    "            n //= d\n",
    "        d += 1\n",
    "    if n > 1:\n",
    "        primfac.append(n)\n",
    "    return [ int(i) for i in set(primfac) ]\n",
    "\n",
    "\n",
    "solution(420)"
   ]
  },
  {
   "cell_type": "code",
   "execution_count": 218,
   "metadata": {},
   "outputs": [
    {
     "data": {
      "text/plain": [
       "10"
      ]
     },
     "execution_count": 218,
     "metadata": {},
     "output_type": "execute_result"
    }
   ],
   "source": [
    "def solution(my_string):\n",
    "    return sum([ int(i) if i.isdigit() else 0 for i in my_string ])\n",
    "\n",
    "solution(\"aAb1B2cC34oOp\")"
   ]
  },
  {
   "cell_type": "code",
   "execution_count": 224,
   "metadata": {},
   "outputs": [
    {
     "data": {
      "text/plain": [
       "3"
      ]
     },
     "execution_count": 224,
     "metadata": {},
     "output_type": "execute_result"
    }
   ],
   "source": [
    "def solution(n):\n",
    "    fac = 1; i = 1\n",
    "    while fac <= n:\n",
    "        fac *= i\n",
    "        i += 1\n",
    "    \n",
    "    return i - 2\n",
    "\n",
    "solution(7)"
   ]
  },
  {
   "cell_type": "code",
   "execution_count": 285,
   "metadata": {},
   "outputs": [
    {
     "data": {
      "text/plain": [
       "[(100, 95, 2), (4, 5, 6), (18, 33, 948)]"
      ]
     },
     "execution_count": 285,
     "metadata": {},
     "output_type": "execute_result"
    }
   ],
   "source": [
    "def solution(num_list, n):\n",
    "    answer = [[]]\n",
    "    # lst = ['*']*3\n",
    "    answer = zip(*(iter(num_list),)*n)\n",
    "    return list(answer)\n",
    "\n",
    "solution([100, 95, 2, 4, 5, 6, 18, 33, 948]\t, 3)"
   ]
  },
  {
   "cell_type": "code",
   "execution_count": 246,
   "metadata": {},
   "outputs": [
    {
     "ename": "TypeError",
     "evalue": "'list_iterator' object is not callable",
     "output_type": "error",
     "traceback": [
      "\u001b[1;31m---------------------------------------------------------------------------\u001b[0m",
      "\u001b[1;31mTypeError\u001b[0m                                 Traceback (most recent call last)",
      "\u001b[1;32mc:\\김한솔\\projects\\stock-calendar\\test.ipynb 셀 45\u001b[0m in \u001b[0;36m<cell line: 1>\u001b[1;34m()\u001b[0m\n\u001b[1;32m----> <a href='vscode-notebook-cell:/c%3A/%EA%B9%80%ED%95%9C%EC%86%94/projects/stock-calendar/test.ipynb#X62sZmlsZQ%3D%3D?line=0'>1</a>\u001b[0m \u001b[39miter\u001b[39;49m([\u001b[39m100\u001b[39;49m, \u001b[39m95\u001b[39;49m, \u001b[39m2\u001b[39;49m, \u001b[39m4\u001b[39;49m, \u001b[39m5\u001b[39;49m, \u001b[39m6\u001b[39;49m, \u001b[39m18\u001b[39;49m, \u001b[39m33\u001b[39;49m, \u001b[39m948\u001b[39;49m])()\n",
      "\u001b[1;31mTypeError\u001b[0m: 'list_iterator' object is not callable"
     ]
    }
   ],
   "source": [
    "\n",
    "iter([100, 95, 2, 4, 5, 6, 18, 33, 948])"
   ]
  },
  {
   "cell_type": "code",
   "execution_count": 252,
   "metadata": {},
   "outputs": [
    {
     "name": "stdout",
     "output_type": "stream",
     "text": [
      "1\n",
      "2\n",
      "3\n",
      "4\n"
     ]
    }
   ],
   "source": [
    "a = [1, 2, 3, 4]\n",
    "b = iter(a)\n",
    "\n",
    "print(b.__next__())\n",
    "print(b.__next__())\n",
    "print(b.__next__())\n",
    "print(b.__next__())"
   ]
  },
  {
   "cell_type": "code",
   "execution_count": 253,
   "metadata": {},
   "outputs": [
    {
     "ename": "SyntaxError",
     "evalue": "can't use starred expression here (753764916.py, line 3)",
     "output_type": "error",
     "traceback": [
      "\u001b[1;36m  Input \u001b[1;32mIn [253]\u001b[1;36m\u001b[0m\n\u001b[1;33m    *(iter(a))\u001b[0m\n\u001b[1;37m    ^\u001b[0m\n\u001b[1;31mSyntaxError\u001b[0m\u001b[1;31m:\u001b[0m can't use starred expression here\n"
     ]
    }
   ],
   "source": [
    "a = [1, 2, 3, 4]\n",
    "\n",
    "*(iter(a))"
   ]
  },
  {
   "cell_type": "code",
   "execution_count": 287,
   "metadata": {},
   "outputs": [
    {
     "data": {
      "text/plain": [
       "2"
      ]
     },
     "execution_count": 287,
     "metadata": {},
     "output_type": "execute_result"
    }
   ],
   "source": [
    "def solution(dot):\n",
    "    if dot[0] > 0 and dot[1] > 0:\n",
    "        answer = 1\n",
    "    elif dot[0] < 0 and dot[1] > 0:\n",
    "        answer = 2\n",
    "    elif dot[0] < 0 and dot[1] < 0:\n",
    "        answer = 3\n",
    "    else:\n",
    "        answer = 4\n",
    "    return answer\n",
    "\n",
    "solution([-7, 9])"
   ]
  },
  {
   "cell_type": "code",
   "execution_count": 296,
   "metadata": {},
   "outputs": [
    {
     "data": {
      "text/plain": [
       "'fg'"
      ]
     },
     "execution_count": 296,
     "metadata": {},
     "output_type": "execute_result"
    }
   ],
   "source": [
    "def solution(age):\n",
    "    str_ = 'abcdefghij'\n",
    "    return ''.join( str_[int(item)] for item in str(age) )\n",
    "\n",
    "solution(56)"
   ]
  },
  {
   "cell_type": "code",
   "execution_count": 294,
   "metadata": {},
   "outputs": [
    {
     "data": {
      "text/plain": [
       "'5'"
      ]
     },
     "execution_count": 294,
     "metadata": {},
     "output_type": "execute_result"
    }
   ],
   "source": [
    "str_ = 'abcdefghij'\n",
    "list(str_)\n",
    "\n",
    "str(56)[0]"
   ]
  },
  {
   "cell_type": "code",
   "execution_count": 297,
   "metadata": {},
   "outputs": [
    {
     "data": {
      "text/plain": [
       "30"
      ]
     },
     "execution_count": 297,
     "metadata": {},
     "output_type": "execute_result"
    }
   ],
   "source": [
    "def solution(n):\n",
    "    answer = 0\n",
    "    while n > 0:\n",
    "        if n % 2 == 0:\n",
    "            answer += n\n",
    "        n -= 1\n",
    "    return answer\n",
    "\n",
    "solution(10)"
   ]
  },
  {
   "cell_type": "code",
   "execution_count": 3,
   "metadata": {},
   "outputs": [
    {
     "data": {
      "text/plain": [
       "6"
      ]
     },
     "execution_count": 3,
     "metadata": {},
     "output_type": "execute_result"
    }
   ],
   "source": [
    "n = 20\n",
    "\n",
    "a = sum(filter(lambda x: x % 2 == 0, [1, 2, 3, 4]))\n",
    "a\n"
   ]
  },
  {
   "cell_type": "code",
   "execution_count": 11,
   "metadata": {},
   "outputs": [
    {
     "data": {
      "text/plain": [
       "120000"
      ]
     },
     "execution_count": 11,
     "metadata": {},
     "output_type": "execute_result"
    }
   ],
   "source": [
    "def solution(n, k):\n",
    "\n",
    "    sheep = n*12000\n",
    "    service = n // 10\n",
    "    cost_beverage = (k - service)*2000 if k >= service else 0\n",
    "\n",
    "    return sheep + cost_beverage\n",
    "\n",
    "solution(10, 0)"
   ]
  },
  {
   "cell_type": "code",
   "execution_count": 12,
   "metadata": {},
   "outputs": [
    {
     "data": {
      "text/plain": [
       "118000"
      ]
     },
     "execution_count": 12,
     "metadata": {},
     "output_type": "execute_result"
    }
   ],
   "source": [
    "def solution(n, k):\n",
    "    return 12000 * n + 2000 * (k - n // 10)\n",
    "\n",
    "solution(10, 0)"
   ]
  },
  {
   "cell_type": "code",
   "execution_count": 13,
   "metadata": {},
   "outputs": [
    {
     "data": {
      "text/plain": [
       "(0, 90)"
      ]
     },
     "execution_count": 13,
     "metadata": {},
     "output_type": "execute_result"
    }
   ],
   "source": [
    "def solution(angle):\n",
    "    a, b, c, d = (0, 90), 90, (90, 180), 180\n",
    "    return a\n",
    "\n",
    "solution(40)"
   ]
  },
  {
   "cell_type": "code",
   "execution_count": 20,
   "metadata": {},
   "outputs": [
    {
     "data": {
      "text/plain": [
       "'dddooommmyyyBBBBBB'"
      ]
     },
     "execution_count": 20,
     "metadata": {},
     "output_type": "execute_result"
    }
   ],
   "source": [
    "def solution(my_string, n):\n",
    "    answer = ''\n",
    "    return ''.join(map(lambda x: x*3, my_string))\n",
    "\n",
    "solution('domyBB', 4)"
   ]
  },
  {
   "cell_type": "code",
   "execution_count": 25,
   "metadata": {},
   "outputs": [
    {
     "data": {
      "text/plain": [
       "[2, 3]"
      ]
     },
     "execution_count": 25,
     "metadata": {},
     "output_type": "execute_result"
    }
   ],
   "source": [
    "def solution(num_list):\n",
    "    return [ sum(map(lambda x: x % 2 == 0, num_list)), len(num_list) - sum(map(lambda x: x % 2 == 0, num_list)) ]\n",
    "\n",
    "solution([1, 2, 3, 4, 5])"
   ]
  },
  {
   "cell_type": "code",
   "execution_count": 27,
   "metadata": {},
   "outputs": [
    {
     "name": "stdout",
     "output_type": "stream",
     "text": [
      "*\n",
      "**\n",
      "***\n",
      "****\n"
     ]
    }
   ],
   "source": [
    "for i in range(1, 5):\n",
    "    print('*'*(i))"
   ]
  },
  {
   "cell_type": "code",
   "execution_count": 10,
   "metadata": {},
   "outputs": [
    {
     "data": {
      "text/plain": [
       "'noraaj'"
      ]
     },
     "execution_count": 10,
     "metadata": {},
     "output_type": "execute_result"
    }
   ],
   "source": [
    "def solution(my_string):\n",
    "    return ''.join(list(reversed(my_string)))\n",
    "\n",
    "solution('jaaron')\n"
   ]
  },
  {
   "cell_type": "code",
   "execution_count": 9,
   "metadata": {},
   "outputs": [
    {
     "data": {
      "text/plain": [
       "['n', 'o', 'r', 'a', 'j']"
      ]
     },
     "execution_count": 9,
     "metadata": {},
     "output_type": "execute_result"
    }
   ],
   "source": [
    "s = 'jaron'\n",
    "\n",
    "list(reversed(s))"
   ]
  },
  {
   "cell_type": "code",
   "execution_count": 11,
   "metadata": {},
   "outputs": [
    {
     "data": {
      "text/plain": [
       "[5, 3, 1, 1, 1, 0, 1]"
      ]
     },
     "execution_count": 11,
     "metadata": {},
     "output_type": "execute_result"
    }
   ],
   "source": [
    "def solution(num_list):\n",
    "    answer = []\n",
    "    return num_list[::-1]\n",
    "\n",
    "solution([1, 0, 1, 1, 1, 3, 5])"
   ]
  },
  {
   "cell_type": "code",
   "execution_count": 14,
   "metadata": {},
   "outputs": [
    {
     "data": {
      "text/plain": [
       "94.0"
      ]
     },
     "execution_count": 14,
     "metadata": {},
     "output_type": "execute_result"
    }
   ],
   "source": [
    "import numpy as np\n",
    "np.average([89, 90, 91, 92, 93, 94, 95, 96, 97, 98, 99])"
   ]
  },
  {
   "cell_type": "code",
   "execution_count": 39,
   "metadata": {},
   "outputs": [
    {
     "data": {
      "text/plain": [
       "-1"
      ]
     },
     "execution_count": 39,
     "metadata": {},
     "output_type": "execute_result"
    }
   ],
   "source": [
    "def solution(array):\n",
    "\n",
    "    set_ = set(array)\n",
    "    dict_ = { k: array.count(k) for k in set_ }\n",
    "    max_value = max(dict_.values())\n",
    "    answer = [k for k, v in dict_.items() if v == max_value]\n",
    "\n",
    "    return -1 if len(answer) != 1 else answer[0]\n",
    "    \n",
    "solution([1, 1, 2, 2])"
   ]
  },
  {
   "cell_type": "code",
   "execution_count": 45,
   "metadata": {},
   "outputs": [
    {
     "data": {
      "text/plain": [
       "[2.0]"
      ]
     },
     "execution_count": 45,
     "metadata": {},
     "output_type": "execute_result"
    }
   ],
   "source": [
    "def solution(array):\n",
    "    return sorted(array)[int((len(array)+1)/2 - 1)]\n",
    "\n",
    "solution([1, 2, 7, 10, 11])"
   ]
  },
  {
   "cell_type": "code",
   "execution_count": 47,
   "metadata": {},
   "outputs": [
    {
     "data": {
      "text/plain": [
       "[2, 4, 6, 8]"
      ]
     },
     "execution_count": 47,
     "metadata": {},
     "output_type": "execute_result"
    }
   ],
   "source": [
    "import numpy as np\n",
    "list(np.array([1, 2, 3, 4])*2)"
   ]
  },
  {
   "cell_type": "code",
   "execution_count": 49,
   "metadata": {},
   "outputs": [
    {
     "data": {
      "text/plain": [
       "[1, 4]"
      ]
     },
     "execution_count": 49,
     "metadata": {},
     "output_type": "execute_result"
    }
   ],
   "source": [
    "list((0.25).as_integer_ratio())\n"
   ]
  },
  {
   "cell_type": "code",
   "execution_count": 95,
   "metadata": {},
   "outputs": [
    {
     "data": {
      "text/plain": [
       "[1, 1]"
      ]
     },
     "execution_count": 95,
     "metadata": {},
     "output_type": "execute_result"
    }
   ],
   "source": [
    "# from math import lcm\n",
    "def solution(numer1, denom1, numer2, denom2):\n",
    "    from fractions import Fraction\n",
    "    import math\n",
    "\n",
    "    lcm_ = denom1*denom2 / math.gcd(denom1, denom2)\n",
    "    a = numer1 * (lcm_/denom1)\n",
    "    c = numer2 * (lcm_/denom2)\n",
    "    answer = Fraction(int(a+c), int(lcm_))\n",
    "    return [ answer.numerator, answer.denominator ]\n",
    "\n",
    "solution(1, 2, 1, 2)"
   ]
  },
  {
   "cell_type": "code",
   "execution_count": 99,
   "metadata": {},
   "outputs": [
    {
     "name": "stdout",
     "output_type": "stream",
     "text": [
      "9/2 1/3\n",
      "29/6\n"
     ]
    },
    {
     "data": {
      "text/plain": [
       "[29, 6]"
      ]
     },
     "execution_count": 99,
     "metadata": {},
     "output_type": "execute_result"
    }
   ],
   "source": [
    "from fractions import Fraction\n",
    "\n",
    "def solution(denum1, num1, denum2, num2):\n",
    "    print(Fraction(denum1, num1), Fraction(denum2, num2))\n",
    "    answer = Fraction(denum1, num1) + Fraction(denum2, num2)\n",
    "    print(answer)\n",
    "    return [answer.numerator, answer.denominator]\n",
    "\n",
    "solution(9, 2, 1, 3)"
   ]
  },
  {
   "cell_type": "code",
   "execution_count": 119,
   "metadata": {},
   "outputs": [
    {
     "name": "stdout",
     "output_type": "stream",
     "text": [
      "1\n"
     ]
    },
    {
     "data": {
      "text/plain": [
       "3"
      ]
     },
     "execution_count": 119,
     "metadata": {},
     "output_type": "execute_result"
    }
   ],
   "source": [
    "def solution(array, height):\n",
    "    array.append(height)\n",
    "    return sorted(array, reverse=True).index(height)\n",
    "\n",
    "solution([149, 180, 192, 170], 167)"
   ]
  },
  {
   "cell_type": "code",
   "execution_count": 137,
   "metadata": {},
   "outputs": [
    {
     "data": {
      "text/plain": [
       "0"
      ]
     },
     "execution_count": 137,
     "metadata": {},
     "output_type": "execute_result"
    }
   ],
   "source": [
    "a = [[1, 0, 0, 0, 0], [0, 0, 0, 0, 0], [0, 0, 0, 0, 0], [0, 0, 1, 1, 0], [0, 0, 0, 0, 0]]\n",
    "a[-1][-1]"
   ]
  },
  {
   "cell_type": "code",
   "execution_count": 165,
   "metadata": {},
   "outputs": [
    {
     "name": "stdout",
     "output_type": "stream",
     "text": [
      "0 0 ** -1 -1 *** 0\n",
      "0 0 ** 0 -1 *** 0\n",
      "0 0 ** 1 -1 *** 0\n",
      "0 0 ** -1 0 *** 0\n",
      "0 0 ** 0 0 *** 0\n",
      "0 0 ** 1 0 *** 0\n",
      "0 0 ** -1 1 *** 0\n",
      "0 0 ** 0 1 *** 0\n",
      "0 0 ** 1 1 *** 0\n",
      "0 1 ** -1 0 *** 0\n",
      "0 1 ** 0 0 *** 0\n",
      "0 1 ** 1 0 *** 0\n",
      "0 1 ** -1 1 *** 0\n",
      "0 1 ** 0 1 *** 0\n",
      "0 1 ** 1 1 *** 0\n",
      "0 1 ** -1 2 *** 0\n",
      "0 1 ** 0 2 *** 0\n",
      "0 1 ** 1 2 *** 0\n",
      "0 2 ** -1 1 *** 0\n",
      "0 2 ** 0 1 *** 0\n",
      "0 2 ** 1 1 *** 0\n",
      "0 2 ** -1 2 *** 0\n",
      "0 2 ** 0 2 *** 0\n",
      "0 2 ** 1 2 *** 0\n",
      "0 2 ** -1 3 *** 0\n",
      "0 2 ** 0 3 *** 0\n",
      "0 2 ** 1 3 *** 0\n",
      "0 3 ** -1 2 *** 0\n",
      "0 3 ** 0 2 *** 0\n",
      "0 3 ** 1 2 *** 0\n",
      "0 3 ** -1 3 *** 0\n",
      "0 3 ** 0 3 *** 0\n",
      "0 3 ** 1 3 *** 0\n",
      "0 3 ** -1 4 *** 0\n",
      "0 3 ** 0 4 *** 0\n",
      "0 3 ** 1 4 *** 0\n",
      "0 4 ** -1 3 *** 0\n",
      "0 4 ** 0 3 *** 0\n",
      "0 4 ** 1 3 *** 0\n",
      "0 4 ** -1 4 *** 0\n",
      "0 4 ** 0 4 *** 0\n",
      "0 4 ** 1 4 *** 0\n",
      "1 0 ** 0 -1 *** 0\n",
      "1 0 ** 1 -1 *** 0\n",
      "1 0 ** 2 -1 *** 0\n",
      "1 0 ** 0 0 *** 0\n",
      "1 0 ** 1 0 *** 0\n",
      "1 0 ** 2 0 *** 0\n",
      "1 0 ** 0 1 *** 0\n",
      "1 0 ** 1 1 *** 0\n",
      "1 0 ** 2 1 *** 0\n",
      "1 1 ** 0 0 *** 0\n",
      "1 1 ** 1 0 *** 0\n",
      "1 1 ** 2 0 *** 0\n",
      "1 1 ** 0 1 *** 0\n",
      "1 1 ** 1 1 *** 0\n",
      "1 1 ** 2 1 *** 0\n",
      "1 1 ** 0 2 *** 0\n",
      "1 1 ** 1 2 *** 0\n",
      "1 1 ** 2 2 *** 0\n",
      "1 2 ** 0 1 *** 0\n",
      "1 2 ** 1 1 *** 0\n",
      "1 2 ** 2 1 *** 0\n",
      "1 2 ** 0 2 *** 0\n",
      "1 2 ** 1 2 *** 0\n",
      "1 2 ** 2 2 *** 0\n",
      "1 2 ** 0 3 *** 0\n",
      "1 2 ** 1 3 *** 0\n",
      "1 2 ** 2 3 *** 0\n",
      "1 3 ** 0 2 *** 0\n",
      "1 3 ** 1 2 *** 0\n",
      "1 3 ** 2 2 *** 0\n",
      "1 3 ** 0 3 *** 0\n",
      "1 3 ** 1 3 *** 0\n",
      "1 3 ** 2 3 *** 0\n",
      "1 3 ** 0 4 *** 0\n",
      "1 3 ** 1 4 *** 0\n",
      "1 3 ** 2 4 *** 0\n",
      "1 4 ** 0 3 *** 0\n",
      "1 4 ** 1 3 *** 0\n",
      "1 4 ** 2 3 *** 0\n",
      "1 4 ** 0 4 *** 0\n",
      "1 4 ** 1 4 *** 0\n",
      "1 4 ** 2 4 *** 0\n",
      "2 0 ** 1 -1 *** 0\n",
      "2 0 ** 2 -1 *** 0\n",
      "2 0 ** 3 -1 *** 0\n",
      "2 0 ** 1 0 *** 0\n",
      "2 0 ** 2 0 *** 0\n",
      "2 0 ** 3 0 *** 0\n",
      "2 0 ** 1 1 *** 0\n",
      "2 0 ** 2 1 *** 0\n",
      "2 0 ** 3 1 *** 0\n",
      "2 1 ** 1 0 *** 0\n",
      "2 1 ** 2 0 *** 0\n",
      "2 1 ** 3 0 *** 0\n",
      "2 1 ** 1 1 *** 0\n",
      "2 1 ** 2 1 *** 0\n",
      "2 1 ** 3 1 *** 0\n",
      "2 1 ** 1 2 *** 0\n",
      "2 1 ** 2 2 *** 0\n",
      "2 1 ** 3 2 *** 1\n",
      "bomb\n",
      "2 2 ** 1 1 *** 0\n",
      "2 2 ** 2 1 *** 0\n",
      "2 2 ** 3 1 *** 0\n",
      "2 2 ** 1 2 *** 0\n",
      "2 2 ** 2 2 *** 0\n",
      "2 2 ** 3 2 *** 1\n",
      "bomb\n",
      "2 3 ** 1 2 *** 0\n",
      "2 3 ** 2 2 *** 0\n",
      "2 3 ** 3 2 *** 1\n",
      "bomb\n",
      "2 4 ** 1 3 *** 0\n",
      "2 4 ** 2 3 *** 0\n",
      "2 4 ** 3 3 *** 1\n",
      "bomb\n",
      "3 0 ** 2 -1 *** 0\n",
      "3 0 ** 3 -1 *** 0\n",
      "3 0 ** 4 -1 *** 0\n",
      "3 0 ** 2 0 *** 0\n",
      "3 0 ** 3 0 *** 0\n",
      "3 0 ** 4 0 *** 0\n",
      "3 0 ** 2 1 *** 0\n",
      "3 0 ** 3 1 *** 0\n",
      "3 0 ** 4 1 *** 0\n",
      "3 1 ** 2 0 *** 0\n",
      "3 1 ** 3 0 *** 0\n",
      "3 1 ** 4 0 *** 0\n",
      "3 1 ** 2 1 *** 0\n",
      "3 1 ** 3 1 *** 0\n",
      "3 1 ** 4 1 *** 0\n",
      "3 1 ** 2 2 *** 0\n",
      "3 1 ** 3 2 *** 1\n",
      "bomb\n",
      "3 2 ** 2 1 *** 0\n",
      "3 2 ** 3 1 *** 0\n",
      "3 2 ** 4 1 *** 0\n",
      "3 2 ** 2 2 *** 0\n",
      "3 2 ** 3 2 *** 1\n",
      "bomb\n",
      "3 3 ** 2 2 *** 0\n",
      "3 3 ** 3 2 *** 1\n",
      "bomb\n",
      "3 4 ** 2 3 *** 0\n",
      "3 4 ** 3 3 *** 1\n",
      "bomb\n",
      "4 0 ** 3 -1 *** 0\n",
      "4 0 ** 4 -1 *** 0\n",
      "4 0 ** 3 0 *** 0\n",
      "4 0 ** 4 0 *** 0\n",
      "4 0 ** 3 1 *** 0\n",
      "4 0 ** 4 1 *** 0\n",
      "4 1 ** 3 0 *** 0\n",
      "4 1 ** 4 0 *** 0\n",
      "4 1 ** 3 1 *** 0\n",
      "4 1 ** 4 1 *** 0\n",
      "4 1 ** 3 2 *** 1\n",
      "bomb\n",
      "4 2 ** 3 1 *** 0\n",
      "4 2 ** 4 1 *** 0\n",
      "4 2 ** 3 2 *** 1\n",
      "bomb\n",
      "4 3 ** 3 2 *** 1\n",
      "bomb\n",
      "4 4 ** 3 3 *** 1\n",
      "bomb\n"
     ]
    },
    {
     "data": {
      "text/plain": [
       "13"
      ]
     },
     "execution_count": 165,
     "metadata": {},
     "output_type": "execute_result"
    }
   ],
   "source": [
    "def solution(board):\n",
    "    bomb = 0\n",
    "    dummy = [(-1, -1), (0, -1), (1, -1), (-1, 0), (0, 0), (1, 0), (-1, 1), (0, 1), (1, 1)]\n",
    "\n",
    "    for i in range(len(board)):\n",
    "      for j in range(len(board)):\n",
    "        for k in range(len(dummy)):\n",
    "          try:\n",
    "            print(i, j, '**', i+dummy[k][0], j+dummy[k][1], '***', board[i+dummy[k][0]][j+dummy[k][1]])\n",
    "            if board[i+dummy[k][0]][j+dummy[k][1]] != 1 or i+dummy[k][0] == -1 or j+dummy[k][1] == -1:\n",
    "              pass\n",
    "            else:\n",
    "              print('bomb')\n",
    "              bomb += 1\n",
    "              break\n",
    "          except:\n",
    "            continue\n",
    "        # continue\n",
    "\n",
    "    return len(board)**2 - bomb\n",
    "\n",
    "solution([[0, 0, 0, 0, 0], [0, 0, 0, 0, 0], [0, 0, 0, 0, 0], [0, 0, 1, 1, 0], [0, 0, 0, 0, 0]])"
   ]
  },
  {
   "cell_type": "code",
   "execution_count": 124,
   "metadata": {},
   "outputs": [
    {
     "data": {
      "text/plain": [
       "(-1, -1)"
      ]
     },
     "execution_count": 124,
     "metadata": {},
     "output_type": "execute_result"
    }
   ],
   "source": [
    "dummy = [(-1, -1), (0, -1), (1, -1), (-1, 0), (0, 0), (1, 0), (-1, 1), (0, 1), (1, 1)]\n",
    "dummy[0]"
   ]
  },
  {
   "cell_type": "code",
   "execution_count": 214,
   "metadata": {},
   "outputs": [
    {
     "data": {
      "text/plain": [
       "[1, 3]"
      ]
     },
     "execution_count": 214,
     "metadata": {},
     "output_type": "execute_result"
    }
   ],
   "source": [
    "def solution(today, terms, privacies):\n",
    "    answer = []\n",
    "    days_lst = [ (int(today[0:4]) - int(item[0:4]))*12*28 + (int(today[5:7]) - int(item[5:7]))*28 + (int(today[8:10]) - int(item[8:10]) + 1) for item in privacies ]\n",
    "    terms_dict = { item[0]: int(item.split()[1]) for item in terms}\n",
    "    pv_term = [ item[-1] for item in privacies]\n",
    "    # for d, t in zip(days_lst, pv_term):\n",
    "    #     print(d, t)\n",
    "    #     if d > int(terms_dict[t])*28:\n",
    "    #         print(d, int(terms_dict[t])*28, '파기')\n",
    "    # return terms_dict\n",
    "    return [ n + 1 for n, item in enumerate(zip(days_lst, pv_term)) if item[0] > int(terms_dict[item[1]])*28 ]\n",
    "\n",
    "solution(\"2022.05.19\", [\"A 6\", \"B 12\", \"C 3\"], [\"2021.05.02 A\", \"2021.07.01 B\", \"2022.02.19 C\", \"2022.02.20 C\"])\n",
    "\n"
   ]
  },
  {
   "cell_type": "code",
   "execution_count": 205,
   "metadata": {},
   "outputs": [
    {
     "name": "stdout",
     "output_type": "stream",
     "text": [
      "0 3\n",
      "1 4\n"
     ]
    }
   ],
   "source": [
    "a = [1, 2]\n",
    "b = [3, 4]\n",
    "\n",
    "for n, x in enumerate(zip(a, b)):\n",
    "  print(n, x[1])"
   ]
  },
  {
   "cell_type": "code",
   "execution_count": 212,
   "metadata": {},
   "outputs": [
    {
     "data": {
      "text/plain": [
       "'12'"
      ]
     },
     "execution_count": 212,
     "metadata": {},
     "output_type": "execute_result"
    }
   ],
   "source": [
    "a = \"B 12\"\n",
    "a.split()[1]"
   ]
  },
  {
   "cell_type": "code",
   "execution_count": 226,
   "metadata": {},
   "outputs": [
    {
     "name": "stdout",
     "output_type": "stream",
     "text": [
      "10\n",
      "2\n",
      "20\n",
      "3\n"
     ]
    },
    {
     "data": {
      "text/plain": [
       "3"
      ]
     },
     "execution_count": 226,
     "metadata": {},
     "output_type": "execute_result"
    }
   ],
   "source": [
    "def solution(t, p):\n",
    "    answer = 0\n",
    "    for i in range(len(t)-len(p)+1):\n",
    "      print(int(t[i:i+len(p)]))\n",
    "      if int(t[i:i+len(p)]) <= int(p):\n",
    "        answer += 1\n",
    "    # return sum([ 1 for i in range(len(t)-len(p)) if int(t[i:i+len(p)]) <= int(p) ])\n",
    "    return answer\n",
    "\n",
    "solution(\"10203\"\t, \"15\")"
   ]
  },
  {
   "cell_type": "code",
   "execution_count": 231,
   "metadata": {},
   "outputs": [
    {
     "data": {
      "text/plain": [
       "[-1, -1, 1, -1, -1, -1]"
      ]
     },
     "execution_count": 231,
     "metadata": {},
     "output_type": "execute_result"
    }
   ],
   "source": [
    "def solution(s):\n",
    "  answer = []\n",
    "  for i in range(len(s)):\n",
    "    # print(s.count(s[0:i+1]))\n",
    "    if s[0:i+1].count(s[i]) == 1:\n",
    "      answer.append(-1)\n",
    "    else:\n",
    "      d = s[i]; g = 1\n",
    "      while d != s[i-g]:\n",
    "        g += 1\n",
    "      answer.append(g)\n",
    "  return answer\n",
    "\n",
    "\n",
    "solution(\"foobar\")"
   ]
  },
  {
   "cell_type": "code",
   "execution_count": null,
   "metadata": {},
   "outputs": [],
   "source": [
    "def solution(s):\n",
    "  answer = 0; num = 1\n",
    "  while True:\n",
    "    for i in range(1, len(s)):\n",
    "      if s[i] != s[0]:\n",
    "        answer += 1\n",
    "        s = s[i+1:]\n",
    "      else:\n",
    "        num += 1\n",
    "\n",
    "  return answer\n",
    "\n",
    "\n",
    "solution(\"aaabbaccccabba\")"
   ]
  },
  {
   "cell_type": "code",
   "execution_count": null,
   "metadata": {},
   "outputs": [],
   "source": [
    "answer = 0\n",
    "\n",
    "def solution(s):\n",
    "  global answer\n",
    "  \n",
    "  def main(s):\n",
    "    print(s)\n",
    "    global answer\n",
    "    if s[0] != s[1]:\n",
    "      # s.pop(0); s.pop(0)\n",
    "      s = s[2:]\n",
    "      print(s)\n",
    "      answer += 1\n",
    "      print(s)\n",
    "    else:\n",
    "      for i in range(4, len(s), 2):\n",
    "        if s[:i].count(s[0]) == len(s[:i])/2:\n",
    "          s = s[i:]\n",
    "          print\n",
    "          answer += 1\n",
    "  \n",
    "  while len(s) > 1:\n",
    "    main(s)\n",
    "  \n",
    "  answer += 1\n",
    "\n",
    "  return answer\n",
    "\n",
    "\n",
    "solution(\"aaabbaccccabba\")"
   ]
  },
  {
   "cell_type": "code",
   "execution_count": 309,
   "metadata": {},
   "outputs": [
    {
     "name": "stdout",
     "output_type": "stream",
     "text": [
      "ccabba\n",
      "ba\n"
     ]
    },
    {
     "data": {
      "text/plain": [
       "3"
      ]
     },
     "execution_count": 309,
     "metadata": {},
     "output_type": "execute_result"
    }
   ],
   "source": [
    "def solution(s):\n",
    "  answer = 0\n",
    "\n",
    "  while len(s) > 3:\n",
    "    if s[0] != s[1]:\n",
    "      s = s[2:]\n",
    "      answer += 1\n",
    "      print(s, answer)\n",
    "    else:\n",
    "      for i in range(4, len(s), 2):\n",
    "        if s[:i].count(s[0]) == len(s[:i])/2:\n",
    "          s = s[i:]\n",
    "          print(s)\n",
    "          answer += 1\n",
    "  \n",
    "  if len(s) == 3 and s[0] != s[1]:\n",
    "    answer += 1\n",
    "  else:\n",
    "    pass\n",
    "\n",
    "  return answer if len(s) == 0 else answer + 1\n",
    "  # return answer\n",
    "\n",
    "\n",
    "solution(\"aaabbaccccabba\")"
   ]
  },
  {
   "cell_type": "code",
   "execution_count": null,
   "metadata": {},
   "outputs": [],
   "source": [
    "def solution(s):\n",
    "  answer = 0\n",
    "\n",
    "  for i in range(len(s)):\n",
    "    if s[i] != s[i+1]:\n",
    "      answer += 1\n",
    "      s = s[i+2:]\n",
    "    else:\n",
    "      for j in range(i+2, len(s)):\n",
    "        if \n",
    "\n",
    "\n",
    "\n",
    "  return answer\n",
    "\n",
    "solution(\"aaabbaccccabba\")"
   ]
  },
  {
   "cell_type": "code",
   "execution_count": 242,
   "metadata": {},
   "outputs": [
    {
     "ename": "TypeError",
     "evalue": "'tuple' object cannot be interpreted as an integer",
     "output_type": "error",
     "traceback": [
      "\u001b[1;31m---------------------------------------------------------------------------\u001b[0m",
      "\u001b[1;31mTypeError\u001b[0m                                 Traceback (most recent call last)",
      "\u001b[1;32mc:\\김한솔\\projects\\stock-calendar\\test.ipynb 셀 80\u001b[0m in \u001b[0;36m<cell line: 3>\u001b[1;34m()\u001b[0m\n\u001b[0;32m      <a href='vscode-notebook-cell:/c%3A/%EA%B9%80%ED%95%9C%EC%86%94/projects/stock-calendar/test.ipynb#Y144sZmlsZQ%3D%3D?line=0'>1</a>\u001b[0m a \u001b[39m=\u001b[39m [ \u001b[39m1\u001b[39m, \u001b[39m2\u001b[39m, \u001b[39m3\u001b[39m, \u001b[39m4\u001b[39m, \u001b[39m5\u001b[39m ]\n\u001b[1;32m----> <a href='vscode-notebook-cell:/c%3A/%EA%B9%80%ED%95%9C%EC%86%94/projects/stock-calendar/test.ipynb#Y144sZmlsZQ%3D%3D?line=2'>3</a>\u001b[0m a\u001b[39m.\u001b[39;49mpop((\u001b[39m0\u001b[39;49m, \u001b[39m1\u001b[39;49m))\n\u001b[0;32m      <a href='vscode-notebook-cell:/c%3A/%EA%B9%80%ED%95%9C%EC%86%94/projects/stock-calendar/test.ipynb#Y144sZmlsZQ%3D%3D?line=4'>5</a>\u001b[0m a\n",
      "\u001b[1;31mTypeError\u001b[0m: 'tuple' object cannot be interpreted as an integer"
     ]
    }
   ],
   "source": [
    "a = [ 1, 2, 3, 4, 5 ]\n",
    "\n",
    "a.pop((0, 1))\n",
    "\n",
    "a\n",
    "\n",
    "\n",
    "# for i in range(0, len(a), 2):\n",
    "#   print(i)"
   ]
  },
  {
   "cell_type": "code",
   "execution_count": 310,
   "metadata": {},
   "outputs": [
    {
     "data": {
      "text/plain": [
       "['f', 'f', 'f', 'f', 's', 's', 's', 's']"
      ]
     },
     "execution_count": 310,
     "metadata": {},
     "output_type": "execute_result"
    }
   ],
   "source": [
    "a = 'ssssffff'\n",
    "list(reversed(a))"
   ]
  },
  {
   "cell_type": "code",
   "execution_count": 319,
   "metadata": {},
   "outputs": [
    {
     "data": {
      "text/plain": [
       "21"
      ]
     },
     "execution_count": 319,
     "metadata": {},
     "output_type": "execute_result"
    }
   ],
   "source": [
    "def solution(number, limit, power):\n",
    "    def q_fac(n):\n",
    "        return len([ i for i in range(1, int((n+1)/2)+1) if n % i == 0 ]) + 1\n",
    "\n",
    "    lst = [ q_fac(i) for i in range(1, number+1)]\n",
    "    # print(lst)\n",
    "    limited_lst = [ power if i > limit else i for i in lst ]\n",
    "\n",
    "    return sum(limited_lst) - 1\n",
    "\n",
    "solution(10, 3, 2)"
   ]
  },
  {
   "cell_type": "code",
   "execution_count": 370,
   "metadata": {},
   "outputs": [
    {
     "data": {
      "text/plain": [
       "21"
      ]
     },
     "execution_count": 370,
     "metadata": {},
     "output_type": "execute_result"
    }
   ],
   "source": [
    "def solution(number, limit, power):\n",
    "    import functools\n",
    "    def primes(n):\n",
    "        primfac = []\n",
    "        d = 2\n",
    "        while d*d <= n:\n",
    "            while (n % d) == 0:\n",
    "                primfac.append(d)\n",
    "                n //= d\n",
    "            d += 1\n",
    "        if n > 1:\n",
    "            primfac.append(n)\n",
    "        return primfac\n",
    "\n",
    "    def q_fac(n):\n",
    "        set_ = set(primes(n))\n",
    "        dict_ = { i: primes(n).count(i) + 1 for i in set_ }\n",
    "        lst_ = [ dict_[i] for i in dict_.keys() ]\n",
    "        # print(dict_)\n",
    "        return functools.reduce(lambda x, y: x*y, lst_)\n",
    "\n",
    "    lst = [ q_fac(i) if i != 1 else 1 for i in range(1, number+1)]\n",
    "    limited_lst = [ power if i > limit else i for i in lst ]\n",
    "\n",
    "    return sum(limited_lst)\n",
    "\n",
    "solution(10, 3, 2)\n"
   ]
  },
  {
   "cell_type": "code",
   "execution_count": 367,
   "metadata": {},
   "outputs": [
    {
     "name": "stdout",
     "output_type": "stream",
     "text": [
      "{2: 2}\n"
     ]
    },
    {
     "data": {
      "text/plain": [
       "2"
      ]
     },
     "execution_count": 367,
     "metadata": {},
     "output_type": "execute_result"
    }
   ],
   "source": [
    "import functools\n",
    "\n",
    "def primes(n):\n",
    "  primfac = []\n",
    "  d = 2\n",
    "  while d*d <= n:\n",
    "      while (n % d) == 0:\n",
    "          primfac.append(d)\n",
    "          n //= d\n",
    "      d += 1\n",
    "  if n > 1:\n",
    "      primfac.append(n)\n",
    "  return primfac\n",
    "\n",
    "\n",
    "def q_fac(n):\n",
    "  set_ = set(primes(n))\n",
    "  dict_ = { i: primes(n).count(i) + 1 for i in set_ }\n",
    "  lst = [ dict_[i] for i in dict_.keys() ]\n",
    "  print(dict_)\n",
    "  return functools.reduce(lambda x, y: x*y, lst)\n",
    "\n",
    "q_fac(2)\n",
    "  "
   ]
  },
  {
   "cell_type": "code",
   "execution_count": 358,
   "metadata": {},
   "outputs": [
    {
     "data": {
      "text/plain": [
       "[2, 5]"
      ]
     },
     "execution_count": 358,
     "metadata": {},
     "output_type": "execute_result"
    }
   ],
   "source": [
    "a = [1, 2, 3]\n",
    "\n",
    "dict2_ = { 3: 2, 4: 5}\n",
    "\n",
    "[ dict2_[i] for i in dict2_.keys() ]"
   ]
  },
  {
   "cell_type": "code",
   "execution_count": 325,
   "metadata": {},
   "outputs": [
    {
     "data": {
      "text/plain": [
       "4"
      ]
     },
     "execution_count": 325,
     "metadata": {},
     "output_type": "execute_result"
    }
   ],
   "source": [
    "def q_fac(n):\n",
    "        return len([ i for i in range(1, int((n+1)/2)+1) if n % i == 0 ]) + 1\n",
    "\n",
    "q_fac(10)"
   ]
  },
  {
   "cell_type": "code",
   "execution_count": 330,
   "metadata": {},
   "outputs": [
    {
     "data": {
      "text/plain": [
       "9"
      ]
     },
     "execution_count": 330,
     "metadata": {},
     "output_type": "execute_result"
    }
   ],
   "source": [
    "import functools\n",
    "\n",
    "q_fac2 = functools.reduce(lambda x, y: dict_[x]*dict_[y], dict_)\n",
    "\n",
    "q_fac2"
   ]
  },
  {
   "cell_type": "code",
   "execution_count": 390,
   "metadata": {},
   "outputs": [
    {
     "name": "stdout",
     "output_type": "stream",
     "text": [
      "[[10, 4, 4]]\n",
      "[[10, 4, 4], [4, 4, 4]]\n",
      "[[10, 4, 4], [4, 4, 4], [4, 2, 2]]\n",
      "[[10, 4, 4], [4, 4, 4], [4, 2, 2], [2, 2, 1]]\n",
      "[12, 12, 6, 3]\n"
     ]
    },
    {
     "data": {
      "text/plain": [
       "33"
      ]
     },
     "execution_count": 390,
     "metadata": {},
     "output_type": "execute_result"
    }
   ],
   "source": [
    "def solution(k, m, score):\n",
    "    answer = 0\n",
    "    sorted_ = sorted(score, reverse=True)\n",
    "    lst = []\n",
    "    for i in range(0, len(score), m):\n",
    "      try:\n",
    "        lst.append([ sorted_[j+i] for j in range(m) ])\n",
    "        print(lst)\n",
    "      except:\n",
    "        pass\n",
    "\n",
    "    print([ i[m-1]*m for i in lst])\n",
    "\n",
    "    return sum([ i[m-1]*m for i in lst])\n",
    "\n",
    "\n",
    "solution(4, 3, [4, 1, 2, 2, 4, 4, 4, 4, 1, 2, 4, 2, 10])"
   ]
  },
  {
   "cell_type": "code",
   "execution_count": 391,
   "metadata": {},
   "outputs": [
    {
     "data": {
      "text/plain": [
       "[3, 6]"
      ]
     },
     "execution_count": 391,
     "metadata": {},
     "output_type": "execute_result"
    }
   ],
   "source": [
    "lst = [1, 2, 3, 4, 5, 6, 7, 8]\n",
    "\n",
    "lst[2::3]"
   ]
  },
  {
   "cell_type": "code",
   "execution_count": 401,
   "metadata": {},
   "outputs": [
    {
     "data": {
      "text/plain": [
       "'1223330333221'"
      ]
     },
     "execution_count": 401,
     "metadata": {},
     "output_type": "execute_result"
    }
   ],
   "source": [
    "def solution(food):\n",
    "    lst_ = []\n",
    "\n",
    "    for i in range(1, len(food)):\n",
    "      for j in range(food[i]//2):\n",
    "        lst_.append(i)\n",
    "\n",
    "    return ''.join( str(i) for i in lst_ + [0] + list(reversed(lst_)) )\n",
    "\n",
    "solution([1, 3, 4, 6])"
   ]
  },
  {
   "cell_type": "code",
   "execution_count": 5,
   "metadata": {},
   "outputs": [
    {
     "name": "stdout",
     "output_type": "stream",
     "text": [
      "9\n",
      "2\n",
      "1\n",
      "[2, 1, 2, 3, 1, 2, 3, 1]\n",
      "2\n",
      "[1, 2, 3, 1, 2, 3, 1]\n",
      "1\n",
      "2\n",
      "3\n",
      "[1, 2, 1, 2, 3, 1]\n",
      "1\n",
      "[2, 1, 2, 3, 1]\n",
      "5\n",
      "2\n",
      "1\n",
      "[2, 2, 3, 1]\n",
      "2\n",
      "[2, 3, 1]\n",
      "2\n",
      "3\n",
      "[2, 1]\n",
      "2\n",
      "1\n",
      "[2]\n",
      "1\n",
      "2\n",
      "2\n",
      "[]\n"
     ]
    },
    {
     "data": {
      "text/plain": [
       "[1, 2, 3, 1, 1, 2, 3, 1, 2]"
      ]
     },
     "execution_count": 5,
     "metadata": {},
     "output_type": "execute_result"
    }
   ],
   "source": [
    "def solution(ingredient):\n",
    "    answer = 0\n",
    "    hamburger_mat = [1, 2, 3, 1]\n",
    "    count_ = len(ingredient)\n",
    "    hamburger = []\n",
    "    ingre_left = []\n",
    "    \n",
    "    while count_ > 0:\n",
    "      print(count_)\n",
    "      for i in hamburger_mat:\n",
    "        count_ -= 1\n",
    "        for j in ingredient:\n",
    "          print(j)\n",
    "          if j == i:\n",
    "            hamburger.append(j)\n",
    "            ingredient.remove(j)\n",
    "            print(ingredient)\n",
    "            break\n",
    "          else:\n",
    "            ingre_left.append(j)\n",
    "\n",
    "    return hamburger\n",
    "\n",
    "\n",
    "solution([2, 1, 1, 2, 3, 1, 2, 3, 1])"
   ]
  },
  {
   "cell_type": "code",
   "execution_count": null,
   "metadata": {},
   "outputs": [],
   "source": [
    "def solution(babbling):\n",
    "\n",
    "  word = [\"aya\", \"ye\", \"woo\", \"ma\"]\n",
    "\n",
    "  for i in babbling:\n",
    "    while True:\n",
    "      if i[0:2] == 'ye':\n",
    "        i = i[]\n",
    "\n",
    "\n",
    "\n",
    "  return answer"
   ]
  },
  {
   "cell_type": "code",
   "execution_count": 9,
   "metadata": {},
   "outputs": [
    {
     "data": {
      "text/plain": [
       "9"
      ]
     },
     "execution_count": 9,
     "metadata": {},
     "output_type": "execute_result"
    }
   ],
   "source": [
    "a = ' abc / d '\n",
    "\n",
    "b = a.strip()\n",
    "\n",
    "len(a)\n"
   ]
  },
  {
   "cell_type": "code",
   "execution_count": 16,
   "metadata": {},
   "outputs": [
    {
     "data": {
      "text/plain": [
       "9"
      ]
     },
     "execution_count": 16,
     "metadata": {},
     "output_type": "execute_result"
    }
   ],
   "source": [
    "def solution(a, b, n):\n",
    "    answer = 0\n",
    "\n",
    "    while n >= a:\n",
    "      add_coke, bottle_left = divmod(n, a)\n",
    "      answer += add_coke*b\n",
    "      n = add_coke*b + bottle_left\n",
    "\n",
    "    return answer\n",
    "\n",
    "solution(3, 1, 20)"
   ]
  },
  {
   "cell_type": "code",
   "execution_count": 14,
   "metadata": {},
   "outputs": [
    {
     "data": {
      "text/plain": [
       "(6, 2)"
      ]
     },
     "execution_count": 14,
     "metadata": {},
     "output_type": "execute_result"
    }
   ],
   "source": [
    "a, b = divmod(20, 3)\n",
    "a, b"
   ]
  },
  {
   "cell_type": "code",
   "execution_count": 23,
   "metadata": {},
   "outputs": [
    {
     "data": {
      "text/plain": [
       "5"
      ]
     },
     "execution_count": 23,
     "metadata": {},
     "output_type": "execute_result"
    }
   ],
   "source": [
    "def solution(number):\n",
    "    from itertools import combinations\n",
    "\n",
    "    lst = [ sum(i) for i in list(combinations(number, 3)) ]\n",
    "\n",
    "    return lst.count(0)\n",
    "\n",
    "\n",
    "solution([-3, -2, -1, 0, 1, 2, 3])"
   ]
  },
  {
   "cell_type": "code",
   "execution_count": 122,
   "metadata": {},
   "outputs": [
    {
     "data": {
      "text/plain": [
       "'0'"
      ]
     },
     "execution_count": 122,
     "metadata": {},
     "output_type": "execute_result"
    }
   ],
   "source": [
    "def solution(X, Y):\n",
    "    answer = ''\n",
    "\n",
    "    dict_X = { i: 0 for i in '0123456789' }\n",
    "    dict_Y = { i: 0 for i in '0123456789' }\n",
    "\n",
    "    for i in X:\n",
    "      dict_X[i] += 1\n",
    "    for j in Y:\n",
    "      dict_Y[j] += 1\n",
    "    \n",
    "    for i in range(9, -1, -1):\n",
    "      i = str(i)\n",
    "      iter_num = min(dict_X[i], dict_Y[i])\n",
    "      answer = ''.join([answer, i*iter_num])\n",
    "\n",
    "    if len(set(answer)) == 1 and '0' in answer:\n",
    "      answer = '0'\n",
    "      \n",
    "    return '-1' if answer == '' else answer\n",
    "\n",
    "\n",
    "solution(\"100\", \"203045\")"
   ]
  },
  {
   "cell_type": "code",
   "execution_count": 134,
   "metadata": {},
   "outputs": [
    {
     "data": {
      "text/plain": [
       "3"
      ]
     },
     "execution_count": 134,
     "metadata": {},
     "output_type": "execute_result"
    }
   ],
   "source": [
    "def solution(n):\n",
    "    remainder = 0\n",
    "    i = 2\n",
    "    while remainder != 1:\n",
    "      remainder = n%i\n",
    "      i += 1\n",
    "\n",
    "    return i-1\n",
    "\n",
    "solution(100)"
   ]
  },
  {
   "cell_type": "code",
   "execution_count": 132,
   "metadata": {},
   "outputs": [
    {
     "data": {
      "text/plain": [
       "3"
      ]
     },
     "execution_count": 132,
     "metadata": {},
     "output_type": "execute_result"
    }
   ],
   "source": [
    "def solution(n):\n",
    "    answer = 0\n",
    "    for i in range(2, n):\n",
    "        if n % i == 1:\n",
    "            return i\n",
    "    # return answer\n",
    "\n",
    "solution(100)"
   ]
  },
  {
   "cell_type": "code",
   "execution_count": 135,
   "metadata": {},
   "outputs": [
    {
     "data": {
      "text/plain": [
       "4000"
      ]
     },
     "execution_count": 135,
     "metadata": {},
     "output_type": "execute_result"
    }
   ],
   "source": [
    "def solution(sizes):\n",
    "    max_w = 0; max_h = 0\n",
    "\n",
    "    for i in sizes:\n",
    "      if sorted(i)[0] > max_w:\n",
    "        max_w = sorted(i)[0]\n",
    "      if sorted(i)[1] > max_h:\n",
    "        max_h = sorted(i)[1]\n",
    "\n",
    "    return max_w*max_h\n",
    "\n",
    "solution([[60, 50], [30, 70], [60, 30], [80, 40]])"
   ]
  },
  {
   "cell_type": "code",
   "execution_count": 146,
   "metadata": {},
   "outputs": [
    {
     "data": {
      "text/plain": [
       "15"
      ]
     },
     "execution_count": 146,
     "metadata": {},
     "output_type": "execute_result"
    }
   ],
   "source": [
    "sum([[60, 50], [30, 70], [60, 30], [80, 40]], [])\n",
    "sum([1, 2, 3, 4], 5)"
   ]
  },
  {
   "cell_type": "code",
   "execution_count": 153,
   "metadata": {},
   "outputs": [
    {
     "data": {
      "text/plain": [
       "40"
      ]
     },
     "execution_count": 153,
     "metadata": {},
     "output_type": "execute_result"
    }
   ],
   "source": [
    "sum(set([10, 20, 30]) - set([20, 40]))"
   ]
  },
  {
   "cell_type": "code",
   "execution_count": 156,
   "metadata": {},
   "outputs": [
    {
     "data": {
      "text/plain": [
       "'1478'"
      ]
     },
     "execution_count": 156,
     "metadata": {},
     "output_type": "execute_result"
    }
   ],
   "source": [
    "def solution(s):\n",
    "    dict_ = {'zero': '0', 'one': '1', 'two': '2', 'three': '3', 'four': '4', 'five': '5', 'six': '6', 'seven': '7', 'eight': '8', 'nine': '9'}\n",
    "    \n",
    "    for i in dict_:\n",
    "      s = s.replace(i, dict_[i])\n",
    "    \n",
    "    return s\n",
    "\n",
    "solution(\"one4seveneight\")"
   ]
  },
  {
   "cell_type": "code",
   "execution_count": 176,
   "metadata": {},
   "outputs": [
    {
     "name": "stdout",
     "output_type": "stream",
     "text": [
      "{'y', 'k', 'x', 's', 'w', 'u', 'l', 'r', 't', 'p', 'z', 'n', 'o', 'v', 'q', 'm'}\n",
      "['k', 'l', 'm', 'n', 'o', 'p', 'q', 'r', 's', 't', 'u', 'v', 'w', 'x', 'y', 'z']\n",
      "16\n",
      "{'k': 0, 'l': 1, 'm': 2, 'n': 3, 'o': 4, 'p': 5, 'q': 6, 'r': 7, 's': 8, 't': 9, 'u': 10, 'v': 11, 'w': 12, 'x': 13, 'y': 14, 'z': 15}\n"
     ]
    },
    {
     "data": {
      "text/plain": [
       "'n'"
      ]
     },
     "execution_count": 176,
     "metadata": {},
     "output_type": "execute_result"
    }
   ],
   "source": [
    "from string import ascii_lowercase\n",
    "\n",
    "def solution(s, skip, index):\n",
    "    result = ''\n",
    "\n",
    "    a_to_z = set(ascii_lowercase)\n",
    "    a_to_z -= set(skip)\n",
    "    print(a_to_z)\n",
    "    a_to_z = sorted(a_to_z)\n",
    "    print(a_to_z)\n",
    "    l = len(a_to_z)\n",
    "    print(l)\n",
    "\n",
    "    dic_alpha = {alpha:idx for idx, alpha in enumerate(a_to_z)}\n",
    "    print(dic_alpha)\n",
    "\n",
    "    for i in s:\n",
    "        result += a_to_z[(dic_alpha[i] + index) % l]\n",
    "\n",
    "    return result\n",
    "\n",
    "solution(\"z\", \"abcdefghij\", 20)"
   ]
  },
  {
   "cell_type": "code",
   "execution_count": 211,
   "metadata": {},
   "outputs": [
    {
     "data": {
      "text/plain": [
       "'LLRLLRLLRL'"
      ]
     },
     "execution_count": 211,
     "metadata": {},
     "output_type": "execute_result"
    }
   ],
   "source": [
    "def solution(numbers, hand):\n",
    "    answer = ''\n",
    "    numbers = [ 11 if i == 0 else i for i in numbers ]\n",
    "    l_former = 10; r_former = 12\n",
    "\n",
    "    for i in numbers:\n",
    "        if i in [1, 4, 7]:\n",
    "            answer += 'L'\n",
    "            l_former = i\n",
    "        elif i in [3, 6, 9]:\n",
    "            answer += 'R'\n",
    "            r_former = i\n",
    "        else:\n",
    "            # print(i, l_former, r_former)\n",
    "\n",
    "            d_l_i_v = abs((l_former-1)//3 - (i-1)//3)\n",
    "            d_l_i_h = 0 if abs((l_former - i)%3) == 0 else 1\n",
    "            d_l_i = d_l_i_v + d_l_i_h\n",
    "            # print(d_l_i, d_l_i_v, d_l_i_h)\n",
    "\n",
    "            d_r_i_v = abs((r_former-1)//3 - (i-1)//3)\n",
    "            d_r_i_h = 0 if abs((r_former - i)%3) == 0 else 1\n",
    "            d_r_i = d_r_i_v + d_r_i_h\n",
    "            # print(d_r_i, d_r_i_v, d_r_i_h)\n",
    "\n",
    "            if d_l_i < d_r_i:\n",
    "                l_former = i\n",
    "                answer += 'L'\n",
    "            elif d_l_i > d_r_i:\n",
    "                r_former = i\n",
    "                answer += 'R'\n",
    "            else:\n",
    "                if hand == 'left':\n",
    "                    l_former = i\n",
    "                else:\n",
    "                    r_former = i\n",
    "                answer += hand[0].upper()\n",
    "            \n",
    "\n",
    "    return answer\n",
    "\n",
    "\n",
    "solution([1, 2, 3, 4, 5, 6, 7, 8, 9, 0], \"right\")"
   ]
  },
  {
   "cell_type": "code",
   "execution_count": 285,
   "metadata": {},
   "outputs": [
    {
     "name": "stdout",
     "output_type": "stream",
     "text": [
      "   0  1  2  3  4\n",
      "0  0  0  0  0  0\n",
      "1  0  0  1  0  3\n",
      "2  0  2  5  0  1\n",
      "3  4  2  4  4  2\n",
      "4  3  5  1  3  1\n",
      "1 [4]\n",
      "5 [4, 3]\n",
      "3 [4, 3, 1]\n",
      "5 [4, 3, 1, 1]\n",
      "1 [4, 3, 1, 1, 3]\n",
      "2 [4, 3, 1, 1, 3, 2]\n",
      "1 [4, 3, 1, 1, 3, 2]\n",
      "4 [4, 3, 1, 1, 3, 2, 4]\n"
     ]
    },
    {
     "data": {
      "text/plain": [
       "4"
      ]
     },
     "execution_count": 285,
     "metadata": {},
     "output_type": "execute_result"
    }
   ],
   "source": [
    "def solution(board, moves):\n",
    "    import pandas as pd\n",
    "    lst = []\n",
    "\n",
    "    df = pd.DataFrame(board)\n",
    "    # print(df)\n",
    "\n",
    "    for p in moves:\n",
    "        i = 0\n",
    "        while i <= len(df.index) -1:\n",
    "            if df.iloc[i][p-1] == 0:\n",
    "                i += 1\n",
    "            else:\n",
    "                lst.append(df.iloc[i][p-1])\n",
    "                df.at[i, p-1] = 0\n",
    "                break\n",
    "            # print(df)\n",
    "\n",
    "        # print(p, lst)\n",
    "    \n",
    "    num_lst = len(lst)\n",
    "\n",
    "    def neighborhood(iterable):\n",
    "        iterator = iter(iterable)\n",
    "        prev_item = None\n",
    "        current_item = next(iterator)  # throws StopIteration if empty.\n",
    "        for next_item in iterator:\n",
    "            yield (prev_item, current_item, next_item)\n",
    "            prev_item = current_item\n",
    "            current_item = next_item\n",
    "        yield (prev_item, current_item, None)\n",
    "\n",
    "    count = 1\n",
    "    while count != 0:\n",
    "        count = 0\n",
    "        for p, c, n in neighborhood(lst):\n",
    "            if c == n:\n",
    "                lst.remove(c); lst.remove(n)\n",
    "                count += 1\n",
    "                \n",
    "    return num_lst - len(lst)\n",
    "\n",
    "\n",
    "\n",
    "solution([[0,0,0,0,0],[0,0,1,0,3],[0,2,5,0,1],[4,2,4,4,2],[3,5,1,3,1]], [1,5,3,5,1,2,1,4])"
   ]
  },
  {
   "cell_type": "code",
   "execution_count": 272,
   "metadata": {},
   "outputs": [
    {
     "name": "stdout",
     "output_type": "stream",
     "text": [
      "0 4 3\n",
      "1 3 1\n",
      "2 1 1\n",
      "[4, 3, 3, 2, 4]\n",
      "3 2 4\n"
     ]
    },
    {
     "ename": "IndexError",
     "evalue": "list index out of range",
     "output_type": "error",
     "traceback": [
      "\u001b[1;31m---------------------------------------------------------------------------\u001b[0m",
      "\u001b[1;31mIndexError\u001b[0m                                Traceback (most recent call last)",
      "\u001b[1;32mc:\\김한솔\\projects\\stock-calendar\\test.ipynb 셀 109\u001b[0m in \u001b[0;36m<cell line: 4>\u001b[1;34m()\u001b[0m\n\u001b[0;32m      <a href='vscode-notebook-cell:/c%3A/%EA%B9%80%ED%95%9C%EC%86%94/projects/stock-calendar/test.ipynb#Y234sZmlsZQ%3D%3D?line=3'>4</a>\u001b[0m \u001b[39mwhile\u001b[39;00m \u001b[39mTrue\u001b[39;00m:\n\u001b[0;32m      <a href='vscode-notebook-cell:/c%3A/%EA%B9%80%ED%95%9C%EC%86%94/projects/stock-calendar/test.ipynb#Y234sZmlsZQ%3D%3D?line=4'>5</a>\u001b[0m     \u001b[39mfor\u001b[39;00m i \u001b[39min\u001b[39;00m \u001b[39mrange\u001b[39m(\u001b[39m0\u001b[39m, \u001b[39mlen\u001b[39m(lst) \u001b[39m-\u001b[39m \u001b[39m1\u001b[39m):\n\u001b[1;32m----> <a href='vscode-notebook-cell:/c%3A/%EA%B9%80%ED%95%9C%EC%86%94/projects/stock-calendar/test.ipynb#Y234sZmlsZQ%3D%3D?line=5'>6</a>\u001b[0m         \u001b[39mprint\u001b[39m(i, lst[i], lst[i\u001b[39m+\u001b[39;49m\u001b[39m1\u001b[39;49m])\n\u001b[0;32m      <a href='vscode-notebook-cell:/c%3A/%EA%B9%80%ED%95%9C%EC%86%94/projects/stock-calendar/test.ipynb#Y234sZmlsZQ%3D%3D?line=6'>7</a>\u001b[0m         \u001b[39mif\u001b[39;00m lst[i] \u001b[39m==\u001b[39m lst[i\u001b[39m+\u001b[39m\u001b[39m1\u001b[39m]:\n\u001b[0;32m      <a href='vscode-notebook-cell:/c%3A/%EA%B9%80%ED%95%9C%EC%86%94/projects/stock-calendar/test.ipynb#Y234sZmlsZQ%3D%3D?line=7'>8</a>\u001b[0m             lst\u001b[39m.\u001b[39mremove(lst[i]); lst\u001b[39m.\u001b[39mremove(lst[i])\n",
      "\u001b[1;31mIndexError\u001b[0m: list index out of range"
     ]
    }
   ],
   "source": [
    "lst = [4, 3, 1, 1, 3, 2, 4]\n",
    "answer = 0\n",
    "\n",
    "while True:\n",
    "    for i in range(0, len(lst) - 1):\n",
    "        print(i, lst[i], lst[i+1])\n",
    "        if lst[i] == lst[i+1]:\n",
    "            lst.remove(lst[i]); lst.remove(lst[i])\n",
    "            answer += 2\n",
    "            print(lst)\n",
    "\n",
    "answer"
   ]
  },
  {
   "cell_type": "code",
   "execution_count": 284,
   "metadata": {},
   "outputs": [
    {
     "name": "stdout",
     "output_type": "stream",
     "text": [
      "[4, 3, 3, 2, 4]\n",
      "[4, 2, 4]\n"
     ]
    }
   ],
   "source": [
    "lst = [4, 3, 1, 1, 3, 2, 4]\n",
    "\n",
    "def neighborhood(iterable):\n",
    "    iterator = iter(iterable)\n",
    "    prev_item = None\n",
    "    current_item = next(iterator)  # throws StopIteration if empty.\n",
    "    for next_item in iterator:\n",
    "        yield (prev_item, current_item, next_item)\n",
    "        prev_item = current_item\n",
    "        current_item = next_item\n",
    "    yield (prev_item, current_item, None)\n",
    "\n",
    "count = 1\n",
    "while count != 0:\n",
    "    count = 0\n",
    "    for p, c, n in neighborhood(lst):\n",
    "        if c == n:\n",
    "            lst.remove(c); lst.remove(n)\n",
    "            count += 1\n",
    "            print(lst)\n",
    "\n",
    "\n"
   ]
  },
  {
   "cell_type": "code",
   "execution_count": 282,
   "metadata": {},
   "outputs": [
    {
     "data": {
      "text/plain": [
       "4"
      ]
     },
     "execution_count": 282,
     "metadata": {},
     "output_type": "execute_result"
    }
   ],
   "source": [
    "lst = [4, 3, 1, 1, 3, 2, 4]\n",
    "len(set(lst))\n",
    "# len(lst)"
   ]
  },
  {
   "cell_type": "code",
   "execution_count": 248,
   "metadata": {},
   "outputs": [
    {
     "name": "stdout",
     "output_type": "stream",
     "text": [
      "   0  1  2  3  4\n",
      "0  0  0  0  0  0\n",
      "1  0  0  1  0  3\n",
      "2  0  2  5  0  1\n",
      "3  4  2  4  4  2\n",
      "4  3  5  1  3  1\n",
      "5  3  5  1  3  1\n"
     ]
    },
    {
     "data": {
      "text/plain": [
       "6"
      ]
     },
     "execution_count": 248,
     "metadata": {},
     "output_type": "execute_result"
    }
   ],
   "source": [
    "import pandas as pd\n",
    "\n",
    "df = pd.DataFrame([[0,0,0,0,0],[0,0,1,0,3],[0,2,5,0,1],[4,2,4,4,2],[3,5,1,3,1], [3,5,1,3,1]])\n",
    "print(df)\n",
    "\n",
    "df.at[3, 2] = '*'\n",
    "\n",
    "len(df.index)"
   ]
  },
  {
   "cell_type": "code",
   "execution_count": 259,
   "metadata": {},
   "outputs": [
    {
     "ename": "TypeError",
     "evalue": "<lambda>() missing 1 required positional argument: 'y'",
     "output_type": "error",
     "traceback": [
      "\u001b[1;31m---------------------------------------------------------------------------\u001b[0m",
      "\u001b[1;31mTypeError\u001b[0m                                 Traceback (most recent call last)",
      "\u001b[1;32mc:\\김한솔\\projects\\stock-calendar\\test.ipynb 셀 110\u001b[0m in \u001b[0;36m<cell line: 6>\u001b[1;34m()\u001b[0m\n\u001b[0;32m      <a href='vscode-notebook-cell:/c%3A/%EA%B9%80%ED%95%9C%EC%86%94/projects/stock-calendar/test.ipynb#Y233sZmlsZQ%3D%3D?line=2'>3</a>\u001b[0m \u001b[39m# lst = functools.filter(lambda x, y: '' if x == y, [4, 3, 1, 1, 3, 2, 4])\u001b[39;00m\n\u001b[0;32m      <a href='vscode-notebook-cell:/c%3A/%EA%B9%80%ED%95%9C%EC%86%94/projects/stock-calendar/test.ipynb#Y233sZmlsZQ%3D%3D?line=3'>4</a>\u001b[0m lst \u001b[39m=\u001b[39m \u001b[39mfilter\u001b[39m(\u001b[39mlambda\u001b[39;00m x, y: x \u001b[39m==\u001b[39m y, [\u001b[39m4\u001b[39m, \u001b[39m3\u001b[39m, \u001b[39m1\u001b[39m, \u001b[39m1\u001b[39m, \u001b[39m3\u001b[39m, \u001b[39m2\u001b[39m, \u001b[39m4\u001b[39m])\n\u001b[1;32m----> <a href='vscode-notebook-cell:/c%3A/%EA%B9%80%ED%95%9C%EC%86%94/projects/stock-calendar/test.ipynb#Y233sZmlsZQ%3D%3D?line=5'>6</a>\u001b[0m \u001b[39mlist\u001b[39;49m(lst)\n",
      "\u001b[1;31mTypeError\u001b[0m: <lambda>() missing 1 required positional argument: 'y'"
     ]
    }
   ],
   "source": [
    "import functools, itertools\n",
    "n = 0\n",
    "# lst = functools.filter(lambda x, y: '' if x == y, [4, 3, 1, 1, 3, 2, 4])\n",
    "lst = filter(lambda x, y: x == y, [4, 3, 1, 1, 3, 2, 4])\n",
    "\n",
    "list(lst)\n"
   ]
  },
  {
   "cell_type": "code",
   "execution_count": 207,
   "metadata": {},
   "outputs": [
    {
     "data": {
      "text/plain": [
       "[1, 3, 4, 5, 8, 2, 1, 4, 5, 11, 5]"
      ]
     },
     "execution_count": 207,
     "metadata": {},
     "output_type": "execute_result"
    }
   ],
   "source": [
    "numbers = [1, 3, 4, 5, 8, 2, 1, 4, 5, 0, 5]\n",
    "numbers = [ 11 if i == 0 else i for i in numbers]\n",
    "numbers"
   ]
  },
  {
   "cell_type": "code",
   "execution_count": 199,
   "metadata": {},
   "outputs": [
    {
     "data": {
      "text/plain": [
       "2"
      ]
     },
     "execution_count": 199,
     "metadata": {},
     "output_type": "execute_result"
    }
   ],
   "source": [
    "a = 1; b = 2\n",
    "a if a == 2 else b\n"
   ]
  },
  {
   "cell_type": "code",
   "execution_count": 178,
   "metadata": {},
   "outputs": [
    {
     "data": {
      "text/plain": [
       "'S'"
      ]
     },
     "execution_count": 178,
     "metadata": {},
     "output_type": "execute_result"
    }
   ],
   "source": [
    "a = 'str'\n",
    "a[0].upper()"
   ]
  },
  {
   "cell_type": "code",
   "execution_count": 177,
   "metadata": {},
   "outputs": [
    {
     "data": {
      "text/plain": [
       "3"
      ]
     },
     "execution_count": 177,
     "metadata": {},
     "output_type": "execute_result"
    }
   ],
   "source": [
    "def solution(a, b):\n",
    "    import numpy as np\n",
    "    return np.inner(a, b)\n",
    "\n",
    "\n",
    "solution([1,2,3,4], [-3,-1,0,2])"
   ]
  },
  {
   "cell_type": "code",
   "execution_count": 171,
   "metadata": {},
   "outputs": [
    {
     "data": {
      "text/plain": [
       "'t'"
      ]
     },
     "execution_count": 171,
     "metadata": {},
     "output_type": "execute_result"
    }
   ],
   "source": [
    "chr(116)"
   ]
  },
  {
   "cell_type": "code",
   "execution_count": 159,
   "metadata": {},
   "outputs": [
    {
     "data": {
      "text/plain": [
       "{1, 2, 3}"
      ]
     },
     "execution_count": 159,
     "metadata": {},
     "output_type": "execute_result"
    }
   ],
   "source": [
    "set([1, 2, 3])"
   ]
  },
  {
   "cell_type": "code",
   "execution_count": 158,
   "metadata": {},
   "outputs": [
    {
     "name": "stdout",
     "output_type": "stream",
     "text": [
      "0 a\n",
      "1 b\n",
      "2 c\n"
     ]
    }
   ],
   "source": [
    "for i, v in enumerate(['a', 'b', 'c']):\n",
    "  print(i, v)"
   ]
  },
  {
   "cell_type": "code",
   "execution_count": 130,
   "metadata": {},
   "outputs": [
    {
     "data": {
      "text/plain": [
       "63.245553203367585"
      ]
     },
     "execution_count": 130,
     "metadata": {},
     "output_type": "execute_result"
    }
   ],
   "source": [
    "import math\n",
    "math.sqrt(4000)"
   ]
  },
  {
   "cell_type": "code",
   "execution_count": 119,
   "metadata": {},
   "outputs": [
    {
     "data": {
      "text/plain": [
       "1"
      ]
     },
     "execution_count": 119,
     "metadata": {},
     "output_type": "execute_result"
    }
   ],
   "source": [
    "a = '00'\n",
    "len(set(a))"
   ]
  },
  {
   "cell_type": "code",
   "execution_count": 94,
   "metadata": {},
   "outputs": [
    {
     "data": {
      "text/plain": [
       "'abc123'"
      ]
     },
     "execution_count": 94,
     "metadata": {},
     "output_type": "execute_result"
    }
   ],
   "source": [
    "a = 'abc'\n",
    "b = '123'\n",
    "\n",
    "c = ''.join([a, b])\n",
    "c"
   ]
  },
  {
   "cell_type": "code",
   "execution_count": 61,
   "metadata": {},
   "outputs": [
    {
     "data": {
      "text/plain": [
       "3"
      ]
     },
     "execution_count": 61,
     "metadata": {},
     "output_type": "execute_result"
    }
   ],
   "source": [
    "a = 'aaabbb'\n",
    "\n",
    "a.count('a')"
   ]
  },
  {
   "cell_type": "code",
   "execution_count": 26,
   "metadata": {},
   "outputs": [
    {
     "data": {
      "text/plain": [
       "'2345'"
      ]
     },
     "execution_count": 26,
     "metadata": {},
     "output_type": "execute_result"
    }
   ],
   "source": [
    "a = '12345'\n",
    "a.replace('1', '')\n"
   ]
  }
 ],
 "metadata": {
  "kernelspec": {
   "display_name": "Python 3.10.8 64-bit (microsoft store)",
   "language": "python",
   "name": "python3"
  },
  "language_info": {
   "codemirror_mode": {
    "name": "ipython",
    "version": 3
   },
   "file_extension": ".py",
   "mimetype": "text/x-python",
   "name": "python",
   "nbconvert_exporter": "python",
   "pygments_lexer": "ipython3",
   "version": "3.10.10"
  },
  "orig_nbformat": 4,
  "vscode": {
   "interpreter": {
    "hash": "7b1f2b33e866b0bf2409397e5f58ba9cdf170d3b7f64c8f359c79998e2f88ad4"
   }
  }
 },
 "nbformat": 4,
 "nbformat_minor": 2
}
