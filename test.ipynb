{
 "cells": [
  {
   "cell_type": "code",
   "execution_count": 13,
   "metadata": {},
   "outputs": [],
   "source": [
    "import xmltodict, json, feedparser"
   ]
  },
  {
   "cell_type": "code",
   "execution_count": 14,
   "metadata": {},
   "outputs": [
    {
     "data": {
      "text/plain": [
       "{'bozo': False,\n",
       " 'entries': [],\n",
       " 'feed': {'title': 'DART : 최근공시',\n",
       "  'title_detail': {'type': 'text/plain',\n",
       "   'language': None,\n",
       "   'base': 'https://dart.fss.or.kr/api/todayRSS.xml',\n",
       "   'value': 'DART : 최근공시'},\n",
       "  'links': [{'rel': 'alternate',\n",
       "    'type': 'text/html',\n",
       "    'href': 'http://dart.fss.or.kr'}],\n",
       "  'link': 'http://dart.fss.or.kr',\n",
       "  'subtitle': 'DART 전자공시 시스템 - 최근 공시 정보를 제공합니다.',\n",
       "  'subtitle_detail': {'type': 'text/html',\n",
       "   'language': None,\n",
       "   'base': 'https://dart.fss.or.kr/api/todayRSS.xml',\n",
       "   'value': 'DART 전자공시 시스템 - 최근 공시 정보를 제공합니다.'},\n",
       "  'language': 'ko',\n",
       "  'rights': 'DART',\n",
       "  'rights_detail': {'type': 'text/plain',\n",
       "   'language': None,\n",
       "   'base': 'https://dart.fss.or.kr/api/todayRSS.xml',\n",
       "   'value': 'DART'},\n",
       "  'published': 'Mon, 22 Aug 2022 21:35:43 GMT',\n",
       "  'published_parsed': time.struct_time(tm_year=2022, tm_mon=8, tm_mday=22, tm_hour=21, tm_min=35, tm_sec=43, tm_wday=0, tm_yday=234, tm_isdst=0),\n",
       "  'authors': [{'name': 'DART'}],\n",
       "  'author': 'DART',\n",
       "  'author_detail': {'name': 'DART'},\n",
       "  'updated': '2022-08-22T21:35:43Z',\n",
       "  'updated_parsed': time.struct_time(tm_year=2022, tm_mon=8, tm_mday=22, tm_hour=21, tm_min=35, tm_sec=43, tm_wday=0, tm_yday=234, tm_isdst=0)},\n",
       " 'headers': {'connection': 'close',\n",
       "  'set-cookie': 'WMONID=gh_xj-PkXri; Expires=Wed, 23-Aug-2023 6:35:43 GMT; Path=/',\n",
       "  'date': 'Mon, 22 Aug 2022 21:35:43 GMT',\n",
       "  'content-type': 'text/xml; charset=UTF-8'},\n",
       " 'href': 'https://dart.fss.or.kr/api/todayRSS.xml',\n",
       " 'status': 302,\n",
       " 'encoding': 'UTF-8',\n",
       " 'version': 'rss20',\n",
       " 'namespaces': {'dc': 'http://purl.org/dc/elements/1.1/'}}"
      ]
     },
     "execution_count": 14,
     "metadata": {},
     "output_type": "execute_result"
    }
   ],
   "source": [
    "rss_info = feedparser.parse('http://dart.fss.or.kr/api/todayRSS.xml')\n",
    "rss_info"
   ]
  },
  {
   "cell_type": "code",
   "execution_count": 11,
   "metadata": {},
   "outputs": [
    {
     "ename": "OSError",
     "evalue": "[Errno 22] Invalid argument: 'https://dart.fss.or.kr/api/todayRSS.xml'",
     "output_type": "error",
     "traceback": [
      "\u001b[1;31m---------------------------------------------------------------------------\u001b[0m",
      "\u001b[1;31mOSError\u001b[0m                                   Traceback (most recent call last)",
      "\u001b[1;32mc:\\김한솔\\projects\\stock-calendar\\test.ipynb 셀 2\u001b[0m in \u001b[0;36m<cell line: 1>\u001b[1;34m()\u001b[0m\n\u001b[1;32m----> <a href='vscode-notebook-cell:/c%3A/%EA%B9%80%ED%95%9C%EC%86%94/projects/stock-calendar/test.ipynb#W3sZmlsZQ%3D%3D?line=0'>1</a>\u001b[0m \u001b[39mwith\u001b[39;00m \u001b[39mopen\u001b[39;49m(\u001b[39m'\u001b[39;49m\u001b[39mhttps://dart.fss.or.kr/api/todayRSS.xml\u001b[39;49m\u001b[39m'\u001b[39;49m) \u001b[39mas\u001b[39;00m dx:\n\u001b[0;32m      <a href='vscode-notebook-cell:/c%3A/%EA%B9%80%ED%95%9C%EC%86%94/projects/stock-calendar/test.ipynb#W3sZmlsZQ%3D%3D?line=1'>2</a>\u001b[0m   doc \u001b[39m=\u001b[39m xmltodict\u001b[39m.\u001b[39mparse(dx\u001b[39m.\u001b[39mread())\n\u001b[0;32m      <a href='vscode-notebook-cell:/c%3A/%EA%B9%80%ED%95%9C%EC%86%94/projects/stock-calendar/test.ipynb#W3sZmlsZQ%3D%3D?line=3'>4</a>\u001b[0m doc\n",
      "\u001b[1;31mOSError\u001b[0m: [Errno 22] Invalid argument: 'https://dart.fss.or.kr/api/todayRSS.xml'"
     ]
    }
   ],
   "source": [
    "with open('http://dart.fss.or.kr/api/todayRSS.xml') as dx:\n",
    "  doc = xmltodict.parse(dx.read())\n",
    "\n",
    "doc"
   ]
  },
  {
   "cell_type": "code",
   "execution_count": null,
   "metadata": {},
   "outputs": [
    {
     "name": "stdout",
     "output_type": "stream",
     "text": [
      "hello again\n"
     ]
    }
   ],
   "source": [
    "print('hello again')"
   ]
  }
 ],
 "metadata": {
  "kernelspec": {
   "display_name": "Python 3.10.6 64-bit (windows store)",
   "language": "python",
   "name": "python3"
  },
  "language_info": {
   "codemirror_mode": {
    "name": "ipython",
    "version": 3
   },
   "file_extension": ".py",
   "mimetype": "text/x-python",
   "name": "python",
   "nbconvert_exporter": "python",
   "pygments_lexer": "ipython3",
   "version": "3.10.6"
  },
  "orig_nbformat": 4,
  "vscode": {
   "interpreter": {
    "hash": "7b1f2b33e866b0bf2409397e5f58ba9cdf170d3b7f64c8f359c79998e2f88ad4"
   }
  }
 },
 "nbformat": 4,
 "nbformat_minor": 2
}
